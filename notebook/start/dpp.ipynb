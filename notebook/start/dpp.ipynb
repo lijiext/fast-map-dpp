{
 "cells": [
  {
   "cell_type": "code",
   "execution_count": 4,
   "metadata": {},
   "outputs": [],
   "source": [
    "import numpy as np\n",
    "import math"
   ]
  },
  {
   "cell_type": "code",
   "execution_count": 5,
   "metadata": {},
   "outputs": [],
   "source": [
    "np.set_printoptions(linewidth=400)"
   ]
  },
  {
   "cell_type": "code",
   "execution_count": 6,
   "metadata": {},
   "outputs": [],
   "source": [
    "item_size = 5\n",
    "\n",
    "feature_dimension = 3\n",
    "\n",
    "max_length = 5\n",
    "\n",
    "epsilon = 1E-10"
   ]
  },
  {
   "cell_type": "code",
   "execution_count": 7,
   "metadata": {},
   "outputs": [
    {
     "name": "stdout",
     "output_type": "stream",
     "text": [
      "scores: [1.21297624 1.22586152 1.21057362 1.21677457 1.22013304]\n"
     ]
    }
   ],
   "source": [
    "scores = np.exp(0.01 * np.random.randn(item_size) + 0.2)\n",
    "print('scores:', scores)"
   ]
  },
  {
   "cell_type": "code",
   "execution_count": 8,
   "metadata": {},
   "outputs": [
    {
     "name": "stdout",
     "output_type": "stream",
     "text": [
      "feature_vectors:\n",
      "[[-0.17174287 -0.99873789 -0.05258756]\n",
      " [-1.70913402  0.96420233 -1.28747995]\n",
      " [-0.53881915  0.95417399 -0.02756083]\n",
      " [-1.06347204  0.16266527 -1.94222414]\n",
      " [-0.55641947 -0.03230687 -0.84759519]]\n"
     ]
    }
   ],
   "source": [
    "feature_vectors = np.random.randn(item_size, feature_dimension)\n",
    "print('feature_vectors:', feature_vectors, sep='\\n')"
   ]
  },
  {
   "cell_type": "code",
   "execution_count": 9,
   "metadata": {},
   "outputs": [
    {
     "name": "stdout",
     "output_type": "stream",
     "text": [
      "l2_norm_feature_vectors:\n",
      "[[-0.16924477 -0.98421066 -0.05182264]\n",
      " [-0.72821934  0.41082254 -0.54856306]\n",
      " [-0.49155832  0.87048161 -0.02514342]\n",
      " [-0.47897988  0.07326322 -0.87476327]\n",
      " [-0.54850568 -0.03184738 -0.8355401 ]]\n"
     ]
    }
   ],
   "source": [
    "feature_vectors = feature_vectors / np.linalg.norm(feature_vectors, axis=1, keepdims=True)\n",
    "print('l2_norm_feature_vectors:', feature_vectors, sep='\\n')"
   ]
  },
  {
   "cell_type": "code",
   "execution_count": 10,
   "metadata": {},
   "outputs": [
    {
     "name": "stdout",
     "output_type": "stream",
     "text": [
      "similarities:\n",
      "[[ 1.         -0.25266062 -0.7722406   0.05429094  0.16747615]\n",
      " [-0.25266062  1.          0.72936849  0.85876341  0.84469526]\n",
      " [-0.7722406   0.72936849  1.          0.32121537  0.26290831]\n",
      " [ 0.05429094  0.85876341  0.32121537  1.          0.99128973]\n",
      " [ 0.16747615  0.84469526  0.26290831  0.99128973  1.        ]]\n"
     ]
    }
   ],
   "source": [
    "similarities = np.dot(feature_vectors, feature_vectors.T)\n",
    "print('similarities:', similarities, sep='\\n')"
   ]
  },
  {
   "cell_type": "code",
   "execution_count": 11,
   "metadata": {},
   "outputs": [
    {
     "name": "stdout",
     "output_type": "stream",
     "text": [
      "reshaeped score:\n",
      "[[1.47131136 1.4869409  1.46839703 1.47591865 1.47999239]\n",
      " [1.4869409  1.50273646 1.48399561 1.49159713 1.49571415]\n",
      " [1.46839703 1.48399561 1.46548848 1.4729952  1.47706087]\n",
      " [1.47591865 1.49159713 1.4729952  1.48054036 1.48462686]\n",
      " [1.47999239 1.49571415 1.47706087 1.48462686 1.48872464]]\n"
     ]
    }
   ],
   "source": [
    "kernel_matrix = scores.reshape((item_size, 1)) * similarities * scores.reshape((1, item_size))\n",
    "print('reshaeped score:', scores.reshape((item_size, 1)) * scores.reshape((1, item_size)), sep='\\n')"
   ]
  },
  {
   "cell_type": "code",
   "execution_count": 12,
   "metadata": {},
   "outputs": [
    {
     "name": "stdout",
     "output_type": "stream",
     "text": [
      "kernel_matrix:\n",
      "[[ 1.47131136 -0.37569141 -1.13395581  0.08012901  0.24786343]\n",
      " [-0.37569141  1.50273646  1.08237964  1.28092904  1.26342265]\n",
      " [-1.13395581  1.08237964  1.46548848  0.4731487   0.38833158]\n",
      " [ 0.08012901  1.28092904  0.4731487   1.48054036  1.47169537]\n",
      " [ 0.24786343  1.26342265  0.38833158  1.47169537  1.48872464]]\n"
     ]
    }
   ],
   "source": [
    "print('kernel_matrix:', kernel_matrix, sep='\\n')"
   ]
  },
  {
   "cell_type": "code",
   "execution_count": 13,
   "metadata": {},
   "outputs": [],
   "source": [
    "cis = np.zeros((max_length, item_size))"
   ]
  },
  {
   "cell_type": "code",
   "execution_count": 14,
   "metadata": {},
   "outputs": [],
   "source": [
    "di2s = np.copy(np.diag(kernel_matrix))"
   ]
  },
  {
   "cell_type": "code",
   "execution_count": 15,
   "metadata": {},
   "outputs": [],
   "source": [
    "selected_items = list()"
   ]
  },
  {
   "cell_type": "code",
   "execution_count": 16,
   "metadata": {},
   "outputs": [],
   "source": [
    "selected_item = np.argmax(di2s)"
   ]
  },
  {
   "cell_type": "code",
   "execution_count": 17,
   "metadata": {},
   "outputs": [],
   "source": [
    "selected_items.append(selected_item)"
   ]
  },
  {
   "cell_type": "code",
   "execution_count": 18,
   "metadata": {},
   "outputs": [],
   "source": [
    "while len(selected_items) < max_length:\n",
    "    k = len(selected_items) - 1\n",
    "    \n",
    "    \n",
    "    ci_optimal = cis[:k, selected_item]\n",
    "    \n",
    "    \n",
    "    di_optimal = math.sqrt(di2s[selected_item])\n",
    "    \n",
    "    \n",
    "    elements = kernel_matrix[selected_item, :]\n",
    "    \n",
    "    \n",
    "    eis = (elements - np.dot(ci_optimal, cis[:k, :])) / di_optimal\n",
    "    \n",
    "    \n",
    "    cis[k, :] = eis\n",
    "    \n",
    "    \n",
    "    di2s -= np.square(eis)\n",
    "    \n",
    "    \n",
    "    di2s[selected_item] = -np.inf\n",
    "    \n",
    "    \n",
    "    selected_item = np.argmax(di2s)\n",
    "    \n",
    "    \n",
    "    if di2s[selected_item] < epsilon:\n",
    "        break\n",
    "        \n",
    "        \n",
    "    selected_items.append(selected_item)"
   ]
  },
  {
   "cell_type": "code",
   "execution_count": 19,
   "metadata": {},
   "outputs": [
    {
     "name": "stdout",
     "output_type": "stream",
     "text": [
      "scores: [1.21297624 1.22586152 1.21057362 1.21677457 1.22013304]\n",
      "selected_items_index: [1, 0, 3]\n",
      "selected_items_value: [1.22586152 1.21297624 1.21677457]\n"
     ]
    }
   ],
   "source": [
    "print('scores:', scores)\n",
    "print('selected_items_index:', selected_items)\n",
    "print(\"selected_items_value:\", scores[selected_items])"
   ]
  }
 ],
 "metadata": {
  "interpreter": {
   "hash": "f26cd6e0b5ac18e57192a5a821bea7993ebc578946ba8b6ebe443716728746ce"
  },
  "kernelspec": {
   "display_name": "Python 3.8.12 ('dpp')",
   "language": "python",
   "name": "python3"
  },
  "language_info": {
   "codemirror_mode": {
    "name": "ipython",
    "version": 3
   },
   "file_extension": ".py",
   "mimetype": "text/x-python",
   "name": "python",
   "nbconvert_exporter": "python",
   "pygments_lexer": "ipython3",
   "version": "3.8.12"
  },
  "orig_nbformat": 4
 },
 "nbformat": 4,
 "nbformat_minor": 2
}
