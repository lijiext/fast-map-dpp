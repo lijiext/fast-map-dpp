{
 "cells": [
  {
   "cell_type": "code",
   "execution_count": 29,
   "metadata": {},
   "outputs": [],
   "source": [
    "import numpy as np\n",
    "import math"
   ]
  },
  {
   "cell_type": "code",
   "execution_count": 30,
   "metadata": {},
   "outputs": [],
   "source": [
    "np.set_printoptions(linewidth=400)"
   ]
  },
  {
   "cell_type": "code",
   "execution_count": 31,
   "metadata": {},
   "outputs": [],
   "source": [
    "item_size = 5\n",
    "\n",
    "feature_dimension = 3\n",
    "\n",
    "max_length = 5\n",
    "\n",
    "epsilon = 1E-10"
   ]
  },
  {
   "cell_type": "code",
   "execution_count": 32,
   "metadata": {},
   "outputs": [
    {
     "name": "stdout",
     "output_type": "stream",
     "text": [
      "scores: [1.22268117 1.23160628 1.21007611 1.23402012 1.21637192]\n"
     ]
    }
   ],
   "source": [
    "scores = np.exp(0.01 * np.random.randn(item_size) + 0.2)\n",
    "print('scores:', scores)"
   ]
  },
  {
   "cell_type": "code",
   "execution_count": 33,
   "metadata": {},
   "outputs": [
    {
     "name": "stdout",
     "output_type": "stream",
     "text": [
      "feature_vectors:\n",
      "[[ 0.16086589  1.38866851 -1.08295817]\n",
      " [-1.01357357  1.81514575  0.81127292]\n",
      " [-0.74623112 -0.3560815  -0.0775322 ]\n",
      " [ 0.5665467  -1.84498868  0.34776585]\n",
      " [ 0.45257085 -0.3508284   0.42348161]]\n"
     ]
    }
   ],
   "source": [
    "feature_vectors = np.random.randn(item_size, feature_dimension)\n",
    "print('feature_vectors:', feature_vectors, sep='\\n')"
   ]
  },
  {
   "cell_type": "code",
   "execution_count": 34,
   "metadata": {},
   "outputs": [
    {
     "name": "stdout",
     "output_type": "stream",
     "text": [
      "feature_vectors: \n",
      "[[ 0.16086589  1.38866851 -1.08295817]\n",
      " [-1.01357357  1.81514575  0.81127292]\n",
      " [-0.74623112 -0.3560815  -0.0775322 ]\n",
      " [ 0.5665467  -1.84498868  0.34776585]\n",
      " [ 0.45257085 -0.3508284   0.42348161]]\n",
      "按行计算范数:\n",
      "[[1.76835417]\n",
      " [2.2316472 ]\n",
      " [0.83046141]\n",
      " [1.9610965 ]\n",
      " [0.71220616]]\n",
      "按列计算范数:\n",
      "[[1.46146011 2.97943152 1.46193404]]\n"
     ]
    }
   ],
   "source": [
    "print('feature_vectors: ',feature_vectors, sep='\\n')\n",
    "# 平方和开根号\n",
    "print('按行计算范数:',np.linalg.norm(feature_vectors, axis=1, keepdims=True), sep='\\n')\n",
    "print('按列计算范数:',np.linalg.norm(feature_vectors, axis=0, keepdims=True), sep='\\n')"
   ]
  },
  {
   "cell_type": "code",
   "execution_count": 35,
   "metadata": {},
   "outputs": [
    {
     "name": "stdout",
     "output_type": "stream",
     "text": [
      "l2_norm_feature_vectors:\n",
      "[[ 0.09096927  0.78528868 -0.61241022]\n",
      " [-0.45418181  0.81336591  0.36353099]\n",
      " [-0.8985741  -0.42877549 -0.09336039]\n",
      " [ 0.28889282 -0.94079444  0.17733235]\n",
      " [ 0.63544922 -0.49259389  0.59460537]]\n",
      "归一化后的l2范数:\n",
      "[[1.]\n",
      " [1.]\n",
      " [1.]\n",
      " [1.]\n",
      " [1.]]\n"
     ]
    }
   ],
   "source": [
    "# 向量的单位化，操作后向量的l2范数为1；l2归一化\n",
    "feature_vectors = feature_vectors / np.linalg.norm(feature_vectors, axis=1, keepdims=True) # 行向量的范数，欧几里得范数\n",
    "print('l2_norm_feature_vectors:', feature_vectors, sep='\\n')\n",
    "print('归一化后的l2范数:',np.linalg.norm(feature_vectors, axis=1, keepdims=True), sep='\\n')"
   ]
  },
  {
   "cell_type": "code",
   "execution_count": 36,
   "metadata": {},
   "outputs": [
    {
     "name": "stdout",
     "output_type": "stream",
     "text": [
      "similarities:\n",
      "[[ 1.          0.37478036 -0.36128031 -0.821115   -0.69316446]\n",
      " [ 0.37478036  1.          0.02542526 -0.83195418 -0.47311107]\n",
      " [-0.36128031  0.02542526  1.          0.12724217 -0.41529862]\n",
      " [-0.821115   -0.83195418  0.12724217  1.          0.75244907]\n",
      " [-0.69316446 -0.47311107 -0.41529862  0.75244907  1.        ]]\n"
     ]
    }
   ],
   "source": [
    "# 如需使用点积计算向量相似度，则必须对向量作归一化处理。处理后点积与余弦相似度等价。https://milvus.io/cn/docs/metric.md\n",
    "similarities = np.dot(feature_vectors, feature_vectors.T)\n",
    "print('similarities:', similarities, sep='\\n')"
   ]
  },
  {
   "cell_type": "code",
   "execution_count": 37,
   "metadata": {},
   "outputs": [
    {
     "name": "stdout",
     "output_type": "stream",
     "text": [
      "reshaeped score:\n",
      "[[1.49494924 1.50586181 1.47953728 1.50881316 1.48723504]\n",
      " [1.50586181 1.51685403 1.49033734 1.51982693 1.4980913 ]\n",
      " [1.47953728 1.49033734 1.4642842  1.49325827 1.47190261]\n",
      " [1.50881316 1.51982693 1.49325827 1.52280565 1.50102742]\n",
      " [1.48723504 1.4980913  1.47190261 1.50102742 1.47956065]]\n"
     ]
    }
   ],
   "source": [
    "kernel_matrix = scores.reshape((item_size, 1)) * similarities * scores.reshape((1, item_size))\n",
    "print('reshaeped score:', scores.reshape((item_size, 1)) * scores.reshape((1, item_size)), sep='\\n')"
   ]
  },
  {
   "cell_type": "code",
   "execution_count": 38,
   "metadata": {},
   "outputs": [
    {
     "name": "stdout",
     "output_type": "stream",
     "text": [
      "kernel_matrix:\n",
      "[[ 1.49494924  0.56436743 -0.53452769 -1.23890911 -1.03089848]\n",
      " [ 0.56436743  1.51685403  0.03789221 -1.26442637 -0.70876358]\n",
      " [-0.53452769  0.03789221  1.4642842   0.19000542 -0.61127912]\n",
      " [-1.23890911 -1.26442637  0.19000542  1.52280565  1.12944669]\n",
      " [-1.03089848 -0.70876358 -0.61127912  1.12944669  1.47956065]]\n"
     ]
    }
   ],
   "source": [
    "print('kernel_matrix:', kernel_matrix, sep='\\n')"
   ]
  },
  {
   "cell_type": "code",
   "execution_count": 39,
   "metadata": {},
   "outputs": [
    {
     "data": {
      "text/plain": [
       "array([[0., 0., 0., 0., 0.],\n",
       "       [0., 0., 0., 0., 0.],\n",
       "       [0., 0., 0., 0., 0.],\n",
       "       [0., 0., 0., 0., 0.],\n",
       "       [0., 0., 0., 0., 0.]])"
      ]
     },
     "execution_count": 39,
     "metadata": {},
     "output_type": "execute_result"
    }
   ],
   "source": [
    "# 全0矩阵\n",
    "cis = np.zeros((max_length, item_size))\n",
    "cis "
   ]
  },
  {
   "cell_type": "code",
   "execution_count": 40,
   "metadata": {},
   "outputs": [
    {
     "data": {
      "text/plain": [
       "array([1.49494924, 1.51685403, 1.4642842 , 1.52280565, 1.47956065])"
      ]
     },
     "execution_count": 40,
     "metadata": {},
     "output_type": "execute_result"
    }
   ],
   "source": [
    "# 分数的平方\n",
    "di2s = np.copy(np.diag(kernel_matrix))\n",
    "di2s"
   ]
  },
  {
   "cell_type": "code",
   "execution_count": 41,
   "metadata": {},
   "outputs": [],
   "source": [
    "selected_items = list()"
   ]
  },
  {
   "cell_type": "code",
   "execution_count": 42,
   "metadata": {},
   "outputs": [],
   "source": [
    "selected_item = np.argmax(di2s)"
   ]
  },
  {
   "cell_type": "code",
   "execution_count": 43,
   "metadata": {},
   "outputs": [
    {
     "name": "stdout",
     "output_type": "stream",
     "text": [
      "selected_items BEFORE: []\n",
      "selected_items AFTER: [3]\n"
     ]
    }
   ],
   "source": [
    "print('selected_items BEFORE:', selected_items)\n",
    "selected_items.append(selected_item)\n",
    "print('selected_items AFTER:', selected_items)"
   ]
  },
  {
   "cell_type": "code",
   "execution_count": 44,
   "metadata": {},
   "outputs": [
    {
     "name": "stdout",
     "output_type": "stream",
     "text": [
      "k: 0\n",
      "ci_optimal:\n",
      "[]\n",
      "di_optimal:\n",
      "1.2340201180093437\n",
      "elements:\n",
      "[-1.23890911 -1.26442637  0.19000542  1.52280565  1.12944669]\n",
      "eis:\n",
      "[-1.00396184 -1.02464     0.15397271  1.23402012  0.91525793]\n",
      "cis:\n",
      "[[-1.00396184 -1.02464     0.15397271  1.23402012  0.91525793]\n",
      " [ 0.          0.          0.          0.          0.        ]\n",
      " [ 0.          0.          0.          0.          0.        ]\n",
      " [ 0.          0.          0.          0.          0.        ]\n",
      " [ 0.          0.          0.          0.          0.        ]]\n",
      "di2s:\n",
      "[0.48700986 0.4669669  1.44057661 0.         0.64186358]\n",
      "di2s:\n",
      "[0.48700986 0.4669669  1.44057661       -inf 0.64186358]\n",
      "selected_item:\n",
      "2\n",
      "selected_items:\n",
      "[3, 2]\n",
      "k: 1\n",
      "ci_optimal:\n",
      "[0.15397271]\n",
      "di_optimal:\n",
      "1.2002402289275347\n",
      "elements:\n",
      "[-0.53452769  0.03789221  1.4642842   0.19000542 -0.61127912]\n",
      "eis:\n",
      "[-0.31655743  0.16301637  1.20024023  0.         -0.62671109]\n",
      "cis:\n",
      "[[-1.00396184 -1.02464     0.15397271  1.23402012  0.91525793]\n",
      " [-0.31655743  0.16301637  1.20024023  0.         -0.62671109]\n",
      " [ 0.          0.          0.          0.          0.        ]\n",
      " [ 0.          0.          0.          0.          0.        ]\n",
      " [ 0.          0.          0.          0.          0.        ]]\n",
      "di2s:\n",
      "[ 3.86801250e-01  4.40392565e-01 -2.22044605e-16            -inf  2.49096789e-01]\n",
      "di2s:\n",
      "[0.38680125 0.44039257       -inf       -inf 0.24909679]\n",
      "selected_item:\n",
      "1\n",
      "selected_items:\n",
      "[3, 2, 1]\n",
      "k: 2\n",
      "ci_optimal:\n",
      "[-1.02464     0.16301637]\n",
      "di_optimal:\n",
      "0.6636207994112628\n",
      "elements:\n",
      "[ 0.56436743  1.51685403  0.03789221 -1.26442637 -0.70876358]\n",
      "eis:\n",
      "[-6.21933477e-01  6.63620799e-01 -4.18244510e-17  3.34595608e-16  4.99095971e-01]\n",
      "cis:\n",
      "[[-1.00396184e+00 -1.02464000e+00  1.53972708e-01  1.23402012e+00  9.15257926e-01]\n",
      " [-3.16557431e-01  1.63016373e-01  1.20024023e+00  0.00000000e+00 -6.26711090e-01]\n",
      " [-6.21933477e-01  6.63620799e-01 -4.18244510e-17  3.34595608e-16  4.99095971e-01]\n",
      " [ 0.00000000e+00  0.00000000e+00  0.00000000e+00  0.00000000e+00  0.00000000e+00]\n",
      " [ 0.00000000e+00  0.00000000e+00  0.00000000e+00  0.00000000e+00  0.00000000e+00]]\n",
      "di2s:\n",
      "[-1.33226763e-15  1.66533454e-16            -inf            -inf -8.32667268e-16]\n",
      "di2s:\n",
      "[-1.33226763e-15            -inf            -inf            -inf -8.32667268e-16]\n",
      "selected_item:\n",
      "4\n"
     ]
    }
   ],
   "source": [
    "while len(selected_items) < max_length:\n",
    "    k = len(selected_items) - 1\n",
    "    print('k:', k)\n",
    "    \n",
    "    ci_optimal = cis[:k, selected_item]\n",
    "    print('ci_optimal:', ci_optimal, sep='\\n')\n",
    "    \n",
    "    di_optimal = math.sqrt(di2s[selected_item])\n",
    "    print('di_optimal:', di_optimal, sep='\\n')\n",
    "    \n",
    "    elements = kernel_matrix[selected_item, :]\n",
    "    print('elements:', elements, sep='\\n')\n",
    "    \n",
    "    eis = (elements - np.dot(ci_optimal, cis[:k, :])) / di_optimal\n",
    "    print('eis:', eis, sep='\\n')\n",
    "    \n",
    "    cis[k, :] = eis\n",
    "    print('cis:', cis, sep='\\n')\n",
    "    \n",
    "    di2s -= np.square(eis)\n",
    "    print('di2s:', di2s, sep='\\n')\n",
    "    \n",
    "    di2s[selected_item] = -np.inf\n",
    "    print('di2s:', di2s, sep='\\n')\n",
    "    \n",
    "    selected_item = np.argmax(di2s)\n",
    "    print('selected_item:', selected_item, sep='\\n')\n",
    "    \n",
    "    if di2s[selected_item] < epsilon:\n",
    "        break\n",
    "        \n",
    "        \n",
    "    selected_items.append(selected_item)\n",
    "\n",
    "    print('selected_items:', selected_items, sep='\\n')"
   ]
  },
  {
   "cell_type": "code",
   "execution_count": 45,
   "metadata": {},
   "outputs": [
    {
     "name": "stdout",
     "output_type": "stream",
     "text": [
      "scores: [1.22268117 1.23160628 1.21007611 1.23402012 1.21637192]\n",
      "selected_items_index: [3, 2, 1]\n",
      "selected_items_value: [1.23402012 1.21007611 1.23160628]\n"
     ]
    }
   ],
   "source": [
    "print('scores:', scores)\n",
    "print('selected_items_index:', selected_items)\n",
    "print(\"selected_items_value:\", scores[selected_items])"
   ]
  }
 ],
 "metadata": {
  "interpreter": {
   "hash": "f26cd6e0b5ac18e57192a5a821bea7993ebc578946ba8b6ebe443716728746ce"
  },
  "kernelspec": {
   "display_name": "Python 3.8.12 ('dpp')",
   "language": "python",
   "name": "python3"
  },
  "language_info": {
   "codemirror_mode": {
    "name": "ipython",
    "version": 3
   },
   "file_extension": ".py",
   "mimetype": "text/x-python",
   "name": "python",
   "nbconvert_exporter": "python",
   "pygments_lexer": "ipython3",
   "version": "3.8.12"
  },
  "orig_nbformat": 4
 },
 "nbformat": 4,
 "nbformat_minor": 2
}
