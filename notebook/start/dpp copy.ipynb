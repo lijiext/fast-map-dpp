{
 "cells": [
  {
   "cell_type": "code",
   "execution_count": 2,
   "metadata": {},
   "outputs": [],
   "source": [
    "import numpy as np\n",
    "import math"
   ]
  },
  {
   "cell_type": "code",
   "execution_count": 3,
   "metadata": {},
   "outputs": [],
   "source": [
    "np.set_printoptions(linewidth=400)"
   ]
  },
  {
   "cell_type": "code",
   "execution_count": 5,
   "metadata": {},
   "outputs": [],
   "source": [
    "item_size = 5\n",
    "\n",
    "feature_dimension = 3\n",
    "\n",
    "max_length = 5\n",
    "\n",
    "epsilon = 1E-10"
   ]
  },
  {
   "cell_type": "code",
   "execution_count": 6,
   "metadata": {},
   "outputs": [
    {
     "name": "stdout",
     "output_type": "stream",
     "text": [
      "scores: [1.24498373 1.22828675 1.21760082 1.22570727 1.23060499]\n"
     ]
    }
   ],
   "source": [
    "scores = np.exp(0.01 * np.random.randn(item_size) + 0.2)\n",
    "print('scores:', scores)"
   ]
  },
  {
   "cell_type": "code",
   "execution_count": 7,
   "metadata": {},
   "outputs": [
    {
     "name": "stdout",
     "output_type": "stream",
     "text": [
      "feature_vectors:\n",
      "[[-0.60734231  0.62616386  0.67596723]\n",
      " [-0.29696527  0.51306072 -0.56605206]\n",
      " [ 0.52381025  0.58994059  0.70386477]\n",
      " [-0.37339468  0.8194246  -0.45269443]\n",
      " [ 1.54821436 -0.82640487 -0.39169912]]\n"
     ]
    }
   ],
   "source": [
    "feature_vectors = np.random.randn(item_size, feature_dimension)\n",
    "print('feature_vectors:', feature_vectors, sep='\\n')"
   ]
  },
  {
   "cell_type": "code",
   "execution_count": 15,
   "metadata": {},
   "outputs": [
    {
     "name": "stdout",
     "output_type": "stream",
     "text": [
      "feature_vectors: \n",
      "[[-0.60734231  0.62616386  0.67596723]\n",
      " [-0.29696527  0.51306072 -0.56605206]\n",
      " [ 0.52381025  0.58994059  0.70386477]\n",
      " [-0.37339468  0.8194246  -0.45269443]\n",
      " [ 1.54821436 -0.82640487 -0.39169912]]\n",
      "按行计算范数:\n",
      "[[1.1035749 ]\n",
      " [0.81965518]\n",
      " [1.05727608]\n",
      " [1.00787524]\n",
      " [1.79814931]]\n",
      "按列计算范数:\n",
      "[[1.80771169 1.53549473 1.27715805]]\n"
     ]
    }
   ],
   "source": [
    "print('feature_vectors: ',feature_vectors, sep='\\n')\n",
    "# 平方和开根号\n",
    "print('按行计算范数:',np.linalg.norm(feature_vectors, axis=1, keepdims=True), sep='\\n')\n",
    "print('按列计算范数:',np.linalg.norm(feature_vectors, axis=0, keepdims=True), sep='\\n')"
   ]
  },
  {
   "cell_type": "code",
   "execution_count": 17,
   "metadata": {},
   "outputs": [
    {
     "name": "stdout",
     "output_type": "stream",
     "text": [
      "l2_norm_feature_vectors:\n",
      "[[-0.55034082  0.56739589  0.61252501]\n",
      " [-0.36230512  0.62594703 -0.69059779]\n",
      " [ 0.49543375  0.55798159  0.66573414]\n",
      " [-0.37047709  0.81302185 -0.4491572 ]\n",
      " [ 0.86100435 -0.45958634 -0.21783459]]\n",
      "归一化后:\n",
      "[[1.]\n",
      " [1.]\n",
      " [1.]\n",
      " [1.]\n",
      " [1.]]\n"
     ]
    }
   ],
   "source": [
    "# 向量的单位化，操作后向量的l2范数为1；l2归一化\n",
    "feature_vectors = feature_vectors / np.linalg.norm(feature_vectors, axis=1, keepdims=True) # 行向量的范数，欧几里得范数\n",
    "print('l2_norm_feature_vectors:', feature_vectors, sep='\\n')\n",
    "print('归一化后的l2范数:',np.linalg.norm(feature_vectors, axis=1, keepdims=True), sep='\\n')"
   ]
  },
  {
   "cell_type": "code",
   "execution_count": 18,
   "metadata": {},
   "outputs": [
    {
     "name": "stdout",
     "output_type": "stream",
     "text": [
      "similarities:\n",
      "[[ 1.          0.13154265  0.45171785  0.3900739  -0.86804238]\n",
      " [ 0.13154265  1.         -0.28998579  0.95332134 -0.4491869 ]\n",
      " [ 0.45171785 -0.28998579  1.         -0.02891491  0.02510997]\n",
      " [ 0.3900739   0.95332134 -0.02891491  1.         -0.59479414]\n",
      " [-0.86804238 -0.4491869   0.02510997 -0.59479414  1.        ]]\n"
     ]
    }
   ],
   "source": [
    "# 如需使用点积计算向量相似度，则必须对向量作归一化处理。处理后点积与余弦相似度等价。https://milvus.io/cn/docs/metric.md\n",
    "similarities = np.dot(feature_vectors, feature_vectors.T)\n",
    "print('similarities:', similarities, sep='\\n')"
   ]
  },
  {
   "cell_type": "code",
   "execution_count": 11,
   "metadata": {},
   "outputs": [
    {
     "name": "stdout",
     "output_type": "stream",
     "text": [
      "reshaeped score:\n",
      "[[1.47131136 1.4869409  1.46839703 1.47591865 1.47999239]\n",
      " [1.4869409  1.50273646 1.48399561 1.49159713 1.49571415]\n",
      " [1.46839703 1.48399561 1.46548848 1.4729952  1.47706087]\n",
      " [1.47591865 1.49159713 1.4729952  1.48054036 1.48462686]\n",
      " [1.47999239 1.49571415 1.47706087 1.48462686 1.48872464]]\n"
     ]
    }
   ],
   "source": [
    "kernel_matrix = scores.reshape((item_size, 1)) * similarities * scores.reshape((1, item_size))\n",
    "print('reshaeped score:', scores.reshape((item_size, 1)) * scores.reshape((1, item_size)), sep='\\n')"
   ]
  },
  {
   "cell_type": "code",
   "execution_count": 12,
   "metadata": {},
   "outputs": [
    {
     "name": "stdout",
     "output_type": "stream",
     "text": [
      "kernel_matrix:\n",
      "[[ 1.47131136 -0.37569141 -1.13395581  0.08012901  0.24786343]\n",
      " [-0.37569141  1.50273646  1.08237964  1.28092904  1.26342265]\n",
      " [-1.13395581  1.08237964  1.46548848  0.4731487   0.38833158]\n",
      " [ 0.08012901  1.28092904  0.4731487   1.48054036  1.47169537]\n",
      " [ 0.24786343  1.26342265  0.38833158  1.47169537  1.48872464]]\n"
     ]
    }
   ],
   "source": [
    "print('kernel_matrix:', kernel_matrix, sep='\\n')"
   ]
  },
  {
   "cell_type": "code",
   "execution_count": 13,
   "metadata": {},
   "outputs": [],
   "source": [
    "cis = np.zeros((max_length, item_size))"
   ]
  },
  {
   "cell_type": "code",
   "execution_count": 14,
   "metadata": {},
   "outputs": [],
   "source": [
    "di2s = np.copy(np.diag(kernel_matrix))"
   ]
  },
  {
   "cell_type": "code",
   "execution_count": 15,
   "metadata": {},
   "outputs": [],
   "source": [
    "selected_items = list()"
   ]
  },
  {
   "cell_type": "code",
   "execution_count": 16,
   "metadata": {},
   "outputs": [],
   "source": [
    "selected_item = np.argmax(di2s)"
   ]
  },
  {
   "cell_type": "code",
   "execution_count": 17,
   "metadata": {},
   "outputs": [],
   "source": [
    "selected_items.append(selected_item)"
   ]
  },
  {
   "cell_type": "code",
   "execution_count": 18,
   "metadata": {},
   "outputs": [],
   "source": [
    "while len(selected_items) < max_length:\n",
    "    k = len(selected_items) - 1\n",
    "    \n",
    "    \n",
    "    ci_optimal = cis[:k, selected_item]\n",
    "    \n",
    "    \n",
    "    di_optimal = math.sqrt(di2s[selected_item])\n",
    "    \n",
    "    \n",
    "    elements = kernel_matrix[selected_item, :]\n",
    "    \n",
    "    \n",
    "    eis = (elements - np.dot(ci_optimal, cis[:k, :])) / di_optimal\n",
    "    \n",
    "    \n",
    "    cis[k, :] = eis\n",
    "    \n",
    "    \n",
    "    di2s -= np.square(eis)\n",
    "    \n",
    "    \n",
    "    di2s[selected_item] = -np.inf\n",
    "    \n",
    "    \n",
    "    selected_item = np.argmax(di2s)\n",
    "    \n",
    "    \n",
    "    if di2s[selected_item] < epsilon:\n",
    "        break\n",
    "        \n",
    "        \n",
    "    selected_items.append(selected_item)"
   ]
  },
  {
   "cell_type": "code",
   "execution_count": 19,
   "metadata": {},
   "outputs": [
    {
     "name": "stdout",
     "output_type": "stream",
     "text": [
      "scores: [1.21297624 1.22586152 1.21057362 1.21677457 1.22013304]\n",
      "selected_items_index: [1, 0, 3]\n",
      "selected_items_value: [1.22586152 1.21297624 1.21677457]\n"
     ]
    }
   ],
   "source": [
    "print('scores:', scores)\n",
    "print('selected_items_index:', selected_items)\n",
    "print(\"selected_items_value:\", scores[selected_items])"
   ]
  }
 ],
 "metadata": {
  "interpreter": {
   "hash": "f26cd6e0b5ac18e57192a5a821bea7993ebc578946ba8b6ebe443716728746ce"
  },
  "kernelspec": {
   "display_name": "Python 3.8.12 ('dpp')",
   "language": "python",
   "name": "python3"
  },
  "language_info": {
   "codemirror_mode": {
    "name": "ipython",
    "version": 3
   },
   "file_extension": ".py",
   "mimetype": "text/x-python",
   "name": "python",
   "nbconvert_exporter": "python",
   "pygments_lexer": "ipython3",
   "version": "3.8.12"
  },
  "orig_nbformat": 4
 },
 "nbformat": 4,
 "nbformat_minor": 2
}
