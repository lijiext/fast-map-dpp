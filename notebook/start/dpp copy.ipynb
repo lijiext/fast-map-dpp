{
 "cells": [
  {
   "cell_type": "code",
   "execution_count": 2,
   "metadata": {},
   "outputs": [],
   "source": [
    "import numpy as np\n",
    "import math"
   ]
  },
  {
   "cell_type": "code",
   "execution_count": 3,
   "metadata": {},
   "outputs": [],
   "source": [
    "np.set_printoptions(linewidth=400)"
   ]
  },
  {
   "cell_type": "code",
   "execution_count": 4,
   "metadata": {},
   "outputs": [],
   "source": [
    "item_size = 5\n",
    "\n",
    "feature_dimension = 3\n",
    "\n",
    "max_length = 5\n",
    "\n",
    "epsilon = 1E-10"
   ]
  },
  {
   "cell_type": "code",
   "execution_count": 5,
   "metadata": {},
   "outputs": [
    {
     "name": "stdout",
     "output_type": "stream",
     "text": [
      "scores: [1.2248457  1.21713085 1.22713702 1.24246508 1.21675492]\n"
     ]
    }
   ],
   "source": [
    "scores = np.exp(0.01 * np.random.randn(item_size) + 0.2)\n",
    "print('scores:', scores)"
   ]
  },
  {
   "cell_type": "code",
   "execution_count": 6,
   "metadata": {},
   "outputs": [
    {
     "name": "stdout",
     "output_type": "stream",
     "text": [
      "feature_vectors:\n",
      "[[ 0.81196301  0.37418268  0.02192176]\n",
      " [ 0.52804839  0.46635943  0.5419263 ]\n",
      " [-1.96795023  0.90159699  0.10030974]\n",
      " [ 1.77949445 -0.02183738 -1.553502  ]\n",
      " [-0.70429613 -0.76561583  1.08572172]]\n"
     ]
    }
   ],
   "source": [
    "feature_vectors = np.random.randn(item_size, feature_dimension)\n",
    "print('feature_vectors:', feature_vectors, sep='\\n')"
   ]
  },
  {
   "cell_type": "code",
   "execution_count": 7,
   "metadata": {},
   "outputs": [
    {
     "name": "stdout",
     "output_type": "stream",
     "text": [
      "feature_vectors: \n",
      "[[ 0.81196301  0.37418268  0.02192176]\n",
      " [ 0.52804839  0.46635943  0.5419263 ]\n",
      " [-1.96795023  0.90159699  0.10030974]\n",
      " [ 1.77949445 -0.02183738 -1.553502  ]\n",
      " [-0.70429613 -0.76561583  1.08572172]]\n",
      "按行计算范数:\n",
      "[[0.89430261]\n",
      " [0.88882525]\n",
      " [2.16697192]\n",
      " [2.36229673]\n",
      " [1.50365964]]\n",
      "按列计算范数:\n",
      "[[2.91094155 1.32552835 1.97392676]]\n"
     ]
    }
   ],
   "source": [
    "print('feature_vectors: ',feature_vectors, sep='\\n')\n",
    "# 平方和开根号\n",
    "print('按行计算范数:',np.linalg.norm(feature_vectors, axis=1, keepdims=True), sep='\\n')\n",
    "print('按列计算范数:',np.linalg.norm(feature_vectors, axis=0, keepdims=True), sep='\\n')"
   ]
  },
  {
   "cell_type": "code",
   "execution_count": 8,
   "metadata": {},
   "outputs": [
    {
     "name": "stdout",
     "output_type": "stream",
     "text": [
      "l2_norm_feature_vectors:\n",
      "[[ 0.9079287   0.41840723  0.02451269]\n",
      " [ 0.59409697  0.52469192  0.60971074]\n",
      " [-0.90815678  0.41606307  0.04629028]\n",
      " [ 0.75328998 -0.00924413 -0.65762357]\n",
      " [-0.468388   -0.50916831  0.72205285]]\n",
      "归一化后的l2范数:\n",
      "[[1.]\n",
      " [1.]\n",
      " [1.]\n",
      " [1.]\n",
      " [1.]]\n"
     ]
    }
   ],
   "source": [
    "# 向量的单位化，操作后向量的l2范数为1；l2归一化\n",
    "feature_vectors = feature_vectors / np.linalg.norm(feature_vectors, axis=1, keepdims=True) # 行向量的范数，欧几里得范数\n",
    "print('l2_norm_feature_vectors:', feature_vectors, sep='\\n')\n",
    "print('归一化后的l2范数:',np.linalg.norm(feature_vectors, axis=1, keepdims=True), sep='\\n')"
   ]
  },
  {
   "cell_type": "code",
   "execution_count": 9,
   "metadata": {},
   "outputs": [
    {
     "name": "stdout",
     "output_type": "stream",
     "text": [
      "similarities:\n",
      "[[ 1.          0.77387823 -0.6493231   0.66394566 -0.62060315]\n",
      " [ 0.77387823  1.         -0.29300457  0.04171682 -0.10518101]\n",
      " [-0.6493231  -0.29300457  1.         -0.71839312  0.24694764]\n",
      " [ 0.66394566  0.04171682 -0.71839312  1.         -0.82296414]\n",
      " [-0.62060315 -0.10518101  0.24694764 -0.82296414  1.        ]]\n"
     ]
    }
   ],
   "source": [
    "# 如需使用点积计算向量相似度，则必须对向量作归一化处理。处理后点积与余弦相似度等价。https://milvus.io/cn/docs/metric.md\n",
    "similarities = np.dot(feature_vectors, feature_vectors.T)\n",
    "print('similarities:', similarities, sep='\\n')"
   ]
  },
  {
   "cell_type": "code",
   "execution_count": 10,
   "metadata": {},
   "outputs": [
    {
     "name": "stdout",
     "output_type": "stream",
     "text": [
      "reshaeped score:\n",
      "[[1.500247   1.49079749 1.5030535  1.52182802 1.49033704]\n",
      " [1.49079749 1.48140751 1.49358632 1.51224258 1.48094996]\n",
      " [1.5030535  1.49358632 1.50586526 1.52467489 1.49312501]\n",
      " [1.52182802 1.51224258 1.52467489 1.54371948 1.51177551]\n",
      " [1.49033704 1.48094996 1.49312501 1.51177551 1.48049255]]\n"
     ]
    }
   ],
   "source": [
    "kernel_matrix = scores.reshape((item_size, 1)) * similarities * scores.reshape((1, item_size))\n",
    "print('reshaeped score:', scores.reshape((item_size, 1)) * scores.reshape((1, item_size)), sep='\\n')"
   ]
  },
  {
   "cell_type": "code",
   "execution_count": 11,
   "metadata": {},
   "outputs": [
    {
     "name": "stdout",
     "output_type": "stream",
     "text": [
      "kernel_matrix:\n",
      "[[ 1.500247    1.15369572 -0.97596737  1.0104111  -0.92490786]\n",
      " [ 1.15369572  1.48140751 -0.43762762  0.06308596 -0.15576782]\n",
      " [-0.97596737 -0.43762762  1.50586526 -1.09531596  0.36872369]\n",
      " [ 1.0104111   0.06308596 -1.09531596  1.54371948 -1.24413703]\n",
      " [-0.92490786 -0.15576782  0.36872369 -1.24413703  1.48049255]]\n"
     ]
    }
   ],
   "source": [
    "print('kernel_matrix:', kernel_matrix, sep='\\n')"
   ]
  },
  {
   "cell_type": "code",
   "execution_count": 12,
   "metadata": {},
   "outputs": [
    {
     "data": {
      "text/plain": [
       "array([[0., 0., 0., 0., 0.],\n",
       "       [0., 0., 0., 0., 0.],\n",
       "       [0., 0., 0., 0., 0.],\n",
       "       [0., 0., 0., 0., 0.],\n",
       "       [0., 0., 0., 0., 0.]])"
      ]
     },
     "execution_count": 12,
     "metadata": {},
     "output_type": "execute_result"
    }
   ],
   "source": [
    "# 全0矩阵\n",
    "cis = np.zeros((max_length, item_size))\n",
    "cis "
   ]
  },
  {
   "cell_type": "code",
   "execution_count": 13,
   "metadata": {},
   "outputs": [
    {
     "data": {
      "text/plain": [
       "array([1.500247  , 1.48140751, 1.50586526, 1.54371948, 1.48049255])"
      ]
     },
     "execution_count": 13,
     "metadata": {},
     "output_type": "execute_result"
    }
   ],
   "source": [
    "# 分数的平方\n",
    "di2s = np.copy(np.diag(kernel_matrix))\n",
    "di2s"
   ]
  },
  {
   "cell_type": "code",
   "execution_count": 14,
   "metadata": {},
   "outputs": [],
   "source": [
    "selected_items = list()"
   ]
  },
  {
   "cell_type": "code",
   "execution_count": 15,
   "metadata": {},
   "outputs": [],
   "source": [
    "selected_item = np.argmax(di2s)"
   ]
  },
  {
   "cell_type": "code",
   "execution_count": 16,
   "metadata": {},
   "outputs": [
    {
     "name": "stdout",
     "output_type": "stream",
     "text": [
      "selected_items BEFORE: []\n",
      "selected_items AFTER: [3]\n"
     ]
    }
   ],
   "source": [
    "print('selected_items BEFORE:', selected_items)\n",
    "selected_items.append(selected_item)\n",
    "print('selected_items AFTER:', selected_items)"
   ]
  },
  {
   "cell_type": "code",
   "execution_count": 17,
   "metadata": {},
   "outputs": [
    {
     "name": "stdout",
     "output_type": "stream",
     "text": [
      "k: 0\n",
      "ci_optimal:\n",
      "[]\n",
      "di_optimal:\n",
      "1.242465082431504\n",
      "elements:\n",
      "[ 1.0104111   0.06308596 -1.09531596  1.54371948 -1.24413703]\n",
      "eis:\n",
      "[ 0.81323098  0.05077483 -0.88156679  1.24246508 -1.00134567]\n",
      "cis:\n",
      "[[ 0.81323098  0.05077483 -0.88156679  1.24246508 -1.00134567]\n",
      " [ 0.          0.          0.          0.          0.        ]\n",
      " [ 0.          0.          0.          0.          0.        ]\n",
      " [ 0.          0.          0.          0.          0.        ]\n",
      " [ 0.          0.          0.          0.          0.        ]]\n",
      "di2s:\n",
      "[8.38902364e-01 1.47882943e+00 7.28705251e-01 2.22044605e-16 4.77799402e-01]\n",
      "di2s:\n",
      "[0.83890236 1.47882943 0.72870525       -inf 0.4777994 ]\n",
      "selected_item:\n",
      "1\n",
      "selected_items:\n",
      "[3, 1]\n",
      "k: 1\n",
      "ci_optimal:\n",
      "[0.05077483]\n",
      "di_optimal:\n",
      "1.2160713077760978\n",
      "elements:\n",
      "[ 1.15369572  1.48140751 -0.43762762  0.06308596 -0.15576782]\n",
      "eis:\n",
      "[ 9.14752325e-01  1.21607131e+00 -3.23061825e-01  1.14119852e-17 -8.62816666e-02]\n",
      "cis:\n",
      "[[ 8.13230983e-01  5.07748331e-02 -8.81566791e-01  1.24246508e+00 -1.00134567e+00]\n",
      " [ 9.14752325e-01  1.21607131e+00 -3.23061825e-01  1.14119852e-17 -8.62816666e-02]\n",
      " [ 0.00000000e+00  0.00000000e+00  0.00000000e+00  0.00000000e+00  0.00000000e+00]\n",
      " [ 0.00000000e+00  0.00000000e+00  0.00000000e+00  0.00000000e+00  0.00000000e+00]\n",
      " [ 0.00000000e+00  0.00000000e+00  0.00000000e+00  0.00000000e+00  0.00000000e+00]]\n",
      "di2s:\n",
      "[2.13054854e-03 2.22044605e-16 6.24336309e-01           -inf 4.70354876e-01]\n",
      "di2s:\n",
      "[0.00213055       -inf 0.62433631       -inf 0.47035488]\n",
      "selected_item:\n",
      "2\n",
      "selected_items:\n",
      "[3, 1, 2]\n",
      "k: 2\n",
      "ci_optimal:\n",
      "[-0.88156679 -0.32306182]\n",
      "di_optimal:\n",
      "0.790149548242986\n",
      "elements:\n",
      "[-0.97596737 -0.43762762  1.50586526 -1.09531596  0.36872369]\n",
      "eis:\n",
      "[ 4.61578654e-02 -7.02539809e-17  7.90149548e-01 -2.81015923e-16 -6.85824231e-01]\n",
      "cis:\n",
      "[[ 8.13230983e-01  5.07748331e-02 -8.81566791e-01  1.24246508e+00 -1.00134567e+00]\n",
      " [ 9.14752325e-01  1.21607131e+00 -3.23061825e-01  1.14119852e-17 -8.62816666e-02]\n",
      " [ 4.61578654e-02 -7.02539809e-17  7.90149548e-01 -2.81015923e-16 -6.85824231e-01]\n",
      " [ 0.00000000e+00  0.00000000e+00  0.00000000e+00  0.00000000e+00  0.00000000e+00]\n",
      " [ 0.00000000e+00  0.00000000e+00  0.00000000e+00  0.00000000e+00  0.00000000e+00]]\n",
      "di2s:\n",
      "[1.12757026e-17           -inf 0.00000000e+00           -inf 4.44089210e-16]\n",
      "di2s:\n",
      "[1.12757026e-17           -inf           -inf           -inf 4.44089210e-16]\n",
      "selected_item:\n",
      "4\n"
     ]
    }
   ],
   "source": [
    "while len(selected_items) < max_length:\n",
    "    k = len(selected_items) - 1\n",
    "    print('k:', k)\n",
    "    \n",
    "    ci_optimal = cis[:k, selected_item]\n",
    "    print('ci_optimal:', ci_optimal, sep='\\n')\n",
    "    \n",
    "    di_optimal = math.sqrt(di2s[selected_item])\n",
    "    print('di_optimal:', di_optimal, sep='\\n')\n",
    "    \n",
    "    elements = kernel_matrix[selected_item, :]\n",
    "    print('elements:', elements, sep='\\n')\n",
    "    \n",
    "    eis = (elements - np.dot(ci_optimal, cis[:k, :])) / di_optimal\n",
    "    print('eis:', eis, sep='\\n')\n",
    "    \n",
    "    cis[k, :] = eis\n",
    "    print('cis:', cis, sep='\\n')\n",
    "    \n",
    "    di2s -= np.square(eis)\n",
    "    print('di2s:', di2s, sep='\\n')\n",
    "    \n",
    "    di2s[selected_item] = -np.inf\n",
    "    print('di2s:', di2s, sep='\\n')\n",
    "    \n",
    "    selected_item = np.argmax(di2s)\n",
    "    print('selected_item:', selected_item, sep='\\n')\n",
    "    \n",
    "    if di2s[selected_item] < epsilon:\n",
    "        break\n",
    "        \n",
    "        \n",
    "    selected_items.append(selected_item)\n",
    "\n",
    "    print('selected_items:', selected_items, sep='\\n')"
   ]
  },
  {
   "cell_type": "code",
   "execution_count": 18,
   "metadata": {},
   "outputs": [
    {
     "name": "stdout",
     "output_type": "stream",
     "text": [
      "scores: [1.2248457  1.21713085 1.22713702 1.24246508 1.21675492]\n",
      "selected_items_index: [3, 1, 2]\n",
      "selected_items_value: [1.24246508 1.21713085 1.22713702]\n"
     ]
    }
   ],
   "source": [
    "print('scores:', scores)\n",
    "print('selected_items_index:', selected_items)\n",
    "print(\"selected_items_value:\", scores[selected_items])"
   ]
  }
 ],
 "metadata": {
  "interpreter": {
   "hash": "f26cd6e0b5ac18e57192a5a821bea7993ebc578946ba8b6ebe443716728746ce"
  },
  "kernelspec": {
   "display_name": "Python 3.8.12 ('dpp')",
   "language": "python",
   "name": "python3"
  },
  "language_info": {
   "codemirror_mode": {
    "name": "ipython",
    "version": 3
   },
   "file_extension": ".py",
   "mimetype": "text/x-python",
   "name": "python",
   "nbconvert_exporter": "python",
   "pygments_lexer": "ipython3",
   "version": "3.10.4"
  },
  "orig_nbformat": 4
 },
 "nbformat": 4,
 "nbformat_minor": 2
}
