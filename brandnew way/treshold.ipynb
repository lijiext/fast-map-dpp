{
 "cells": [
  {
   "cell_type": "code",
   "execution_count": 1,
   "metadata": {},
   "outputs": [
    {
     "name": "stdout",
     "output_type": "stream",
     "text": [
      "item_size: 2507\n",
      "data_dimensions: 9\n",
      "constrains_service: \n",
      "[[2.52893894e-02 2.36559140e-01 7.90697674e-01 2.39130435e-01 2.85714286e-01 1.64179104e-01 2.44444444e-01 1.69078042e-03 4.16666667e-02]\n",
      " [2.96809600e-02 0.00000000e+00 7.20930233e-01 0.00000000e+00 1.60714286e-01 3.28358209e-01 1.77777778e-01 1.81155045e-04 9.16666667e-01]\n",
      " [3.28634858e-01 6.23655914e-01 9.79069767e-01 6.19565217e-01 1.07142857e-01 1.64179104e-01 8.88888889e-02 3.22878674e-01 1.00000000e+00]\n",
      " [2.27554026e-01 1.29032258e-01 6.90697674e-01 4.34782609e-02 1.07142857e-01 3.28358209e-01 8.88888889e-02 2.59655564e-03 9.27083333e-01]\n",
      " [2.84694922e-02 2.15053763e-02 2.02325581e-01 1.08695652e-02 1.07142857e-01 0.00000000e+00 8.88888889e-02 1.87193546e-03 9.16666667e-01]\n",
      " [6.68326377e-01 1.82795699e-01 8.72093023e-01 1.73913043e-01 1.07142857e-01 1.64179104e-01 8.88888889e-02 4.22695104e-04 9.79166667e-01]]\n",
      "constrains_service.shape: \n",
      "(6, 9)\n",
      "candidates_service: \n",
      "[[5.36579259e-02 1.18279570e-01 8.37209302e-01 ... 3.33333333e-01 4.52887611e-02 6.77083333e-01]\n",
      " [8.98505251e-02 1.61290323e-01 6.30232558e-01 ... 2.44444444e-01 1.81155045e-04 9.89583333e-01]\n",
      " [6.63157448e-01 1.18279570e-01 9.69767442e-01 ... 3.33333333e-01 5.67619140e-04 1.04166667e-02]\n",
      " ...\n",
      " [1.14948099e-02 2.15053763e-01 9.53488372e-01 ... 2.88888889e-01 8.38144006e-04 3.85416667e-01]\n",
      " [1.40833126e-02 1.50537634e-01 9.72093023e-01 ... 1.77777778e-01 2.41540059e-04 1.04166667e-02]\n",
      " [5.64342062e-02 3.01075269e-01 6.32558140e-01 ... 1.77777778e-01 1.26808531e-03 9.27083333e-01]]\n",
      "candidates_service.shape: \n",
      "(2501, 9)\n",
      "item_length:11\n",
      "item_length:12\n",
      "item_length:10\n",
      "item_length:14\n",
      "item_length:13\n",
      "item_length:14\n",
      "item_length:14\n",
      "item_length:15\n",
      "item_length:12\n",
      "item_length:12\n"
     ]
    }
   ],
   "source": [
    "import numpy as np, pandas as pd, pickle\n",
    "\n",
    "np.set_printoptions(linewidth=400)\n",
    "\n",
    "\n",
    "def divide_datasets(num_of_constrains=6):\n",
    "  data = pd.read_table('datasets/qws2.CSV', header=None, delimiter=',')\n",
    "  pd_data = data.iloc[1:, :9].values.astype(float)\n",
    "  item_size = pd_data.shape[0]\n",
    "  data_dimensions = pd_data.shape[1]\n",
    "\n",
    "  print(f'item_size: {item_size}\\ndata_dimensions: {data_dimensions}')\n",
    "\n",
    "  # 每一列的最大值和最小值\n",
    "  column_max = np.max(pd_data, axis=0)\n",
    "  column_min = np.min(pd_data, axis=0)\n",
    "  # print(f'column_max: {column_max}\\ncolumn_min: {column_min}')\n",
    "\n",
    "  # 正负属性，如延迟越高越不好\n",
    "  pos_or_neg = ['-', '+', '+', '+', '+', '+', '+', '-', '+']\n",
    "  for (index, value) in enumerate(pos_or_neg):\n",
    "    if value == '-':\n",
    "      pd_data[:, index] = (pd_data[:, index] - column_min[index]) / (column_max[index] - column_min[index])\n",
    "    else:\n",
    "      pd_data[:, index] = (column_max[index] - pd_data[:, index]) / (column_max[index] - column_min[index])\n",
    "\n",
    "  # 数据集的划分\n",
    "  constrains_index = np.random.choice(item_size, num_of_constrains, replace=False)  # 随机选择6个索引\n",
    "  constrains_service = pd_data[constrains_index, :]  # 选择6个索引的数据，作为约束集\n",
    "  # print(f\"constrains_service: \\n{constrains_service}\\nconstrains_service.shape: \\n{constrains_service.shape}\")\n",
    "\n",
    "  candidates_service = np.delete(pd_data, constrains_index, axis=0)  # 删除6个索引的数据，作为候选集\n",
    "  # print(f\"candidates_service: \\n{candidates_service}\\ncandidates_service.shape: \\n{candidates_service.shape}\")\n",
    "\n",
    "  return constrains_service, candidates_service\n",
    "\n",
    "\n",
    "# 生成用户的服务调用历史\n",
    "def generate_user_history(all_services):\n",
    "  call_num = np.random.randint(10, 15 + 1)  # 随机生成10-15个服务调用\n",
    "  call_history_index = np.random.choice(all_services.shape[0], call_num, replace=False)\n",
    "  call_history_value = all_services[call_history_index - 1, :]\n",
    "  return call_history_value\n",
    "\n",
    "\n",
    "# 生成多个用户的服务调用历史记录\n",
    "def generate_histories(num_of_users, all_services):\n",
    "  histories = []\n",
    "  for i in range(num_of_users):\n",
    "    histories.append(generate_user_history(all_services))\n",
    "  return histories\n",
    "\n",
    "\n",
    "if __name__ == '__main__':\n",
    "  constrains_service, candidates_service = divide_datasets()\n",
    "  histories = generate_histories(10, candidates_service)\n",
    "  print(f'constrains_service: \\n{constrains_service}\\nconstrains_service.shape: \\n{constrains_service.shape}')\n",
    "  print(f'candidates_service: \\n{candidates_service}\\ncandidates_service.shape: \\n{candidates_service.shape}')\n",
    "  [print(f'item_length:{len(item)}') for item in histories]\n",
    "\n",
    "  with open('datasets/qws.pickle', 'wb') as f:\n",
    "    pickle.dump(constrains_service, f)\n",
    "    pickle.dump(candidates_service, f)\n",
    "    pickle.dump(histories, f)\n",
    "    f.close()\n"
   ]
  },
  {
   "cell_type": "code",
   "execution_count": 2,
   "metadata": {},
   "outputs": [
    {
     "name": "stderr",
     "output_type": "stream",
     "text": [
      "  1%|          | 20485/3126250 [00:06<16:39, 3107.42it/s]\n"
     ]
    },
    {
     "ename": "KeyboardInterrupt",
     "evalue": "",
     "output_type": "error",
     "traceback": [
      "\u001b[0;31m---------------------------------------------------------------------------\u001b[0m",
      "\u001b[0;31mKeyboardInterrupt\u001b[0m                         Traceback (most recent call last)",
      "\u001b[0;32m/tmp/ipykernel_803527/3942835139.py\u001b[0m in \u001b[0;36m<cell line: 28>\u001b[0;34m()\u001b[0m\n\u001b[1;32m     32\u001b[0m     \u001b[0mhistories\u001b[0m \u001b[0;34m=\u001b[0m \u001b[0mpickle\u001b[0m\u001b[0;34m.\u001b[0m\u001b[0mload\u001b[0m\u001b[0;34m(\u001b[0m\u001b[0mf\u001b[0m\u001b[0;34m)\u001b[0m\u001b[0;34m\u001b[0m\u001b[0;34m\u001b[0m\u001b[0m\n\u001b[1;32m     33\u001b[0m     \u001b[0mf\u001b[0m\u001b[0;34m.\u001b[0m\u001b[0mclose\u001b[0m\u001b[0;34m(\u001b[0m\u001b[0;34m)\u001b[0m\u001b[0;34m\u001b[0m\u001b[0;34m\u001b[0m\u001b[0m\n\u001b[0;32m---> 34\u001b[0;31m   \u001b[0mprint\u001b[0m\u001b[0;34m(\u001b[0m\u001b[0;34m'tresholds:'\u001b[0m\u001b[0;34m,\u001b[0m\u001b[0mget_thresholds\u001b[0m\u001b[0;34m(\u001b[0m\u001b[0mcandidates_service\u001b[0m\u001b[0;34m)\u001b[0m\u001b[0;34m)\u001b[0m\u001b[0;34m\u001b[0m\u001b[0;34m\u001b[0m\u001b[0m\n\u001b[0m",
      "\u001b[0;32m/tmp/ipykernel_803527/3942835139.py\u001b[0m in \u001b[0;36mget_thresholds\u001b[0;34m(Candidates, alph)\u001b[0m\n\u001b[1;32m     12\u001b[0m   \u001b[0;31m# 排列\u001b[0m\u001b[0;34m\u001b[0m\u001b[0;34m\u001b[0m\u001b[0;34m\u001b[0m\u001b[0m\n\u001b[1;32m     13\u001b[0m   \u001b[0;32mfor\u001b[0m \u001b[0mSi\u001b[0m\u001b[0;34m,\u001b[0m \u001b[0mSj\u001b[0m \u001b[0;32min\u001b[0m \u001b[0mtqdm\u001b[0m\u001b[0;34m(\u001b[0m\u001b[0mlist\u001b[0m\u001b[0;34m(\u001b[0m\u001b[0mcombinations\u001b[0m\u001b[0;34m(\u001b[0m\u001b[0mrange\u001b[0m\u001b[0;34m(\u001b[0m\u001b[0mlen\u001b[0m\u001b[0;34m(\u001b[0m\u001b[0mCandidates\u001b[0m\u001b[0;34m)\u001b[0m\u001b[0;34m)\u001b[0m\u001b[0;34m,\u001b[0m \u001b[0;36m2\u001b[0m\u001b[0;34m)\u001b[0m\u001b[0;34m)\u001b[0m\u001b[0;34m)\u001b[0m\u001b[0;34m:\u001b[0m\u001b[0;34m\u001b[0m\u001b[0;34m\u001b[0m\u001b[0m\n\u001b[0;32m---> 14\u001b[0;31m     \u001b[0mtemp_krcc\u001b[0m\u001b[0;34m,\u001b[0m \u001b[0mp_value\u001b[0m \u001b[0;34m=\u001b[0m \u001b[0mstats\u001b[0m\u001b[0;34m.\u001b[0m\u001b[0mkendalltau\u001b[0m\u001b[0;34m(\u001b[0m\u001b[0mCandidates\u001b[0m\u001b[0;34m[\u001b[0m\u001b[0mSi\u001b[0m\u001b[0;34m,\u001b[0m \u001b[0;34m:\u001b[0m\u001b[0;34m]\u001b[0m\u001b[0;34m,\u001b[0m \u001b[0mCandidates\u001b[0m\u001b[0;34m[\u001b[0m\u001b[0mSj\u001b[0m\u001b[0;34m,\u001b[0m \u001b[0;34m:\u001b[0m\u001b[0;34m]\u001b[0m\u001b[0;34m)\u001b[0m\u001b[0;34m\u001b[0m\u001b[0;34m\u001b[0m\u001b[0m\n\u001b[0m\u001b[1;32m     15\u001b[0m     \u001b[0mtemp_dis\u001b[0m \u001b[0;34m=\u001b[0m \u001b[0mspatial\u001b[0m\u001b[0;34m.\u001b[0m\u001b[0mdistance\u001b[0m\u001b[0;34m.\u001b[0m\u001b[0meuclidean\u001b[0m\u001b[0;34m(\u001b[0m\u001b[0mCandidates\u001b[0m\u001b[0;34m[\u001b[0m\u001b[0mSi\u001b[0m\u001b[0;34m,\u001b[0m \u001b[0;34m:\u001b[0m\u001b[0;34m]\u001b[0m\u001b[0;34m,\u001b[0m \u001b[0mCandidates\u001b[0m\u001b[0;34m[\u001b[0m\u001b[0mSj\u001b[0m\u001b[0;34m,\u001b[0m \u001b[0;34m:\u001b[0m\u001b[0;34m]\u001b[0m\u001b[0;34m)\u001b[0m\u001b[0;34m\u001b[0m\u001b[0;34m\u001b[0m\u001b[0m\n\u001b[1;32m     16\u001b[0m     \u001b[0mtemp_sim\u001b[0m \u001b[0;34m=\u001b[0m \u001b[0;34m(\u001b[0m\u001b[0;36m1\u001b[0m \u001b[0;34m-\u001b[0m \u001b[0malph\u001b[0m\u001b[0;34m)\u001b[0m \u001b[0;34m*\u001b[0m \u001b[0;34m(\u001b[0m\u001b[0;36m1.0\u001b[0m \u001b[0;34m-\u001b[0m \u001b[0mtemp_dis\u001b[0m \u001b[0;34m/\u001b[0m \u001b[0mmath\u001b[0m\u001b[0;34m.\u001b[0m\u001b[0msqrt\u001b[0m\u001b[0;34m(\u001b[0m\u001b[0;36m2.0\u001b[0m\u001b[0;34m)\u001b[0m\u001b[0;34m)\u001b[0m \u001b[0;34m+\u001b[0m \u001b[0malph\u001b[0m \u001b[0;34m*\u001b[0m \u001b[0mtemp_krcc\u001b[0m\u001b[0;34m\u001b[0m\u001b[0;34m\u001b[0m\u001b[0m\n",
      "\u001b[0;32m~/anaconda3/envs/dpp/lib/python3.8/site-packages/scipy/stats/_stats_py.py\u001b[0m in \u001b[0;36mkendalltau\u001b[0;34m(x, y, initial_lexsort, nan_policy, method, variant, alternative)\u001b[0m\n\u001b[1;32m   4815\u001b[0m \u001b[0;34m\u001b[0m\u001b[0m\n\u001b[1;32m   4816\u001b[0m     \u001b[0;31m# stable sort on x and convert x to dense ranks\u001b[0m\u001b[0;34m\u001b[0m\u001b[0;34m\u001b[0m\u001b[0;34m\u001b[0m\u001b[0m\n\u001b[0;32m-> 4817\u001b[0;31m     \u001b[0mperm\u001b[0m \u001b[0;34m=\u001b[0m \u001b[0mnp\u001b[0m\u001b[0;34m.\u001b[0m\u001b[0margsort\u001b[0m\u001b[0;34m(\u001b[0m\u001b[0mx\u001b[0m\u001b[0;34m,\u001b[0m \u001b[0mkind\u001b[0m\u001b[0;34m=\u001b[0m\u001b[0;34m'mergesort'\u001b[0m\u001b[0;34m)\u001b[0m\u001b[0;34m\u001b[0m\u001b[0;34m\u001b[0m\u001b[0m\n\u001b[0m\u001b[1;32m   4818\u001b[0m     \u001b[0mx\u001b[0m\u001b[0;34m,\u001b[0m \u001b[0my\u001b[0m \u001b[0;34m=\u001b[0m \u001b[0mx\u001b[0m\u001b[0;34m[\u001b[0m\u001b[0mperm\u001b[0m\u001b[0;34m]\u001b[0m\u001b[0;34m,\u001b[0m \u001b[0my\u001b[0m\u001b[0;34m[\u001b[0m\u001b[0mperm\u001b[0m\u001b[0;34m]\u001b[0m\u001b[0;34m\u001b[0m\u001b[0;34m\u001b[0m\u001b[0m\n\u001b[1;32m   4819\u001b[0m     \u001b[0mx\u001b[0m \u001b[0;34m=\u001b[0m \u001b[0mnp\u001b[0m\u001b[0;34m.\u001b[0m\u001b[0mr_\u001b[0m\u001b[0;34m[\u001b[0m\u001b[0;32mTrue\u001b[0m\u001b[0;34m,\u001b[0m \u001b[0mx\u001b[0m\u001b[0;34m[\u001b[0m\u001b[0;36m1\u001b[0m\u001b[0;34m:\u001b[0m\u001b[0;34m]\u001b[0m \u001b[0;34m!=\u001b[0m \u001b[0mx\u001b[0m\u001b[0;34m[\u001b[0m\u001b[0;34m:\u001b[0m\u001b[0;34m-\u001b[0m\u001b[0;36m1\u001b[0m\u001b[0;34m]\u001b[0m\u001b[0;34m]\u001b[0m\u001b[0;34m.\u001b[0m\u001b[0mcumsum\u001b[0m\u001b[0;34m(\u001b[0m\u001b[0mdtype\u001b[0m\u001b[0;34m=\u001b[0m\u001b[0mnp\u001b[0m\u001b[0;34m.\u001b[0m\u001b[0mintp\u001b[0m\u001b[0;34m)\u001b[0m\u001b[0;34m\u001b[0m\u001b[0;34m\u001b[0m\u001b[0m\n",
      "\u001b[0;32m<__array_function__ internals>\u001b[0m in \u001b[0;36margsort\u001b[0;34m(*args, **kwargs)\u001b[0m\n",
      "\u001b[0;32m~/anaconda3/envs/dpp/lib/python3.8/site-packages/numpy/core/fromnumeric.py\u001b[0m in \u001b[0;36margsort\u001b[0;34m(a, axis, kind, order)\u001b[0m\n\u001b[1;32m   1112\u001b[0m \u001b[0;34m\u001b[0m\u001b[0m\n\u001b[1;32m   1113\u001b[0m     \"\"\"\n\u001b[0;32m-> 1114\u001b[0;31m     \u001b[0;32mreturn\u001b[0m \u001b[0m_wrapfunc\u001b[0m\u001b[0;34m(\u001b[0m\u001b[0ma\u001b[0m\u001b[0;34m,\u001b[0m \u001b[0;34m'argsort'\u001b[0m\u001b[0;34m,\u001b[0m \u001b[0maxis\u001b[0m\u001b[0;34m=\u001b[0m\u001b[0maxis\u001b[0m\u001b[0;34m,\u001b[0m \u001b[0mkind\u001b[0m\u001b[0;34m=\u001b[0m\u001b[0mkind\u001b[0m\u001b[0;34m,\u001b[0m \u001b[0morder\u001b[0m\u001b[0;34m=\u001b[0m\u001b[0morder\u001b[0m\u001b[0;34m)\u001b[0m\u001b[0;34m\u001b[0m\u001b[0;34m\u001b[0m\u001b[0m\n\u001b[0m\u001b[1;32m   1115\u001b[0m \u001b[0;34m\u001b[0m\u001b[0m\n\u001b[1;32m   1116\u001b[0m \u001b[0;34m\u001b[0m\u001b[0m\n",
      "\u001b[0;32m~/anaconda3/envs/dpp/lib/python3.8/site-packages/numpy/core/fromnumeric.py\u001b[0m in \u001b[0;36m_wrapfunc\u001b[0;34m(obj, method, *args, **kwds)\u001b[0m\n\u001b[1;32m     55\u001b[0m \u001b[0;34m\u001b[0m\u001b[0m\n\u001b[1;32m     56\u001b[0m     \u001b[0;32mtry\u001b[0m\u001b[0;34m:\u001b[0m\u001b[0;34m\u001b[0m\u001b[0;34m\u001b[0m\u001b[0m\n\u001b[0;32m---> 57\u001b[0;31m         \u001b[0;32mreturn\u001b[0m \u001b[0mbound\u001b[0m\u001b[0;34m(\u001b[0m\u001b[0;34m*\u001b[0m\u001b[0margs\u001b[0m\u001b[0;34m,\u001b[0m \u001b[0;34m**\u001b[0m\u001b[0mkwds\u001b[0m\u001b[0;34m)\u001b[0m\u001b[0;34m\u001b[0m\u001b[0;34m\u001b[0m\u001b[0m\n\u001b[0m\u001b[1;32m     58\u001b[0m     \u001b[0;32mexcept\u001b[0m \u001b[0mTypeError\u001b[0m\u001b[0;34m:\u001b[0m\u001b[0;34m\u001b[0m\u001b[0;34m\u001b[0m\u001b[0m\n\u001b[1;32m     59\u001b[0m         \u001b[0;31m# A TypeError occurs if the object does have such a method in its\u001b[0m\u001b[0;34m\u001b[0m\u001b[0;34m\u001b[0m\u001b[0;34m\u001b[0m\u001b[0m\n",
      "\u001b[0;31mKeyboardInterrupt\u001b[0m: "
     ]
    }
   ],
   "source": [
    "import numpy as np, pickle, math, random\n",
    "from itertools import combinations\n",
    "from scipy import spatial\n",
    "from scipy import stats\n",
    "from sklearn.cluster import KMeans\n",
    "from tqdm import tqdm\n",
    "\n",
    "def get_thresholds(Candidates=None, alph=0.5):\n",
    "  # 计算欧氏距离,余弦相似度,QoS相似度\n",
    "  sim_dict = {}\n",
    "  i = 0\n",
    "  # 排列\n",
    "  for Si, Sj in tqdm(list(combinations(range(len(Candidates)), 2))):\n",
    "    temp_krcc, p_value = stats.kendalltau(Candidates[Si, :], Candidates[Sj, :])\n",
    "    temp_dis = spatial.distance.euclidean(Candidates[Si, :], Candidates[Sj, :])\n",
    "    temp_sim = (1 - alph) * (1.0 - temp_dis / math.sqrt(2.0)) + alph * temp_krcc\n",
    "    sim_dict[(Si, Sj)] = temp_sim\n",
    "    i = i + 1\n",
    "    if i % 10000 == 0:\n",
    "        pass\n",
    "      # print(i)\n",
    "  # thresh_sim=np.mean(list(sim_dict.values())) # average QoS similarity\n",
    "  sim_arr = np.array(list(sim_dict.values()))\n",
    "  thresh_sim = np.percentile(sim_arr, 80)\n",
    "  return thresh_sim\n",
    "\n",
    "\n",
    "if __name__ == '__main__':\n",
    "  with open('datasets/qws.pickle', 'rb') as f:\n",
    "    constrains_service = pickle.load(f)\n",
    "    candidates_service = pickle.load(f)\n",
    "    histories = pickle.load(f)\n",
    "    f.close()\n",
    "  print('tresholds:',get_thresholds(candidates_service))\n"
   ]
  },
  {
   "cell_type": "code",
   "execution_count": 4,
   "metadata": {},
   "outputs": [
    {
     "name": "stdout",
     "output_type": "stream",
     "text": [
      "/home/lijiecn/Desktop/coding/vscode/fast-map-dpp/brandnew way\n"
     ]
    }
   ],
   "source": [
    "!pwd"
   ]
  }
 ],
 "metadata": {
  "interpreter": {
   "hash": "f26cd6e0b5ac18e57192a5a821bea7993ebc578946ba8b6ebe443716728746ce"
  },
  "kernelspec": {
   "display_name": "Python 3.10.4 ('dpp')",
   "language": "python",
   "name": "python3"
  },
  "language_info": {
   "codemirror_mode": {
    "name": "ipython",
    "version": 3
   },
   "file_extension": ".py",
   "mimetype": "text/x-python",
   "name": "python",
   "nbconvert_exporter": "python",
   "pygments_lexer": "ipython3",
   "version": "3.8.12"
  },
  "orig_nbformat": 4
 },
 "nbformat": 4,
 "nbformat_minor": 2
}
