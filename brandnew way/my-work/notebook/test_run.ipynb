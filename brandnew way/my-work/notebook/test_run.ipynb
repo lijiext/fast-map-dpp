{
 "cells": [
  {
   "cell_type": "code",
   "execution_count": 45,
   "metadata": {},
   "outputs": [],
   "source": [
    "import pandas as pd, os\n",
    "import numpy as np, pickle, math, time\n",
    "from itertools import combinations, permutations, product\n",
    "from scipy import spatial\n",
    "from scipy import stats\n",
    "from tqdm import tqdm\n",
    "from collections import Counter"
   ]
  },
  {
   "cell_type": "code",
   "execution_count": 2,
   "metadata": {},
   "outputs": [],
   "source": [
    "# 设置显示宽度\n",
    "np.set_printoptions(linewidth=400)"
   ]
  },
  {
   "cell_type": "code",
   "execution_count": 3,
   "metadata": {},
   "outputs": [],
   "source": [
    "# 定义数据集路径\n",
    "QWS_file_path = '../code/qws2.CSV'"
   ]
  },
  {
   "cell_type": "code",
   "execution_count": 4,
   "metadata": {},
   "outputs": [
    {
     "data": {
      "text/html": [
       "<div>\n",
       "<style scoped>\n",
       "    .dataframe tbody tr th:only-of-type {\n",
       "        vertical-align: middle;\n",
       "    }\n",
       "\n",
       "    .dataframe tbody tr th {\n",
       "        vertical-align: top;\n",
       "    }\n",
       "\n",
       "    .dataframe thead th {\n",
       "        text-align: right;\n",
       "    }\n",
       "</style>\n",
       "<table border=\"1\" class=\"dataframe\">\n",
       "  <thead>\n",
       "    <tr style=\"text-align: right;\">\n",
       "      <th></th>\n",
       "      <th>0</th>\n",
       "      <th>1</th>\n",
       "      <th>2</th>\n",
       "      <th>3</th>\n",
       "      <th>4</th>\n",
       "      <th>5</th>\n",
       "      <th>6</th>\n",
       "      <th>7</th>\n",
       "      <th>8</th>\n",
       "      <th>9</th>\n",
       "      <th>10</th>\n",
       "    </tr>\n",
       "  </thead>\n",
       "  <tbody>\n",
       "    <tr>\n",
       "      <th>0</th>\n",
       "      <td>Response Time</td>\n",
       "      <td>Availability</td>\n",
       "      <td>Throughput</td>\n",
       "      <td>Successability</td>\n",
       "      <td>Reliability</td>\n",
       "      <td>Compliance</td>\n",
       "      <td>Best Practices</td>\n",
       "      <td>Latency\\t</td>\n",
       "      <td>Documentation</td>\n",
       "      <td>Service Name                                  ...</td>\n",
       "      <td>WSDL Address</td>\n",
       "    </tr>\n",
       "    <tr>\n",
       "      <th>1</th>\n",
       "      <td>302.75</td>\n",
       "      <td>89</td>\n",
       "      <td>7.1</td>\n",
       "      <td>90</td>\n",
       "      <td>73</td>\n",
       "      <td>78</td>\n",
       "      <td>80</td>\n",
       "      <td>187.75</td>\n",
       "      <td>32</td>\n",
       "      <td>MAPPMatching                                  ...</td>\n",
       "      <td>http://xml.assessment.com/service/MAPPMatching...</td>\n",
       "    </tr>\n",
       "    <tr>\n",
       "      <th>2</th>\n",
       "      <td>482</td>\n",
       "      <td>85</td>\n",
       "      <td>16</td>\n",
       "      <td>95</td>\n",
       "      <td>73</td>\n",
       "      <td>100</td>\n",
       "      <td>84</td>\n",
       "      <td>1</td>\n",
       "      <td>2</td>\n",
       "      <td>Compound2                                     ...</td>\n",
       "      <td>http://www.mssoapinterop.org/asmx/WSDL/compoun...</td>\n",
       "    </tr>\n",
       "    <tr>\n",
       "      <th>3</th>\n",
       "      <td>3321.4</td>\n",
       "      <td>89</td>\n",
       "      <td>1.4</td>\n",
       "      <td>96</td>\n",
       "      <td>73</td>\n",
       "      <td>78</td>\n",
       "      <td>80</td>\n",
       "      <td>2.6</td>\n",
       "      <td>96</td>\n",
       "      <td>USDAData                                      ...</td>\n",
       "      <td>http://www.strikeiron.com/webservices/usdadata...</td>\n",
       "    </tr>\n",
       "    <tr>\n",
       "      <th>4</th>\n",
       "      <td>126.17</td>\n",
       "      <td>98</td>\n",
       "      <td>12</td>\n",
       "      <td>100</td>\n",
       "      <td>67</td>\n",
       "      <td>78</td>\n",
       "      <td>82</td>\n",
       "      <td>22.77</td>\n",
       "      <td>89</td>\n",
       "      <td>GBNIRHolidayDates                             ...</td>\n",
       "      <td>http://www.holidaywebservice.com/Holidays/GBNI...</td>\n",
       "    </tr>\n",
       "    <tr>\n",
       "      <th>...</th>\n",
       "      <td>...</td>\n",
       "      <td>...</td>\n",
       "      <td>...</td>\n",
       "      <td>...</td>\n",
       "      <td>...</td>\n",
       "      <td>...</td>\n",
       "      <td>...</td>\n",
       "      <td>...</td>\n",
       "      <td>...</td>\n",
       "      <td>...</td>\n",
       "      <td>...</td>\n",
       "    </tr>\n",
       "    <tr>\n",
       "      <th>2503</th>\n",
       "      <td>200.8</td>\n",
       "      <td>93</td>\n",
       "      <td>2.4</td>\n",
       "      <td>98</td>\n",
       "      <td>73</td>\n",
       "      <td>100</td>\n",
       "      <td>84</td>\n",
       "      <td>7.4</td>\n",
       "      <td>41</td>\n",
       "      <td>garnierService                                ...</td>\n",
       "      <td>http://genome.dkfz-heidelberg.de/menu/hobit/em...</td>\n",
       "    </tr>\n",
       "    <tr>\n",
       "      <th>2504</th>\n",
       "      <td>56.17</td>\n",
       "      <td>97</td>\n",
       "      <td>11.3</td>\n",
       "      <td>97</td>\n",
       "      <td>83</td>\n",
       "      <td>78</td>\n",
       "      <td>91</td>\n",
       "      <td>7.17</td>\n",
       "      <td>3</td>\n",
       "      <td>AWSAlexa                                      ...</td>\n",
       "      <td>http://awis.amazonaws.com/AWSAlexa/AWSAlexa.wsdl</td>\n",
       "    </tr>\n",
       "    <tr>\n",
       "      <th>2505</th>\n",
       "      <td>93.93</td>\n",
       "      <td>80</td>\n",
       "      <td>2.1</td>\n",
       "      <td>80</td>\n",
       "      <td>67</td>\n",
       "      <td>78</td>\n",
       "      <td>82</td>\n",
       "      <td>3.72</td>\n",
       "      <td>60</td>\n",
       "      <td>interop2                                      ...</td>\n",
       "      <td>http://www.cs.fsu.edu/~engelen/interop2.wsdl</td>\n",
       "    </tr>\n",
       "    <tr>\n",
       "      <th>2506</th>\n",
       "      <td>106.75</td>\n",
       "      <td>86</td>\n",
       "      <td>1.3</td>\n",
       "      <td>95</td>\n",
       "      <td>80</td>\n",
       "      <td>78</td>\n",
       "      <td>87</td>\n",
       "      <td>1.25</td>\n",
       "      <td>96</td>\n",
       "      <td>SailboatCalcsWS                               ...</td>\n",
       "      <td>http://pooh.poly.asu.edu/cst556-sailboatcalcsw...</td>\n",
       "    </tr>\n",
       "    <tr>\n",
       "      <th>2507</th>\n",
       "      <td>316.5</td>\n",
       "      <td>72</td>\n",
       "      <td>15.9</td>\n",
       "      <td>72</td>\n",
       "      <td>80</td>\n",
       "      <td>89</td>\n",
       "      <td>87</td>\n",
       "      <td>5.5</td>\n",
       "      <td>8</td>\n",
       "      <td>Slash/SOAP/Test                               ...</td>\n",
       "      <td>http://use.perl.org/soap/Test.wsdl</td>\n",
       "    </tr>\n",
       "  </tbody>\n",
       "</table>\n",
       "<p>2508 rows × 11 columns</p>\n",
       "</div>"
      ],
      "text/plain": [
       "                  0              1            2                3   \\\n",
       "0     Response Time   Availability   Throughput   Successability    \n",
       "1     302.75          89             7.1          90                \n",
       "2     482             85             16           95                \n",
       "3     3321.4          89             1.4          96                \n",
       "4     126.17          98             12           100               \n",
       "...              ...            ...          ...              ...   \n",
       "2503  200.8           93             2.4          98                \n",
       "2504  56.17           97             11.3         97                \n",
       "2505  93.93           80             2.1          80                \n",
       "2506  106.75          86             1.3          95                \n",
       "2507  316.5           72             15.9         72                \n",
       "\n",
       "                4            5                6            7               8   \\\n",
       "0     Reliability   Compliance   Best Practices    Latency\\t   Documentation    \n",
       "1     73            78           80               187.75       32               \n",
       "2     73            100          84               1            2                \n",
       "3     73            78           80               2.6          96               \n",
       "4     67            78           82               22.77        89               \n",
       "...            ...          ...              ...          ...             ...   \n",
       "2503  73            100          84               7.4          41               \n",
       "2504  83            78           91               7.17         3                \n",
       "2505  67            78           82               3.72         60               \n",
       "2506  80            78           87               1.25         96               \n",
       "2507  80            89           87               5.5          8                \n",
       "\n",
       "                                                     9   \\\n",
       "0     Service Name                                  ...   \n",
       "1     MAPPMatching                                  ...   \n",
       "2     Compound2                                     ...   \n",
       "3     USDAData                                      ...   \n",
       "4     GBNIRHolidayDates                             ...   \n",
       "...                                                 ...   \n",
       "2503  garnierService                                ...   \n",
       "2504  AWSAlexa                                      ...   \n",
       "2505  interop2                                      ...   \n",
       "2506  SailboatCalcsWS                               ...   \n",
       "2507  Slash/SOAP/Test                               ...   \n",
       "\n",
       "                                                     10  \n",
       "0                                          WSDL Address  \n",
       "1     http://xml.assessment.com/service/MAPPMatching...  \n",
       "2     http://www.mssoapinterop.org/asmx/WSDL/compoun...  \n",
       "3     http://www.strikeiron.com/webservices/usdadata...  \n",
       "4     http://www.holidaywebservice.com/Holidays/GBNI...  \n",
       "...                                                 ...  \n",
       "2503  http://genome.dkfz-heidelberg.de/menu/hobit/em...  \n",
       "2504   http://awis.amazonaws.com/AWSAlexa/AWSAlexa.wsdl  \n",
       "2505       http://www.cs.fsu.edu/~engelen/interop2.wsdl  \n",
       "2506  http://pooh.poly.asu.edu/cst556-sailboatcalcsw...  \n",
       "2507                 http://use.perl.org/soap/Test.wsdl  \n",
       "\n",
       "[2508 rows x 11 columns]"
      ]
     },
     "execution_count": 4,
     "metadata": {},
     "output_type": "execute_result"
    }
   ],
   "source": [
    "# 读取数据\n",
    "data = pd.read_table(QWS_file_path, header=None, delimiter=',')\n",
    "data"
   ]
  },
  {
   "cell_type": "code",
   "execution_count": 5,
   "metadata": {},
   "outputs": [
    {
     "name": "stdout",
     "output_type": "stream",
     "text": [
      "item_size: 2507\n",
      "data_dimensions: 8\n"
     ]
    }
   ],
   "source": [
    "# 获取数据，忽略标题行，和非功能属性\n",
    "pd_data = data.iloc[1:, :8].values.astype(float)\n",
    "item_size = pd_data.shape[0]\n",
    "data_dimensions = pd_data.shape[1]\n",
    "print(f'item_size: {item_size}\\ndata_dimensions: {data_dimensions}')"
   ]
  },
  {
   "cell_type": "code",
   "execution_count": 11,
   "metadata": {},
   "outputs": [
    {
     "name": "stdout",
     "output_type": "stream",
     "text": [
      "all_services: \n",
      "[[5.36579259e-02 8.81720430e-01 1.62790698e-01 ... 6.71641791e-01 6.66666667e-01 4.52887611e-02]\n",
      " [8.98505251e-02 8.38709677e-01 3.69767442e-01 ... 1.00000000e+00 7.55555556e-01 1.81155045e-04]\n",
      " [6.63157448e-01 8.81720430e-01 3.02325581e-02 ... 6.71641791e-01 6.66666667e-01 5.67619140e-04]\n",
      " ...\n",
      " [1.14948099e-02 7.84946237e-01 4.65116279e-02 ... 6.71641791e-01 7.11111111e-01 8.38144006e-04]\n",
      " [1.40833126e-02 8.49462366e-01 2.79069767e-02 ... 6.71641791e-01 8.22222222e-01 2.41540059e-04]\n",
      " [5.64342062e-02 6.98924731e-01 3.67441860e-01 ... 8.35820896e-01 8.22222222e-01 1.26808531e-03]]\n",
      "all_services.shape: (2507, 8)\n",
      "constrains_service: \n",
      "[[4.52281295e-02 1.00000000e+00 2.95348837e-01 1.00000000e+00 7.14285714e-01 1.00000000e+00 7.55555556e-01 2.01685950e-03]\n",
      " [1.13877969e-03 6.12903226e-01 1.39534884e-01 6.08695652e-01 6.07142857e-01 8.35820896e-01 4.88888889e-01 3.69556291e-04]\n",
      " [4.31686343e-02 1.00000000e+00 3.02325581e-02 1.00000000e+00 3.03571429e-01 1.00000000e+00 4.88888889e-01 1.01809135e-02]\n",
      " [3.53748584e-02 9.46236559e-01 3.48837209e-02 9.78260870e-01 7.14285714e-01 1.00000000e+00 7.55555556e-01 3.03132775e-03]\n",
      " [2.25131091e-02 9.78494624e-01 2.62790698e-01 9.89130435e-01 7.14285714e-01 8.35820896e-01 2.66666667e-01 1.81155045e-04]\n",
      " [2.81323004e-02 9.13978495e-01 1.48837209e-01 9.67391304e-01 8.92857143e-01 8.35820896e-01 9.11111111e-01 2.88833603e-02]]\n",
      "constrains_service.shape:(6, 8)\n",
      "candidates_service: \n",
      "[[5.36579259e-02 8.81720430e-01 1.62790698e-01 ... 6.71641791e-01 6.66666667e-01 4.52887611e-02]\n",
      " [8.98505251e-02 8.38709677e-01 3.69767442e-01 ... 1.00000000e+00 7.55555556e-01 1.81155045e-04]\n",
      " [6.63157448e-01 8.81720430e-01 3.02325581e-02 ... 6.71641791e-01 6.66666667e-01 5.67619140e-04]\n",
      " ...\n",
      " [1.14948099e-02 7.84946237e-01 4.65116279e-02 ... 6.71641791e-01 7.11111111e-01 8.38144006e-04]\n",
      " [1.40833126e-02 8.49462366e-01 2.79069767e-02 ... 6.71641791e-01 8.22222222e-01 2.41540059e-04]\n",
      " [5.64342062e-02 6.98924731e-01 3.67441860e-01 ... 8.35820896e-01 8.22222222e-01 1.26808531e-03]]\n",
      "candidates_service.shape:(2501, 8)\n"
     ]
    }
   ],
   "source": [
    "# 每一列的最大值和最小值\n",
    "column_max = np.max(pd_data, axis=0)\n",
    "column_min = np.min(pd_data, axis=0)\n",
    "# print(f'column_max: {column_max}\\ncolumn_min: {column_min}')\n",
    "\n",
    "# 正负属性，如延迟越高越不好，归一化\n",
    "pos_or_neg = ['-', '+', '+', '+', '+', '+', '+', '-']\n",
    "for (index, value) in enumerate(pos_or_neg):\n",
    "    if value == '-':  # 如果是负属性，改变方向\n",
    "        pd_data[:, index] = (pd_data[:, index] - column_min[index]) / (column_max[index] - column_min[index])\n",
    "    else:\n",
    "        pd_data[:, index] = (column_max[index] - pd_data[:, index]) / (column_max[index] - column_min[index])\n",
    "\n",
    "all_services = pd_data\n",
    "print(f'all_services: \\n{all_services}\\nall_services.shape: {all_services.shape}')\n",
    "# 数据集的划分\n",
    "constrains_index = np.random.choice(item_size, 6, replace=False)  # 随机选择6个索引\n",
    "constrains = pd_data[constrains_index, :]  # 选择6个索引的数据，作为约束集\n",
    "print(f\"constrains_service: \\n{constrains}\\nconstrains_service.shape:{constrains.shape}\")\n",
    "\n",
    "candidates = np.delete(pd_data, constrains_index, axis=0)  # 删除6个索引的数据，作为候选集\n",
    "print(f\"candidates_service: \\n{candidates}\\ncandidates_service.shape:{candidates.shape}\")"
   ]
  },
  {
   "cell_type": "code",
   "execution_count": 14,
   "metadata": {},
   "outputs": [],
   "source": [
    "# 生成历史调用记录，随机从所有服务中挑选出 10 - 15 个服务\n",
    "gen_histories = lambda all_services: all_services[np.random.choice(all_services.shape[0], np.random.randint(10, 15 + 1), replace=False)]"
   ]
  },
  {
   "cell_type": "code",
   "execution_count": 33,
   "metadata": {},
   "outputs": [],
   "source": [
    "# 生成很多个用户的历史调用记录\n",
    "gen_users_histories = lambda user_count, all_services: np.array([gen_histories(all_services) for _ in range(user_count)], dtype=list)"
   ]
  },
  {
   "cell_type": "code",
   "execution_count": 34,
   "metadata": {},
   "outputs": [],
   "source": [
    "users_histories =gen_users_histories(6, all_services)"
   ]
  },
  {
   "cell_type": "code",
   "execution_count": 35,
   "metadata": {},
   "outputs": [],
   "source": [
    "# 获取用户历史记录的香农信息熵，表示多样化程度\n",
    "def get_shannon_entropies(histories):\n",
    "    indexs = [[np.argmax(i) for i in item] for item in histories]\n",
    "    shannon_entropies = []\n",
    "    for item in indexs:\n",
    "        shannon_entropy = np.abs(sum([count / len(item) * (math.log2(count / len(item))) for count in Counter(item).values()]))\n",
    "        shannon_entropies.append(shannon_entropy)\n",
    "    return np.array(shannon_entropies)"
   ]
  },
  {
   "cell_type": "code",
   "execution_count": 36,
   "metadata": {},
   "outputs": [
    {
     "data": {
      "text/plain": [
       "array([1.        , 0.96097304, 0.85150711, 0.85150711, 0.71556066, 0.98499253])"
      ]
     },
     "execution_count": 36,
     "metadata": {},
     "output_type": "execute_result"
    }
   ],
   "source": [
    "# 归一化香农熵，获取用户的多样化 fu 参数; H0 表示超参数，需要调参\n",
    "fus = lambda shannon_entropies, H0 : np.asarray([(item - np.min(shannon_entropies) + H0) / (np.max(shannon_entropies) - np.min(shannon_entropies) + H0) for item in shannon_entropies])\n",
    "fus(get_shannon_entropies(users_histories), H0=1)"
   ]
  },
  {
   "cell_type": "code",
   "execution_count": 37,
   "metadata": {},
   "outputs": [],
   "source": [
    "# 获取两个列表之间的相似度，综合相似度，alpha 是一个固定的参数，dimensions 表示 item 的维度\n",
    "def get_similarity(item1, item2, alpha=0.5, dimensions=8):\n",
    "    distance = spatial.distance.euclidean(item1, item2)\n",
    "    tau = stats.kendalltau(item1, item2).correlation\n",
    "    similarity = alpha * (1.0 - distance / np.sqrt(8.0)) + (1.0 - alpha) * tau\n",
    "    return similarity"
   ]
  },
  {
   "cell_type": "code",
   "execution_count": 43,
   "metadata": {},
   "outputs": [],
   "source": [
    "# 根据约束服务和候选服务，生成推荐列表，fu 是个性参数，alpha是一个超参数\n",
    "def get_kernel_matrix(constraints, candidates, fu, alpha):\n",
    "    similarities  = np.asarray([get_similarity(item, constraints) for item in candidates])\n",
    "    kernel_matrix = np.diag(np.square(similarities))\n",
    "    comb = [(i,j) for (i, j) in list(combinations(range(len(candidates)), 2))]\n",
    "    for (i, j) in tqdm(comb):\n",
    "        kernel_matrix[i, j] = fu * alpha * similarities[i] * similarities[j] * get_similarity(candidates[i], candidates[j])\n",
    "        kernel_matrix[j, i] = kernel_matrix[i, j]\n",
    "    return kernel_matrix"
   ]
  },
  {
   "cell_type": "code",
   "execution_count": null,
   "metadata": {},
   "outputs": [],
   "source": [
    "# dpp 核心算法，max_length 是 topK\n",
    "def dpp(kernel_matrix, max_length, epsilon=1E-10):\n",
    "    item_size = kernel_matrix.shape[0]\n",
    "    cis = np.zeros((max_length, item_size))\n",
    "    di2s = np.copy(np.diag(kernel_matrix))\n",
    "    selected_items = list()\n",
    "    selected_item = np.argmax(di2s)\n",
    "    selected_items.append(selected_item)\n",
    "    while len(selected_items) < max_length:\n",
    "        k = len(selected_items) - 1\n",
    "        ci_optimal = cis[:k, selected_item]\n",
    "        di_optimal = math.sqrt(di2s[selected_item])\n",
    "        elements = kernel_matrix[selected_item, :]\n",
    "        eis = (elements - np.dot(ci_optimal, cis[:k, :])) / di_optimal\n",
    "        cis[k, :] = eis\n",
    "        di2s -= np.square(eis)\n",
    "        di2s[selected_item] = -np.inf\n",
    "        selected_item = np.argmax(di2s)\n",
    "        if di2s[selected_item] < epsilon:\n",
    "            break\n",
    "        selected_items.append(selected_item)\n",
    "    return selected_items"
   ]
  },
  {
   "cell_type": "code",
   "execution_count": 38,
   "metadata": {},
   "outputs": [],
   "source": [
    "# 获取推荐列表与参考服务相比较精确度\n",
    "def get_dcg_value(constraint, result_list):\n",
    "    gain = lambda score, rank: (np.power(2, score) - 1) / np.log2(1 + rank)\n",
    "    dcg = np.sum([gain(get_similarity(item, constraint), index+1) for (index, item) in enumerate(result_list)])\n",
    "    return dcg"
   ]
  },
  {
   "cell_type": "code",
   "execution_count": 39,
   "metadata": {},
   "outputs": [],
   "source": [
    "# 获取某个列表的多样性，用累计不相似度来表示，alpha 是一个固定的参数，dimensions 表示 item 的维度\n",
    "def get_diversity_of_list(hlist, alpha=0.5, dimensions=8):\n",
    "    return 2 / (len(hlist) * (len(hlist) - 1)) * np.sum([1 - get_similarity(hlist[i], hlist[j], alpha, dimensions) for i, j in list(permutations(range(len(hlist)), 2))])"
   ]
  },
  {
   "cell_type": "code",
   "execution_count": 40,
   "metadata": {},
   "outputs": [],
   "source": [
    "# 获取两个列表的多样性均方根误差，top_k 表示推荐的服务数量\n",
    "def get_rmdse_of_lists(historical_list, recommend_list, top_k):\n",
    "    historical_diversity = get_diversity_of_list(historical_list)\n",
    "    recommend_diversity = get_diversity_of_list(recommend_list)\n",
    "    return np.sum(np.square(historical_diversity - recommend_diversity)) / top_k"
   ]
  },
  {
   "cell_type": "code",
   "execution_count": 41,
   "metadata": {},
   "outputs": [],
   "source": [
    "# 控制变量法比较候选集数量，属性维度，推荐数量\n",
    "n_list = [1000, 1300, 1600, 1900, 2200, 2500]\n",
    "d_list = [3, 4, 5, 6, 7, 8]\n",
    "top_k = [3, 4, 5, 6, 7, 8]"
   ]
  },
  {
   "cell_type": "code",
   "execution_count": 42,
   "metadata": {},
   "outputs": [],
   "source": [
    "# 使用 dpp 评判\n",
    "dpp_res = {}"
   ]
  },
  {
   "cell_type": "code",
   "execution_count": null,
   "metadata": {},
   "outputs": [],
   "source": [
    "# 根据控制变量法，设置设置实验参数变化的影响结果\n",
    "exp_list = list(product(n_list, d_list, top_k))"
   ]
  },
  {
   "cell_type": "code",
   "execution_count": 48,
   "metadata": {},
   "outputs": [
    {
     "data": {
      "text/plain": [
       "array([0.04522813, 1.        , 0.29534884])"
      ]
     },
     "execution_count": 48,
     "metadata": {},
     "output_type": "execute_result"
    }
   ],
   "source": [
    "for (n, dimension, topK) in exp_list:\n",
    "    pass"
   ]
  },
  {
   "cell_type": "code",
   "execution_count": null,
   "metadata": {},
   "outputs": [],
   "source": [
    "def dpp_eva(n, dimension, topK):\n",
    "    _constraint = constrains[0, :dimension]\n",
    "    _candidates = candidates[:n, :dimension]\n",
    "    _kernel_matrix = get_kernel_matrix(_constraint, _candidates, 1, 1)\n",
    "    _result_list = dpp(_kernel_matrix, topK)\n",
    "    _dcg = get_dcg_value(_constraint, _result_list)\n",
    "    _diversity = get_diversity_of_list(_result_list)\n",
    "    _rmdse = get_rmdse_of_lists(_constraint, _result_list, topK)\n",
    "    return _dcg, _diversity, _rmdse"
   ]
  }
 ],
 "metadata": {
  "interpreter": {
   "hash": "ea03d0f6864a00681e1876a62ce814141bcaaae4298c3021ca1f88134d7638a3"
  },
  "kernelspec": {
   "display_name": "OpenVINO 2022.1",
   "language": "python",
   "name": "python3"
  },
  "language_info": {
   "codemirror_mode": {
    "name": "ipython",
    "version": 3
   },
   "file_extension": ".py",
   "mimetype": "text/x-python",
   "name": "python",
   "nbconvert_exporter": "python",
   "pygments_lexer": "ipython3",
   "version": "3.10.4"
  },
  "orig_nbformat": 4
 },
 "nbformat": 4,
 "nbformat_minor": 2
}
