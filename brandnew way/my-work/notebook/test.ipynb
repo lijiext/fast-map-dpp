{
 "cells": [
  {
   "cell_type": "code",
   "execution_count": 16,
   "metadata": {},
   "outputs": [],
   "source": [
    "import numpy as np, pickle, math, os\n",
    "from itertools import combinations\n",
    "from scipy import spatial\n",
    "from scipy import stats\n",
    "from tqdm import tqdm\n",
    "from collections import Counter"
   ]
  },
  {
   "cell_type": "code",
   "execution_count": 17,
   "metadata": {},
   "outputs": [],
   "source": [
    "np.set_printoptions(linewidth=400)"
   ]
  },
  {
   "cell_type": "code",
   "execution_count": 18,
   "metadata": {},
   "outputs": [],
   "source": [
    "with open('../code/qws.pickle', 'rb') as f:\n",
    "    constrains_service = pickle.load(f)\n",
    "    candidates_service = pickle.load(f)\n",
    "    histories = pickle.load(f)\n",
    "    f.close()    "
   ]
  },
  {
   "cell_type": "code",
   "execution_count": 19,
   "metadata": {},
   "outputs": [],
   "source": [
    "# 对于用户的每一次调用记录，统计调用中的最大值的索引\n",
    "indexs = [[np.argmax(i) for i in item] for item in histories]"
   ]
  },
  {
   "cell_type": "code",
   "execution_count": 20,
   "metadata": {},
   "outputs": [
    {
     "name": "stdout",
     "output_type": "stream",
     "text": [
      "se: 0.0\n",
      "se: 0.0\n",
      "se: -0.37123232664087563\n",
      "se: 0.0\n",
      "se: -0.35335933502142136\n",
      "se: 0.0\n",
      "se: 0.0\n",
      "se: 0.0\n",
      "se: -0.4689955935892812\n",
      "se: -0.35335933502142136\n"
     ]
    }
   ],
   "source": [
    "for item in indexs:\n",
    "    # print('user_invoke_indexs:', item)\n",
    "    # print('count:', Counter(item))\n",
    "    shannon_entropy = sum([count / len(item) * (math.log2(count / len(item))) for count in Counter(item).values()])\n",
    "    print('se:', shannon_entropy)\n",
    "    "
   ]
  }
 ],
 "metadata": {
  "interpreter": {
   "hash": "f26cd6e0b5ac18e57192a5a821bea7993ebc578946ba8b6ebe443716728746ce"
  },
  "kernelspec": {
   "display_name": "Python 3.8.12 ('dpp')",
   "language": "python",
   "name": "python3"
  },
  "language_info": {
   "codemirror_mode": {
    "name": "ipython",
    "version": 3
   },
   "file_extension": ".py",
   "mimetype": "text/x-python",
   "name": "python",
   "nbconvert_exporter": "python",
   "pygments_lexer": "ipython3",
   "version": "3.8.12"
  },
  "orig_nbformat": 4
 },
 "nbformat": 4,
 "nbformat_minor": 2
}