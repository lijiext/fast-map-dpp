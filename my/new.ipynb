{
 "cells": [
  {
   "cell_type": "code",
   "execution_count": 250,
   "metadata": {},
   "outputs": [],
   "source": [
    "import numpy as np, pandas as pd, matplotlib.pyplot as plt, math, sklearn.metrics as skm, scipy\n",
    "np.set_printoptions(linewidth=400)"
   ]
  },
  {
   "cell_type": "code",
   "execution_count": 251,
   "metadata": {},
   "outputs": [
    {
     "data": {
      "text/html": [
       "<div>\n",
       "<style scoped>\n",
       "    .dataframe tbody tr th:only-of-type {\n",
       "        vertical-align: middle;\n",
       "    }\n",
       "\n",
       "    .dataframe tbody tr th {\n",
       "        vertical-align: top;\n",
       "    }\n",
       "\n",
       "    .dataframe thead th {\n",
       "        text-align: right;\n",
       "    }\n",
       "</style>\n",
       "<table border=\"1\" class=\"dataframe\">\n",
       "  <thead>\n",
       "    <tr style=\"text-align: right;\">\n",
       "      <th></th>\n",
       "      <th>0</th>\n",
       "      <th>1</th>\n",
       "      <th>2</th>\n",
       "      <th>3</th>\n",
       "      <th>4</th>\n",
       "      <th>5</th>\n",
       "      <th>6</th>\n",
       "      <th>7</th>\n",
       "      <th>8</th>\n",
       "    </tr>\n",
       "  </thead>\n",
       "  <tbody>\n",
       "    <tr>\n",
       "      <th>1</th>\n",
       "      <td>302.75</td>\n",
       "      <td>89</td>\n",
       "      <td>7.1</td>\n",
       "      <td>90</td>\n",
       "      <td>73</td>\n",
       "      <td>78</td>\n",
       "      <td>80</td>\n",
       "      <td>187.75</td>\n",
       "      <td>32</td>\n",
       "    </tr>\n",
       "    <tr>\n",
       "      <th>2</th>\n",
       "      <td>482</td>\n",
       "      <td>85</td>\n",
       "      <td>16</td>\n",
       "      <td>95</td>\n",
       "      <td>73</td>\n",
       "      <td>100</td>\n",
       "      <td>84</td>\n",
       "      <td>1</td>\n",
       "      <td>2</td>\n",
       "    </tr>\n",
       "    <tr>\n",
       "      <th>3</th>\n",
       "      <td>3321.4</td>\n",
       "      <td>89</td>\n",
       "      <td>1.4</td>\n",
       "      <td>96</td>\n",
       "      <td>73</td>\n",
       "      <td>78</td>\n",
       "      <td>80</td>\n",
       "      <td>2.6</td>\n",
       "      <td>96</td>\n",
       "    </tr>\n",
       "    <tr>\n",
       "      <th>4</th>\n",
       "      <td>126.17</td>\n",
       "      <td>98</td>\n",
       "      <td>12</td>\n",
       "      <td>100</td>\n",
       "      <td>67</td>\n",
       "      <td>78</td>\n",
       "      <td>82</td>\n",
       "      <td>22.77</td>\n",
       "      <td>89</td>\n",
       "    </tr>\n",
       "    <tr>\n",
       "      <th>5</th>\n",
       "      <td>107</td>\n",
       "      <td>87</td>\n",
       "      <td>1.9</td>\n",
       "      <td>95</td>\n",
       "      <td>73</td>\n",
       "      <td>89</td>\n",
       "      <td>62</td>\n",
       "      <td>58.33</td>\n",
       "      <td>93</td>\n",
       "    </tr>\n",
       "    <tr>\n",
       "      <th>...</th>\n",
       "      <td>...</td>\n",
       "      <td>...</td>\n",
       "      <td>...</td>\n",
       "      <td>...</td>\n",
       "      <td>...</td>\n",
       "      <td>...</td>\n",
       "      <td>...</td>\n",
       "      <td>...</td>\n",
       "      <td>...</td>\n",
       "    </tr>\n",
       "    <tr>\n",
       "      <th>2503</th>\n",
       "      <td>200.8</td>\n",
       "      <td>93</td>\n",
       "      <td>2.4</td>\n",
       "      <td>98</td>\n",
       "      <td>73</td>\n",
       "      <td>100</td>\n",
       "      <td>84</td>\n",
       "      <td>7.4</td>\n",
       "      <td>41</td>\n",
       "    </tr>\n",
       "    <tr>\n",
       "      <th>2504</th>\n",
       "      <td>56.17</td>\n",
       "      <td>97</td>\n",
       "      <td>11.3</td>\n",
       "      <td>97</td>\n",
       "      <td>83</td>\n",
       "      <td>78</td>\n",
       "      <td>91</td>\n",
       "      <td>7.17</td>\n",
       "      <td>3</td>\n",
       "    </tr>\n",
       "    <tr>\n",
       "      <th>2505</th>\n",
       "      <td>93.93</td>\n",
       "      <td>80</td>\n",
       "      <td>2.1</td>\n",
       "      <td>80</td>\n",
       "      <td>67</td>\n",
       "      <td>78</td>\n",
       "      <td>82</td>\n",
       "      <td>3.72</td>\n",
       "      <td>60</td>\n",
       "    </tr>\n",
       "    <tr>\n",
       "      <th>2506</th>\n",
       "      <td>106.75</td>\n",
       "      <td>86</td>\n",
       "      <td>1.3</td>\n",
       "      <td>95</td>\n",
       "      <td>80</td>\n",
       "      <td>78</td>\n",
       "      <td>87</td>\n",
       "      <td>1.25</td>\n",
       "      <td>96</td>\n",
       "    </tr>\n",
       "    <tr>\n",
       "      <th>2507</th>\n",
       "      <td>316.5</td>\n",
       "      <td>72</td>\n",
       "      <td>15.9</td>\n",
       "      <td>72</td>\n",
       "      <td>80</td>\n",
       "      <td>89</td>\n",
       "      <td>87</td>\n",
       "      <td>5.5</td>\n",
       "      <td>8</td>\n",
       "    </tr>\n",
       "  </tbody>\n",
       "</table>\n",
       "<p>2507 rows × 9 columns</p>\n",
       "</div>"
      ],
      "text/plain": [
       "                   0              1            2                3  \\\n",
       "1     302.75          89             7.1          90                \n",
       "2     482             85             16           95                \n",
       "3     3321.4          89             1.4          96                \n",
       "4     126.17          98             12           100               \n",
       "5     107             87             1.9          95                \n",
       "...              ...            ...          ...              ...   \n",
       "2503  200.8           93             2.4          98                \n",
       "2504  56.17           97             11.3         97                \n",
       "2505  93.93           80             2.1          80                \n",
       "2506  106.75          86             1.3          95                \n",
       "2507  316.5           72             15.9         72                \n",
       "\n",
       "                 4            5                6           7               8  \n",
       "1     73            78           80               187.75      32              \n",
       "2     73            100          84               1           2               \n",
       "3     73            78           80               2.6         96              \n",
       "4     67            78           82               22.77       89              \n",
       "5     73            89           62               58.33       93              \n",
       "...            ...          ...              ...         ...             ...  \n",
       "2503  73            100          84               7.4         41              \n",
       "2504  83            78           91               7.17        3               \n",
       "2505  67            78           82               3.72        60              \n",
       "2506  80            78           87               1.25        96              \n",
       "2507  80            89           87               5.5         8               \n",
       "\n",
       "[2507 rows x 9 columns]"
      ]
     },
     "execution_count": 251,
     "metadata": {},
     "output_type": "execute_result"
    }
   ],
   "source": [
    "data = pd.read_table('qws2.CSV', header=None, delimiter=',')\n",
    "\n",
    "pd_data = data.iloc[1:, 0:9]\n",
    "pd_data"
   ]
  },
  {
   "cell_type": "code",
   "execution_count": 252,
   "metadata": {},
   "outputs": [],
   "source": [
    "pd_data = pd_data.values.astype(float)\n",
    "item_size = pd_data.shape[0]\n",
    "feature_dimension = pd_data.shape[1]\n",
    "max_length = 10\n",
    "epsilon = 1E-10"
   ]
  },
  {
   "cell_type": "code",
   "execution_count": 253,
   "metadata": {},
   "outputs": [
    {
     "name": "stdout",
     "output_type": "stream",
     "text": [
      "feature_vectors:\n",
      "[[3.0275e+02 8.9000e+01 7.1000e+00 ... 8.0000e+01 1.8775e+02 3.2000e+01]\n",
      " [4.8200e+02 8.5000e+01 1.6000e+01 ... 8.4000e+01 1.0000e+00 2.0000e+00]\n",
      " [3.3214e+03 8.9000e+01 1.4000e+00 ... 8.0000e+01 2.6000e+00 9.6000e+01]\n",
      " ...\n",
      " [9.3930e+01 8.0000e+01 2.1000e+00 ... 8.2000e+01 3.7200e+00 6.0000e+01]\n",
      " [1.0675e+02 8.6000e+01 1.3000e+00 ... 8.7000e+01 1.2500e+00 9.6000e+01]\n",
      " [3.1650e+02 7.2000e+01 1.5900e+01 ... 8.7000e+01 5.5000e+00 8.0000e+00]]\n"
     ]
    }
   ],
   "source": [
    "feature_vectors = pd_data\n",
    "print('feature_vectors:', feature_vectors, sep='\\n')"
   ]
  },
  {
   "cell_type": "code",
   "execution_count": 254,
   "metadata": {},
   "outputs": [
    {
     "name": "stdout",
     "output_type": "stream",
     "text": [
      "l2-normalized feature_vectors:\n",
      "[[7.52615874e-01 2.21247937e-01 1.76501163e-02 ... 1.98874550e-01 4.66733709e-01 7.95498199e-02]\n",
      " [9.25520798e-01 1.63214249e-01 3.07226821e-02 ... 1.61294081e-01 1.92016763e-03 3.84033526e-03]\n",
      " [9.98003821e-01 2.67424399e-02 4.20667595e-04 ... 2.40381483e-02 7.81239819e-04 2.88457779e-02]\n",
      " ...\n",
      " [4.55423370e-01 3.87883207e-01 1.01819342e-02 ... 3.97580287e-01 1.80365691e-02 2.90912405e-01]\n",
      " [4.46778607e-01 3.59934053e-01 5.44086360e-03 ... 3.64119333e-01 5.23159961e-03 4.01786850e-01]\n",
      " [8.68583913e-01 1.97592549e-01 4.36350212e-02 ... 2.38757663e-01 1.50938753e-02 2.19547277e-02]]\n"
     ]
    }
   ],
   "source": [
    "feature_vectors = feature_vectors / np.linalg.norm(feature_vectors, axis=1, keepdims=True)\n",
    "print('l2-normalized feature_vectors:', feature_vectors, sep='\\n')"
   ]
  },
  {
   "cell_type": "code",
   "execution_count": 255,
   "metadata": {},
   "outputs": [
    {
     "name": "stdout",
     "output_type": "stream",
     "text": [
      "similarities:\n",
      "[[1.         0.86997638 0.77945642 ... 0.75845166 0.73581933 0.88588136]\n",
      " [0.86997638 1.         0.94487737 ... 0.73931327 0.71484563 0.98982433]\n",
      " [0.77945642 0.94487737 1.         ... 0.51003225 0.50232576 0.8947768 ]\n",
      " ...\n",
      " [0.75845166 0.73931327 0.51003225 ... 1.         0.9913373  0.81457884]\n",
      " [0.73581933 0.71484563 0.50232576 ... 0.9913373  1.         0.78706589]\n",
      " [0.88588136 0.98982433 0.8947768  ... 0.81457884 0.78706589 1.        ]]\n"
     ]
    }
   ],
   "source": [
    "similarities = np.dot(feature_vectors, feature_vectors.T)\n",
    "print('similarities:', similarities, sep='\\n')"
   ]
  },
  {
   "cell_type": "code",
   "execution_count": 256,
   "metadata": {},
   "outputs": [],
   "source": [
    "class User:\n",
    "    call_num = np.random.randint(5, 15 + 1) # [low, hight + 1)\n",
    "    call_history = np.random.choice(item_size, call_num, replace=False) # 从item_size中随机挑选call_num个数，不重复\n",
    "    representative_item_index = call_history[np.random.randint(0, call_num)] # 随机选择一个item作为参考服务\n",
    "    representative_item_value = pd_data[representative_item_index - 1] # pd_data [0, 2506]\n",
    "    def __init__(self):\n",
    "        print(f'call_num: {self.call_num}')\n",
    "        print(f'call_history: {self.call_history}')\n",
    "        print(f'representative_item_index: {self.representative_item_index}')\n",
    "        print(f'representative_item_value: {self.representative_item_value}')\n",
    "    def __str__(self):\n",
    "        return f'call_num: {self.call_num} \\ncall_history: {self.call_history} \\nrepresentative_item_index: {self.representative_item_index} \\nrepresentative_item_value: {self.representative_item_value}'"
   ]
  },
  {
   "cell_type": "code",
   "execution_count": 257,
   "metadata": {},
   "outputs": [
    {
     "name": "stdout",
     "output_type": "stream",
     "text": [
      "call_num: 14\n",
      "call_history: [1086  211 1559  620  871  417 2399 2343  690 2489  110  739 1660 1542]\n",
      "representative_item_index: 1660\n",
      "representative_item_value: [2.17517e+03 4.70000e+01 2.30000e+00 4.80000e+01 7.30000e+01 1.00000e+02 8.40000e+01 1.84000e+00 5.00000e+00]\n"
     ]
    }
   ],
   "source": [
    "# 生成用户\n",
    "user = User()"
   ]
  },
  {
   "cell_type": "code",
   "execution_count": 258,
   "metadata": {},
   "outputs": [
    {
     "name": "stdout",
     "output_type": "stream",
     "text": [
      "similarities_with_rep\n",
      "[0.79709122 0.82272562 0.65714158 ... 0.95761948 0.96169689 0.8810324 ]\n"
     ]
    }
   ],
   "source": [
    "# 所有item与参考服务的相似度\n",
    "similarities_with_rep = similarities[user.representative_item_index]\n",
    "print('similarities_with_rep', similarities_with_rep, sep='\\n')"
   ]
  },
  {
   "cell_type": "code",
   "execution_count": 259,
   "metadata": {},
   "outputs": [
    {
     "data": {
      "text/plain": [
       "0.9999999999999998"
      ]
     },
     "execution_count": 259,
     "metadata": {},
     "output_type": "execute_result"
    }
   ],
   "source": [
    "# 参考服务与自身的相似度为1\n",
    "similarities[user.representative_item_index, user.representative_item_index]"
   ]
  },
  {
   "cell_type": "code",
   "execution_count": 260,
   "metadata": {},
   "outputs": [
    {
     "name": "stdout",
     "output_type": "stream",
     "text": [
      "scores\n",
      "[1.23117736 1.231493   1.22945553 ... 1.23315533 1.23320561 1.23221126]\n"
     ]
    }
   ],
   "source": [
    "# 处理分数\n",
    "scores = np.exp(0.01 * similarities_with_rep + 0.2)\n",
    "print('scores', scores, sep='\\n')"
   ]
  },
  {
   "cell_type": "code",
   "execution_count": 261,
   "metadata": {},
   "outputs": [
    {
     "name": "stdout",
     "output_type": "stream",
     "text": [
      "kernel_matrix\n",
      "[[1.51579768 1.31904627 1.1798459  ... 1.15150628 1.11719068 1.34394457]\n",
      " [1.31904627 1.51657501 1.43060659 ... 1.12273752 1.08562468 1.50201837]\n",
      " [1.1798459  1.43060659 1.51156091 ... 0.77326482 0.76161199 1.35554117]\n",
      " ...\n",
      " [1.15150628 1.12273752 0.77326482 ... 1.52067207 1.50756041 1.23775897]\n",
      " [1.11719068 1.08562468 0.76161199 ... 1.50756041 1.52079608 1.19600158]\n",
      " [1.34394457 1.50201837 1.35554117 ... 1.23775897 1.19600158 1.51834458]]\n"
     ]
    }
   ],
   "source": [
    "# 生成核矩阵\n",
    "kernel_matrix = scores.reshape((item_size, 1)) * similarities * scores.reshape((1, item_size))\n",
    "print('kernel_matrix', kernel_matrix, sep='\\n')"
   ]
  },
  {
   "cell_type": "code",
   "execution_count": 262,
   "metadata": {},
   "outputs": [
    {
     "name": "stdout",
     "output_type": "stream",
     "text": [
      "rec_items_index: [1660, 373, 1160, 1323, 1628, 1329, 2168, 1864, 448]\n",
      "rec_items_value:\n",
      "[[1.50000e+02 5.60000e+01 1.10000e+01 5.60000e+01 8.30000e+01 8.90000e+01 9.10000e+01 5.00000e-01 9.20000e+01]\n",
      " [4.63761e+03 3.00000e+01 5.00000e-01 3.00000e+01 6.70000e+01 6.70000e+01 8.20000e+01 4.14035e+03 8.00000e+00]\n",
      " [4.10000e+01 9.70000e+01 4.31000e+01 9.90000e+01 7.30000e+01 1.00000e+02 8.40000e+01 1.00000e+00 5.00000e+00]\n",
      " [4.98967e+03 9.30000e+01 1.60000e+00 9.30000e+01 7.30000e+01 1.00000e+02 8.00000e+01 1.40000e+01 5.00000e+00]\n",
      " [4.83500e+01 1.00000e+01 1.49000e+01 1.00000e+01 6.70000e+01 7.80000e+01 8.20000e+01 2.92000e+00 4.00000e+00]\n",
      " [1.17670e+02 9.40000e+01 3.00000e+00 9.50000e+01 7.80000e+01 3.30000e+01 8.90000e+01 7.84000e+00 4.00000e+00]\n",
      " [1.22000e+02 3.90000e+01 1.10000e+00 3.90000e+01 3.30000e+01 7.80000e+01 7.10000e+01 7.85000e+00 4.00000e+00]\n",
      " [8.05000e+01 8.80000e+01 1.10000e+00 9.60000e+01 7.30000e+01 7.80000e+01 6.20000e+01 2.95000e+01 7.00000e+00]\n",
      " [9.00000e+01 8.50000e+01 3.11000e+01 9.50000e+01 6.00000e+01 8.90000e+01 7.90000e+01 1.00000e+00 8.90000e+01]]\n"
     ]
    }
   ],
   "source": [
    "# 生成推荐列表\n",
    "cis = np.zeros((max_length, item_size))\n",
    "di2s = np.copy(np.diag(kernel_matrix))\n",
    "selected_items = list()\n",
    "selected_item = np.argmax(di2s)\n",
    "selected_items.append(selected_item)\n",
    "\n",
    "while len(selected_items) < max_length:\n",
    "    k = len(selected_items) - 1\n",
    "    ci_optimal = cis[:k, selected_item]\n",
    "    di_optimal = math.sqrt(di2s[selected_item])\n",
    "    elements = kernel_matrix[selected_item, :]\n",
    "    eis = (elements - np.dot(ci_optimal, cis[:k, :])) / di_optimal\n",
    "    cis[k, :] = eis\n",
    "    di2s -= np.square(eis)\n",
    "    di2s[selected_item] = -np.inf\n",
    "    selected_item = np.argmax(di2s)\n",
    "    if di2s[selected_item] < epsilon:\n",
    "        break\n",
    "    selected_items.append(selected_item)\n",
    "    \n",
    "print('rec_items_index:', selected_items)\n",
    "print(\"rec_items_value:\", pd_data[selected_items], sep='\\n')"
   ]
  },
  {
   "cell_type": "code",
   "execution_count": 263,
   "metadata": {},
   "outputs": [
    {
     "name": "stdout",
     "output_type": "stream",
     "text": [
      "user:\n",
      "call_num: 14 \n",
      "call_history: [1086  211 1559  620  871  417 2399 2343  690 2489  110  739 1660 1542] \n",
      "representative_item_index: 1660 \n",
      "representative_item_value: [2.17517e+03 4.70000e+01 2.30000e+00 4.80000e+01 7.30000e+01 1.00000e+02 8.40000e+01 1.84000e+00 5.00000e+00]\n"
     ]
    }
   ],
   "source": [
    "# 如上，我们得到了根据用户的服务调用历史记录生成的推荐列表\n",
    "print('user:', user, sep='\\n')"
   ]
  },
  {
   "cell_type": "code",
   "execution_count": 264,
   "metadata": {},
   "outputs": [
    {
     "name": "stdout",
     "output_type": "stream",
     "text": [
      "rec_items_index: [1660, 373, 1160, 1323, 1628, 1329, 2168, 1864, 448]\n",
      "rec_items_value:\n",
      "[[1.50000e+02 5.60000e+01 1.10000e+01 5.60000e+01 8.30000e+01 8.90000e+01 9.10000e+01 5.00000e-01 9.20000e+01]\n",
      " [4.63761e+03 3.00000e+01 5.00000e-01 3.00000e+01 6.70000e+01 6.70000e+01 8.20000e+01 4.14035e+03 8.00000e+00]\n",
      " [4.10000e+01 9.70000e+01 4.31000e+01 9.90000e+01 7.30000e+01 1.00000e+02 8.40000e+01 1.00000e+00 5.00000e+00]\n",
      " [4.98967e+03 9.30000e+01 1.60000e+00 9.30000e+01 7.30000e+01 1.00000e+02 8.00000e+01 1.40000e+01 5.00000e+00]\n",
      " [4.83500e+01 1.00000e+01 1.49000e+01 1.00000e+01 6.70000e+01 7.80000e+01 8.20000e+01 2.92000e+00 4.00000e+00]\n",
      " [1.17670e+02 9.40000e+01 3.00000e+00 9.50000e+01 7.80000e+01 3.30000e+01 8.90000e+01 7.84000e+00 4.00000e+00]\n",
      " [1.22000e+02 3.90000e+01 1.10000e+00 3.90000e+01 3.30000e+01 7.80000e+01 7.10000e+01 7.85000e+00 4.00000e+00]\n",
      " [8.05000e+01 8.80000e+01 1.10000e+00 9.60000e+01 7.30000e+01 7.80000e+01 6.20000e+01 2.95000e+01 7.00000e+00]\n",
      " [9.00000e+01 8.50000e+01 3.11000e+01 9.50000e+01 6.00000e+01 8.90000e+01 7.90000e+01 1.00000e+00 8.90000e+01]]\n"
     ]
    }
   ],
   "source": [
    "print('rec_items_index:', selected_items)\n",
    "print(\"rec_items_value:\", pd_data[selected_items], sep='\\n')"
   ]
  },
  {
   "cell_type": "code",
   "execution_count": 265,
   "metadata": {},
   "outputs": [
    {
     "name": "stdout",
     "output_type": "stream",
     "text": [
      "similarities_between_rep_and_rec:\n",
      "[1.         0.47146496 0.77828537 0.63660976 0.82865239 0.86685197 0.91704186 0.85197143 0.94014186]\n"
     ]
    }
   ],
   "source": [
    "# 参考服务 与 推荐列表的相似度\n",
    "similarities_between_rep_and_rec = similarities[user.representative_item_index, selected_items]\n",
    "print('similarities_between_rep_and_rec:', similarities_between_rep_and_rec, sep='\\n')"
   ]
  },
  {
   "cell_type": "code",
   "execution_count": 266,
   "metadata": {},
   "outputs": [
    {
     "name": "stdout",
     "output_type": "stream",
     "text": [
      "similarities_avg_between_rec_and_rep:\n",
      "0.810113288013395\n"
     ]
    }
   ],
   "source": [
    "# 推荐列表 与 参考服务的平均相似度\n",
    "similarities_avg_between_rec_and_rep = np.mean(similarities_between_rep_and_rec)\n",
    "print('similarities_avg_between_rec_and_rep:', similarities_avg_between_rec_and_rep, sep='\\n')"
   ]
  },
  {
   "cell_type": "code",
   "execution_count": 267,
   "metadata": {},
   "outputs": [],
   "source": [
    "# 如何衡量推荐列表的准确度， cg, dcg\n",
    "# DCG penalizes highly relevant documents that appear lower in the search \n",
    "# by reducing the graded relevance value \n",
    "# logarithimically proportional to the position of the result\n",
    "\n"
   ]
  },
  {
   "cell_type": "markdown",
   "metadata": {},
   "source": [
    "使用如下方式计算相似度， dis 为欧氏距离，KRCC 为肯德尔系数\n",
    "\n",
    "肯德尔系数：\n",
    "\n",
    "$\\tau=\\frac{\\text { (number of concordant pairs })-(\\text { number of discordant pairs })}{n(n-1) / 2}$\n",
    "\n",
    "$\\operatorname{Sim}\\left(s_{i}, s_{j}\\right)=\\alpha\\left(1-\\frac{d i s\\left(s_{i}, s_{j}\\right)}{\\sqrt{2}}\\right)+(1-\\alpha) \\operatorname{KRCC}\\left(s_{i}, s_{j}\\right)$"
   ]
  },
  {
   "cell_type": "code",
   "execution_count": 272,
   "metadata": {},
   "outputs": [
    {
     "name": "stdout",
     "output_type": "stream",
     "text": [
      "taus:\n",
      "[0.47892074 0.25354628 0.81698245 0.81698245 0.36623351 0.72222222 0.42257713 0.92966968 0.44444444 0.83333333 0.19720266 0.47892074 0.6479516  0.61111111]\n"
     ]
    }
   ],
   "source": [
    "# t = scipy.stats.kendalltau(user.representative_item_value, pd_data[selected_items[1]])\n",
    "# t.correlation\n",
    "taus = np.array([scipy.stats.kendalltau(user.representative_item_value, pd_data[item]).correlation for item in user.call_history])\n",
    "print('taus:', taus, sep='\\n')"
   ]
  },
  {
   "cell_type": "code",
   "execution_count": 275,
   "metadata": {},
   "outputs": [
    {
     "name": "stdout",
     "output_type": "stream",
     "text": [
      "distances:\n",
      "[1897.69659179 2125.25681848 2058.9227027   475.26067005 1861.15024407 1871.28672429 1877.04284195 2057.49681519 2006.98952476  359.64511814 1850.70024977 1966.84432167 2027.1593461  2050.1823047 ]\n"
     ]
    }
   ],
   "source": [
    "# 计算欧式距离\n",
    "distances = np.array([np.linalg.norm(user.representative_item_value - pd_data[item]) for item in user.call_history])\n",
    "distances = distances / np.max(distances) # 归一化\n",
    "distances = 1 - distances\n",
    "print('distances:', distances, sep='\\n')"
   ]
  },
  {
   "cell_type": "code",
   "execution_count": 270,
   "metadata": {},
   "outputs": [
    {
     "name": "stdout",
     "output_type": "stream",
     "text": [
      "similarities_original:\n",
      "[1.         0.47146496 0.77828537 0.63660976 0.82865239 0.86685197 0.91704186 0.85197143 0.94014186]\n",
      "similarities_avg_orginal:\n",
      "0.810113288013395\n",
      "similarities_with_combination:\n",
      "[0.61350934 0.25724788 0.47270326 0.5316856  0.57490507 0.50837888 0.66709085 0.47682701 0.52267614]\n",
      "similarities_avg_with_combination:\n",
      "0.5138915577569442\n"
     ]
    }
   ],
   "source": [
    "# 计算综合相似度\n",
    "alpha = 0.5\n",
    "similarities_with_combination = np.array([alpha * distances[i] + (1-alpha) * taus[i] for i in range(len(taus))])\n",
    "\n",
    "print('similarities_original:', similarities_between_rep_and_rec, sep='\\n')\n",
    "print('similarities_avg_orginal:', similarities_avg_between_rec_and_rep, sep='\\n')\n",
    "print('similarities_with_combination:', similarities_with_combination, sep='\\n')\n",
    "print('similarities_avg_with_combination:', np.mean(similarities_with_combination), sep='\\n')"
   ]
  },
  {
   "cell_type": "code",
   "execution_count": 271,
   "metadata": {},
   "outputs": [
    {
     "name": "stdout",
     "output_type": "stream",
     "text": [
      "user.call_num:\n",
      "14\n"
     ]
    }
   ],
   "source": [
    "# 如上得到的是user的推荐结果列表，该方法认为每个用户具有相同的多样性偏好\n",
    "# 有的用户调用了3个不同的服务，有的用户调用了30个不同的服务，这两者的多样性偏好显然是不同的\n",
    "# 我们需要根据用户的服务调用历史记录来计算用户的多样性偏好, user.call_num\n",
    "# 在计算核矩阵时，需要考虑用户的历史调用多样性偏好\n",
    "print('user.call_num:', user.call_num, sep='\\n')"
   ]
  }
 ],
 "metadata": {
  "interpreter": {
   "hash": "f26cd6e0b5ac18e57192a5a821bea7993ebc578946ba8b6ebe443716728746ce"
  },
  "kernelspec": {
   "display_name": "Python 3.8.12 ('dpp')",
   "language": "python",
   "name": "python3"
  },
  "language_info": {
   "codemirror_mode": {
    "name": "ipython",
    "version": 3
   },
   "file_extension": ".py",
   "mimetype": "text/x-python",
   "name": "python",
   "nbconvert_exporter": "python",
   "pygments_lexer": "ipython3",
   "version": "3.10.4"
  },
  "orig_nbformat": 4
 },
 "nbformat": 4,
 "nbformat_minor": 2
}
