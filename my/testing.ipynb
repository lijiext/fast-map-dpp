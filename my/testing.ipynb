{
 "cells": [
  {
   "cell_type": "code",
   "execution_count": 28,
   "metadata": {},
   "outputs": [],
   "source": [
    "import numpy as np, pandas as pd, matplotlib.pyplot as plt, scipy, math, sklearn.preprocessing"
   ]
  },
  {
   "cell_type": "code",
   "execution_count": 29,
   "metadata": {},
   "outputs": [],
   "source": [
    "np.set_printoptions(linewidth=400)"
   ]
  },
  {
   "cell_type": "code",
   "execution_count": 30,
   "metadata": {},
   "outputs": [
    {
     "data": {
      "text/html": [
       "<div>\n",
       "<style scoped>\n",
       "    .dataframe tbody tr th:only-of-type {\n",
       "        vertical-align: middle;\n",
       "    }\n",
       "\n",
       "    .dataframe tbody tr th {\n",
       "        vertical-align: top;\n",
       "    }\n",
       "\n",
       "    .dataframe thead th {\n",
       "        text-align: right;\n",
       "    }\n",
       "</style>\n",
       "<table border=\"1\" class=\"dataframe\">\n",
       "  <thead>\n",
       "    <tr style=\"text-align: right;\">\n",
       "      <th></th>\n",
       "      <th>0</th>\n",
       "      <th>1</th>\n",
       "      <th>2</th>\n",
       "      <th>3</th>\n",
       "      <th>4</th>\n",
       "      <th>5</th>\n",
       "      <th>6</th>\n",
       "      <th>7</th>\n",
       "      <th>8</th>\n",
       "    </tr>\n",
       "  </thead>\n",
       "  <tbody>\n",
       "    <tr>\n",
       "      <th>1</th>\n",
       "      <td>302.75</td>\n",
       "      <td>89</td>\n",
       "      <td>7.1</td>\n",
       "      <td>90</td>\n",
       "      <td>73</td>\n",
       "      <td>78</td>\n",
       "      <td>80</td>\n",
       "      <td>187.75</td>\n",
       "      <td>32</td>\n",
       "    </tr>\n",
       "    <tr>\n",
       "      <th>2</th>\n",
       "      <td>482</td>\n",
       "      <td>85</td>\n",
       "      <td>16</td>\n",
       "      <td>95</td>\n",
       "      <td>73</td>\n",
       "      <td>100</td>\n",
       "      <td>84</td>\n",
       "      <td>1</td>\n",
       "      <td>2</td>\n",
       "    </tr>\n",
       "    <tr>\n",
       "      <th>3</th>\n",
       "      <td>3321.4</td>\n",
       "      <td>89</td>\n",
       "      <td>1.4</td>\n",
       "      <td>96</td>\n",
       "      <td>73</td>\n",
       "      <td>78</td>\n",
       "      <td>80</td>\n",
       "      <td>2.6</td>\n",
       "      <td>96</td>\n",
       "    </tr>\n",
       "    <tr>\n",
       "      <th>4</th>\n",
       "      <td>126.17</td>\n",
       "      <td>98</td>\n",
       "      <td>12</td>\n",
       "      <td>100</td>\n",
       "      <td>67</td>\n",
       "      <td>78</td>\n",
       "      <td>82</td>\n",
       "      <td>22.77</td>\n",
       "      <td>89</td>\n",
       "    </tr>\n",
       "    <tr>\n",
       "      <th>5</th>\n",
       "      <td>107</td>\n",
       "      <td>87</td>\n",
       "      <td>1.9</td>\n",
       "      <td>95</td>\n",
       "      <td>73</td>\n",
       "      <td>89</td>\n",
       "      <td>62</td>\n",
       "      <td>58.33</td>\n",
       "      <td>93</td>\n",
       "    </tr>\n",
       "    <tr>\n",
       "      <th>...</th>\n",
       "      <td>...</td>\n",
       "      <td>...</td>\n",
       "      <td>...</td>\n",
       "      <td>...</td>\n",
       "      <td>...</td>\n",
       "      <td>...</td>\n",
       "      <td>...</td>\n",
       "      <td>...</td>\n",
       "      <td>...</td>\n",
       "    </tr>\n",
       "    <tr>\n",
       "      <th>2503</th>\n",
       "      <td>200.8</td>\n",
       "      <td>93</td>\n",
       "      <td>2.4</td>\n",
       "      <td>98</td>\n",
       "      <td>73</td>\n",
       "      <td>100</td>\n",
       "      <td>84</td>\n",
       "      <td>7.4</td>\n",
       "      <td>41</td>\n",
       "    </tr>\n",
       "    <tr>\n",
       "      <th>2504</th>\n",
       "      <td>56.17</td>\n",
       "      <td>97</td>\n",
       "      <td>11.3</td>\n",
       "      <td>97</td>\n",
       "      <td>83</td>\n",
       "      <td>78</td>\n",
       "      <td>91</td>\n",
       "      <td>7.17</td>\n",
       "      <td>3</td>\n",
       "    </tr>\n",
       "    <tr>\n",
       "      <th>2505</th>\n",
       "      <td>93.93</td>\n",
       "      <td>80</td>\n",
       "      <td>2.1</td>\n",
       "      <td>80</td>\n",
       "      <td>67</td>\n",
       "      <td>78</td>\n",
       "      <td>82</td>\n",
       "      <td>3.72</td>\n",
       "      <td>60</td>\n",
       "    </tr>\n",
       "    <tr>\n",
       "      <th>2506</th>\n",
       "      <td>106.75</td>\n",
       "      <td>86</td>\n",
       "      <td>1.3</td>\n",
       "      <td>95</td>\n",
       "      <td>80</td>\n",
       "      <td>78</td>\n",
       "      <td>87</td>\n",
       "      <td>1.25</td>\n",
       "      <td>96</td>\n",
       "    </tr>\n",
       "    <tr>\n",
       "      <th>2507</th>\n",
       "      <td>316.5</td>\n",
       "      <td>72</td>\n",
       "      <td>15.9</td>\n",
       "      <td>72</td>\n",
       "      <td>80</td>\n",
       "      <td>89</td>\n",
       "      <td>87</td>\n",
       "      <td>5.5</td>\n",
       "      <td>8</td>\n",
       "    </tr>\n",
       "  </tbody>\n",
       "</table>\n",
       "<p>2507 rows × 9 columns</p>\n",
       "</div>"
      ],
      "text/plain": [
       "                   0              1            2                3  \\\n",
       "1     302.75          89             7.1          90                \n",
       "2     482             85             16           95                \n",
       "3     3321.4          89             1.4          96                \n",
       "4     126.17          98             12           100               \n",
       "5     107             87             1.9          95                \n",
       "...              ...            ...          ...              ...   \n",
       "2503  200.8           93             2.4          98                \n",
       "2504  56.17           97             11.3         97                \n",
       "2505  93.93           80             2.1          80                \n",
       "2506  106.75          86             1.3          95                \n",
       "2507  316.5           72             15.9         72                \n",
       "\n",
       "                 4            5                6           7               8  \n",
       "1     73            78           80               187.75      32              \n",
       "2     73            100          84               1           2               \n",
       "3     73            78           80               2.6         96              \n",
       "4     67            78           82               22.77       89              \n",
       "5     73            89           62               58.33       93              \n",
       "...            ...          ...              ...         ...             ...  \n",
       "2503  73            100          84               7.4         41              \n",
       "2504  83            78           91               7.17        3               \n",
       "2505  67            78           82               3.72        60              \n",
       "2506  80            78           87               1.25        96              \n",
       "2507  80            89           87               5.5         8               \n",
       "\n",
       "[2507 rows x 9 columns]"
      ]
     },
     "execution_count": 30,
     "metadata": {},
     "output_type": "execute_result"
    }
   ],
   "source": [
    "# 读取数据集\n",
    "data = pd.read_table('qws2.CSV', header=None, delimiter=',')\n",
    "pd_data = data.iloc[1:, 0:9]\n",
    "pd_data"
   ]
  },
  {
   "cell_type": "code",
   "execution_count": 31,
   "metadata": {},
   "outputs": [],
   "source": [
    "# 根据数据集设置参数\n",
    "pd_data = pd_data.values.astype(float) # 转换为float类型\n",
    "item_size = pd_data.shape[0] # 获取数据集的行数\n",
    "feature_dimension = pd_data.shape[1] # 获取数据集的列数，特征维度\n",
    "max_length = 10 # 推荐列表的长度"
   ]
  },
  {
   "cell_type": "code",
   "execution_count": 40,
   "metadata": {},
   "outputs": [
    {
     "name": "stdout",
     "output_type": "stream",
     "text": [
      "feature_vectors:\n",
      "[[7.52615874e-01 2.21247937e-01 1.76501163e-02 ... 1.98874550e-01 4.66733709e-01 7.95498199e-02]\n",
      " [9.25520798e-01 1.63214249e-01 3.07226821e-02 ... 1.61294081e-01 1.92016763e-03 3.84033526e-03]\n",
      " [9.98003821e-01 2.67424399e-02 4.20667595e-04 ... 2.40381483e-02 7.81239819e-04 2.88457779e-02]\n",
      " ...\n",
      " [4.55423370e-01 3.87883207e-01 1.01819342e-02 ... 3.97580287e-01 1.80365691e-02 2.90912405e-01]\n",
      " [4.46778607e-01 3.59934053e-01 5.44086360e-03 ... 3.64119333e-01 5.23159961e-03 4.01786850e-01]\n",
      " [8.68583913e-01 1.97592549e-01 4.36350212e-02 ... 2.38757663e-01 1.50938753e-02 2.19547277e-02]]\n"
     ]
    }
   ],
   "source": [
    "# 归一化操作\n",
    "feature_vectors = pd_data\n",
    "feature_vectors = feature_vectors / np.linalg.norm(feature_vectors, axis=1, keepdims=True)\n",
    "# scaler = sklearn.preprocessing.MinMaxScaler()\n",
    "# feature_vectors = scaler.fit_transform(feature_vectors)\n",
    "print('feature_vectors:', feature_vectors, sep='\\n')"
   ]
  },
  {
   "cell_type": "code",
   "execution_count": 41,
   "metadata": {},
   "outputs": [],
   "source": [
    "# 定义用户类\n",
    "class User:\n",
    "    call_num = np.random.randint(5, 15 + 1) # [low, hight + 1)\n",
    "    call_history = np.random.choice(item_size, call_num, replace=False) # 从item_size中随机挑选call_num个数，不重复\n",
    "    representative_item_index = call_history[np.random.randint(0, call_num)] # 随机选择一个item作为参考服务\n",
    "    representative_item_value_origin = pd_data[representative_item_index - 1]\n",
    "    representative_item_value = feature_vectors[representative_item_index - 1] # pd_data [0, 2506]\n",
    "    def __init__(self):\n",
    "        print(f'call_num: {self.call_num}')\n",
    "        print(f'call_history: {self.call_history}')\n",
    "        print(f'representative_item_index: {self.representative_item_index}')\n",
    "        print(f'representative_item_value: {self.representative_item_value}')\n",
    "        print(f'representative_item_value_origin: {self.representative_item_value_origin}')\n",
    "    def __str__(self):\n",
    "        return f'call_num: {self.call_num} \\ncall_history: {self.call_history} \\nrepresentative_item_index: {self.representative_item_index} \\nrepresentative_item_value: {self.representative_item_value}'"
   ]
  },
  {
   "cell_type": "code",
   "execution_count": 45,
   "metadata": {},
   "outputs": [
    {
     "name": "stdout",
     "output_type": "stream",
     "text": [
      "call_num: 6\n",
      "call_history: [1279 2324 1460  311  359 2406]\n",
      "representative_item_index: 1279\n",
      "representative_item_value: [0.46354925 0.37470231 0.01892826 0.38242813 0.30903284 0.38629105 0.33607321 0.00645106 0.37470231]\n",
      "representative_item_value_origin: [120.    97.     4.9   99.    80.   100.    87.     1.67  97.  ]\n"
     ]
    }
   ],
   "source": [
    "# 生成用户\n",
    "user = User()"
   ]
  },
  {
   "cell_type": "code",
   "execution_count": 43,
   "metadata": {},
   "outputs": [
    {
     "name": "stdout",
     "output_type": "stream",
     "text": [
      "similarities:\n",
      "[[1.         0.86997638 0.77945642 ... 0.75845166 0.73581933 0.88588136]\n",
      " [0.86997638 1.         0.94487737 ... 0.73931327 0.71484563 0.98982433]\n",
      " [0.77945642 0.94487737 1.         ... 0.51003225 0.50232576 0.8947768 ]\n",
      " ...\n",
      " [0.75845166 0.73931327 0.51003225 ... 1.         0.9913373  0.81457884]\n",
      " [0.73581933 0.71484563 0.50232576 ... 0.9913373  1.         0.78706589]\n",
      " [0.88588136 0.98982433 0.8947768  ... 0.81457884 0.78706589 1.        ]]\n"
     ]
    }
   ],
   "source": [
    "# 如上我们构造了一个用户，为他随机生成了服务的调用历史记录\n",
    "# 我们根据服务服务调用历史记录随机选择了一个参考服务\n",
    "similarities = np.dot(feature_vectors, feature_vectors.T)\n",
    "print('similarities:', similarities, sep='\\n')"
   ]
  },
  {
   "cell_type": "markdown",
   "metadata": {},
   "source": [
    "使用如下方式计算相似度， dis 为欧氏距离，KRCC 为肯德尔系数\n",
    "\n",
    "肯德尔系数：\n",
    "\n",
    "$\\tau=\\frac{\\text { (number of concordant pairs })-(\\text { number of discordant pairs })}{n(n-1) / 2}$\n",
    "\n",
    "$\\operatorname{Sim}\\left(s_{i}, s_{j}\\right)=\\alpha\\left(1-\\frac{d i s\\left(s_{i}, s_{j}\\right)}{\\sqrt{2}}\\right)+(1-\\alpha) \\operatorname{KRCC}\\left(s_{i}, s_{j}\\right)$"
   ]
  },
  {
   "cell_type": "code",
   "execution_count": 51,
   "metadata": {},
   "outputs": [
    {
     "name": "stdout",
     "output_type": "stream",
     "text": [
      "taus:\n",
      "[0.30988989 0.81698245 0.68571429 ... 0.51428571 0.59160798 0.57142857]\n"
     ]
    }
   ],
   "source": [
    "# 现在我们拥有了相似度向量，还需要对于 item 的评分\n",
    "taus = np.array([scipy.stats.kendalltau(user.representative_item_value, item).correlation for item in feature_vectors])\n",
    "print('taus:', taus, sep='\\n')"
   ]
  },
  {
   "cell_type": "code",
   "execution_count": 57,
   "metadata": {},
   "outputs": [
    {
     "name": "stdout",
     "output_type": "stream",
     "text": [
      "distances:\n",
      "[0.7094904  0.72983024 0.98141925 ... 0.10770356 0.08172501 0.62638311]\n"
     ]
    }
   ],
   "source": [
    "# 欧氏距离\n",
    "distances = np.array([np.linalg.norm(user.representative_item_value - item) for item in feature_vectors])\n",
    "print('distances:', distances, sep='\\n')"
   ]
  },
  {
   "cell_type": "code",
   "execution_count": 66,
   "metadata": {},
   "outputs": [
    {
     "name": "stdout",
     "output_type": "stream",
     "text": [
      "scores:\n",
      "[0.50969015 0.77340634 0.83356677 ... 0.31099464 0.33666649 0.59890584]\n"
     ]
    }
   ],
   "source": [
    "# alpha 是一个平衡参数\n",
    "alpha = 0.5\n",
    "scores = np.array([alpha * distances[i] + (1-alpha) * taus[i] for i in range(len(taus))])\n",
    "print('scores:', scores, sep='\\n')"
   ]
  },
  {
   "cell_type": "code",
   "execution_count": 67,
   "metadata": {},
   "outputs": [
    {
     "name": "stdout",
     "output_type": "stream",
     "text": [
      "kernel_matrix\n",
      "[[0.25978405 0.34294259 0.33116045 ... 0.12022286 0.12626335 0.27042096]\n",
      " [0.34294259 0.59815737 0.60914904 ... 0.17782349 0.18613151 0.45848423]\n",
      " [0.33116045 0.60914904 0.69483355 ... 0.13221811 0.14096969 0.44669763]\n",
      " ...\n",
      " [0.12022286 0.17782349 0.13221811 ... 0.09671766 0.10379448 0.15172061]\n",
      " [0.12626335 0.18613151 0.14096969 ... 0.10379448 0.11334433 0.1586973 ]\n",
      " [0.27042096 0.45848423 0.44669763 ... 0.15172061 0.1586973  0.3586882 ]]\n"
     ]
    }
   ],
   "source": [
    "# 根据特征矩阵和 scores 生成核矩阵\n",
    "kernel_matrix = scores.reshape((item_size, 1)) * similarities * scores.reshape((1, item_size))\n",
    "print('kernel_matrix', kernel_matrix, sep='\\n')"
   ]
  },
  {
   "cell_type": "code",
   "execution_count": 68,
   "metadata": {},
   "outputs": [],
   "source": [
    "# dpp 核心算法\n",
    "def dpp(kernel_matrix, max_length, epsilon=1E-10):\n",
    "    cis = np.zeros((max_length, item_size))\n",
    "    di2s = np.copy(np.diag(kernel_matrix))\n",
    "    selected_items = list()\n",
    "    selected_item = np.argmax(di2s)\n",
    "    selected_items.append(selected_item)\n",
    "\n",
    "    while len(selected_items) < max_length:\n",
    "        k = len(selected_items) - 1\n",
    "        ci_optimal = cis[:k, selected_item]\n",
    "        di_optimal = math.sqrt(di2s[selected_item])\n",
    "        elements = kernel_matrix[selected_item, :]\n",
    "        eis = (elements - np.dot(ci_optimal, cis[:k, :])) / di_optimal\n",
    "        cis[k, :] = eis\n",
    "        di2s -= np.square(eis)\n",
    "        di2s[selected_item] = -np.inf\n",
    "        selected_item = np.argmax(di2s)\n",
    "        if di2s[selected_item] < epsilon:\n",
    "            break\n",
    "        selected_items.append(selected_item)\n",
    "    return selected_items"
   ]
  },
  {
   "cell_type": "code",
   "execution_count": 105,
   "metadata": {},
   "outputs": [
    {
     "name": "stdout",
     "output_type": "stream",
     "text": [
      "selected_items:\n",
      "[77, 786, 1497, 1070, 1628, 1548, 2168, 2165, 570]\n"
     ]
    }
   ],
   "source": [
    "# 调用 dpp 算法\n",
    "selected_items = dpp(kernel_matrix, max_length)\n",
    "print('selected_items:', selected_items, sep='\\n')"
   ]
  },
  {
   "cell_type": "code",
   "execution_count": 107,
   "metadata": {},
   "outputs": [
    {
     "name": "stdout",
     "output_type": "stream",
     "text": [
      "user.representative_item_index:\n",
      "1279\n"
     ]
    }
   ],
   "source": [
    "print('user.representative_item_index:', user.representative_item_index, sep='\\n')"
   ]
  },
  {
   "cell_type": "code",
   "execution_count": 109,
   "metadata": {},
   "outputs": [
    {
     "name": "stdout",
     "output_type": "stream",
     "text": [
      "0.5\n"
     ]
    }
   ],
   "source": [
    "print(scores[1278])"
   ]
  },
  {
   "cell_type": "code",
   "execution_count": 111,
   "metadata": {},
   "outputs": [
    {
     "name": "stdout",
     "output_type": "stream",
     "text": [
      "index: 0, item: 77, scores: 0.556329505357628\n",
      "index: 1, item: 786, scores: 0.6963184615889936\n",
      "index: 2, item: 1497, scores: 0.5871837464332773\n",
      "index: 3, item: 1070, scores: 0.7139475193111698\n",
      "index: 4, item: 1628, scores: 0.5574859690999936\n",
      "index: 5, item: 1548, scores: 0.4972302963115882\n",
      "index: 6, item: 2168, scores: 0.5832973779928448\n",
      "index: 7, item: 2165, scores: 0.6397542619643823\n",
      "index: 8, item: 570, scores: 0.5574365748343221\n"
     ]
    }
   ],
   "source": [
    "for (index, item) in enumerate(selected_items):\n",
    "    print(f\"index: {index}, item: {item}, scores: {scores[item - 1]}\")"
   ]
  },
  {
   "cell_type": "code",
   "execution_count": 112,
   "metadata": {},
   "outputs": [
    {
     "name": "stdout",
     "output_type": "stream",
     "text": [
      "dcg_value:\n",
      "6.456515902069293\n"
     ]
    }
   ],
   "source": [
    "# 计算推荐列表的准确性\n",
    "dcg_value = np.sum([2 ** scores[item - 1] / np.log2(index + 2) for (index, item) in enumerate(selected_items)])\n",
    "print('dcg_value:', dcg_value, sep='\\n')"
   ]
  }
 ],
 "metadata": {
  "interpreter": {
   "hash": "f26cd6e0b5ac18e57192a5a821bea7993ebc578946ba8b6ebe443716728746ce"
  },
  "kernelspec": {
   "display_name": "Python 3.10.4 ('dpp')",
   "language": "python",
   "name": "python3"
  },
  "language_info": {
   "codemirror_mode": {
    "name": "ipython",
    "version": 3
   },
   "file_extension": ".py",
   "mimetype": "text/x-python",
   "name": "python",
   "nbconvert_exporter": "python",
   "pygments_lexer": "ipython3",
   "version": "3.10.4"
  },
  "orig_nbformat": 4
 },
 "nbformat": 4,
 "nbformat_minor": 2
}
