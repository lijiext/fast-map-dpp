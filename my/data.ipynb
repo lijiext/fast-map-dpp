{
 "cells": [
  {
   "cell_type": "code",
   "execution_count": 1,
   "metadata": {},
   "outputs": [],
   "source": [
    "import numpy as np, pandas as pd, matplotlib.pyplot as plt, math, random"
   ]
  },
  {
   "cell_type": "code",
   "execution_count": 2,
   "metadata": {},
   "outputs": [],
   "source": [
    "np.set_printoptions(linewidth=400)"
   ]
  },
  {
   "cell_type": "code",
   "execution_count": 3,
   "metadata": {},
   "outputs": [
    {
     "data": {
      "text/plain": [
       "pandas.core.frame.DataFrame"
      ]
     },
     "execution_count": 3,
     "metadata": {},
     "output_type": "execute_result"
    }
   ],
   "source": [
    "data = pd.read_table('qws2.CSV', header=None, delimiter=',')\n",
    "\n",
    "pd_data = data.iloc[1:, 0:9]\n",
    "type(pd_data)"
   ]
  },
  {
   "cell_type": "code",
   "execution_count": 4,
   "metadata": {},
   "outputs": [],
   "source": [
    "item_size = pd_data.shape[0]\n",
    "\n",
    "feature_dimension = pd_data.shape[1]\n",
    "\n",
    "max_length = 10\n",
    "\n",
    "epsilon = 1E-10"
   ]
  },
  {
   "cell_type": "code",
   "execution_count": 5,
   "metadata": {},
   "outputs": [
    {
     "name": "stdout",
     "output_type": "stream",
     "text": [
      "scores: [1.22291464 1.20263814 1.22131686 ... 1.22425014 1.21676213 1.21335845]\n"
     ]
    }
   ],
   "source": [
    "scores = np.exp(0.01 * np.random.randn(item_size) + 0.2) #mu=0.2, sigma=0.01 的正态分布\n",
    "print('scores:', scores)"
   ]
  },
  {
   "cell_type": "code",
   "execution_count": 6,
   "metadata": {},
   "outputs": [],
   "source": [
    "# item_data_x = np.linspace(-100,100,1000)\n",
    "# item_data_y = np\n",
    "# 0.01 * np.random.randn(item_size) + 0.2\n",
    "# a = scores\n",
    "# plt.figure(figsize=(10,5), dpi=200)\n",
    "# plt.hist(a,100)# 画直方图\n",
    "# plt.xlabel(\"区间\")\n",
    "# plt.ylabel(\"频数/频率\")\n",
    "# plt.title(\"随机生成 scores 频数/频率分布直方图\")\n",
    "# plt.show()"
   ]
  },
  {
   "cell_type": "code",
   "execution_count": 7,
   "metadata": {},
   "outputs": [
    {
     "name": "stdout",
     "output_type": "stream",
     "text": [
      "<class 'numpy.ndarray'>\n",
      "[[3.0275e+02 8.9000e+01 7.1000e+00 ... 8.0000e+01 1.8775e+02 3.2000e+01]\n",
      " [4.8200e+02 8.5000e+01 1.6000e+01 ... 8.4000e+01 1.0000e+00 2.0000e+00]\n",
      " [3.3214e+03 8.9000e+01 1.4000e+00 ... 8.0000e+01 2.6000e+00 9.6000e+01]\n",
      " ...\n",
      " [9.3930e+01 8.0000e+01 2.1000e+00 ... 8.2000e+01 3.7200e+00 6.0000e+01]\n",
      " [1.0675e+02 8.6000e+01 1.3000e+00 ... 8.7000e+01 1.2500e+00 9.6000e+01]\n",
      " [3.1650e+02 7.2000e+01 1.5900e+01 ... 8.7000e+01 5.5000e+00 8.0000e+00]]\n"
     ]
    }
   ],
   "source": [
    "feature_vectors = pd_data.loc[:,:].values.astype(float)\n",
    "\n",
    "print(type(feature_vectors))\n",
    "print(feature_vectors)"
   ]
  },
  {
   "cell_type": "code",
   "execution_count": 8,
   "metadata": {},
   "outputs": [
    {
     "name": "stdout",
     "output_type": "stream",
     "text": [
      "l2_norm_feature_vectors:\n",
      "[[7.52615874e-01 2.21247937e-01 1.76501163e-02 ... 1.98874550e-01 4.66733709e-01 7.95498199e-02]\n",
      " [9.25520798e-01 1.63214249e-01 3.07226821e-02 ... 1.61294081e-01 1.92016763e-03 3.84033526e-03]\n",
      " [9.98003821e-01 2.67424399e-02 4.20667595e-04 ... 2.40381483e-02 7.81239819e-04 2.88457779e-02]\n",
      " ...\n",
      " [4.55423370e-01 3.87883207e-01 1.01819342e-02 ... 3.97580287e-01 1.80365691e-02 2.90912405e-01]\n",
      " [4.46778607e-01 3.59934053e-01 5.44086360e-03 ... 3.64119333e-01 5.23159961e-03 4.01786850e-01]\n",
      " [8.68583913e-01 1.97592549e-01 4.36350212e-02 ... 2.38757663e-01 1.50938753e-02 2.19547277e-02]]\n"
     ]
    }
   ],
   "source": [
    "feature_vectors = feature_vectors / np.linalg.norm(feature_vectors, axis=1, keepdims=True)\n",
    "print('l2_norm_feature_vectors:', feature_vectors, sep='\\n')"
   ]
  },
  {
   "cell_type": "code",
   "execution_count": 9,
   "metadata": {},
   "outputs": [
    {
     "name": "stdout",
     "output_type": "stream",
     "text": [
      "similarities:\n",
      "[[1.         0.86997638 0.77945642 ... 0.75845166 0.73581933 0.88588136]\n",
      " [0.86997638 1.         0.94487737 ... 0.73931327 0.71484563 0.98982433]\n",
      " [0.77945642 0.94487737 1.         ... 0.51003225 0.50232576 0.8947768 ]\n",
      " ...\n",
      " [0.75845166 0.73931327 0.51003225 ... 1.         0.9913373  0.81457884]\n",
      " [0.73581933 0.71484563 0.50232576 ... 0.9913373  1.         0.78706589]\n",
      " [0.88588136 0.98982433 0.8947768  ... 0.81457884 0.78706589 1.        ]]\n"
     ]
    }
   ],
   "source": [
    "similarities = np.dot(feature_vectors, feature_vectors.T)\n",
    "print('similarities:', similarities, sep='\\n')"
   ]
  },
  {
   "cell_type": "code",
   "execution_count": 10,
   "metadata": {},
   "outputs": [
    {
     "name": "stdout",
     "output_type": "stream",
     "text": [
      "reshaped score:\n",
      "[[1.4955202  1.47072378 1.49356626 ... 1.49715341 1.48799622 1.4838338 ]\n",
      " [1.47072378 1.44633849 1.46880223 ... 1.47232991 1.46332455 1.45923114]\n",
      " [1.49356626 1.46880223 1.49161486 ... 1.49519733 1.4860521  1.48189512]\n",
      " ...\n",
      " [1.49715341 1.47232991 1.49519733 ... 1.4987884  1.48962121 1.48545424]\n",
      " [1.48799622 1.46332455 1.4860521  ... 1.48962121 1.48051009 1.47636861]\n",
      " [1.4838338  1.45923114 1.48189512 ... 1.48545424 1.47636861 1.47223872]]\n"
     ]
    }
   ],
   "source": [
    "kernel_matrix = scores.reshape((item_size, 1)) * similarities * scores.reshape((1, item_size))\n",
    "print('reshaped score:', scores.reshape((item_size, 1)) * scores.reshape((1, item_size)), sep='\\n')"
   ]
  },
  {
   "cell_type": "code",
   "execution_count": 11,
   "metadata": {},
   "outputs": [
    {
     "name": "stdout",
     "output_type": "stream",
     "text": [
      "kernel_matrix:\n",
      "[[1.4955202  1.27949495 1.16416981 ... 1.13551849 1.09489637 1.31450071]\n",
      " [1.27949495 1.44633849 1.38783799 ... 1.08851304 1.04605116 1.44438249]\n",
      " [1.16416981 1.38783799 1.49161486 ... 0.76259886 0.74648226 1.32596537]\n",
      " ...\n",
      " [1.13551849 1.08851304 0.76259886 ... 1.4987884  1.47671707 1.2100196 ]\n",
      " [1.09489637 1.04605116 0.74648226 ... 1.47671707 1.48051009 1.16199937]\n",
      " [1.31450071 1.44438249 1.32596537 ... 1.2100196  1.16199937 1.47223872]]\n"
     ]
    }
   ],
   "source": [
    "print('kernel_matrix:', kernel_matrix, sep='\\n')"
   ]
  },
  {
   "cell_type": "code",
   "execution_count": 12,
   "metadata": {},
   "outputs": [
    {
     "name": "stdout",
     "output_type": "stream",
     "text": [
      "scores: [1.22291464 1.20263814 1.22131686 ... 1.22425014 1.21676213 1.21335845]\n",
      "selected_items_index: [1886, 852, 1323, 1628, 1329, 950, 960, 639, 306]\n",
      "selected_items_value: [1.26529398 1.24229485 1.2412679  1.22066163 1.21658216 1.20406151 1.23617242 1.23938555 1.24207665]\n"
     ]
    }
   ],
   "source": [
    "cis = np.zeros((max_length, item_size))\n",
    "di2s = np.copy(np.diag(kernel_matrix))\n",
    "selected_items = list()\n",
    "selected_item = np.argmax(di2s)\n",
    "selected_items.append(selected_item)\n",
    "\n",
    "while len(selected_items) < max_length:\n",
    "    k = len(selected_items) - 1\n",
    "    ci_optimal = cis[:k, selected_item]\n",
    "    di_optimal = math.sqrt(di2s[selected_item])\n",
    "    elements = kernel_matrix[selected_item, :]\n",
    "    eis = (elements - np.dot(ci_optimal, cis[:k, :])) / di_optimal\n",
    "    cis[k, :] = eis\n",
    "    di2s -= np.square(eis)\n",
    "    di2s[selected_item] = -np.inf\n",
    "    selected_item = np.argmax(di2s)\n",
    "    if di2s[selected_item] < epsilon:\n",
    "        break\n",
    "    selected_items.append(selected_item)\n",
    "    \n",
    "print('scores:', scores)\n",
    "print('selected_items_index:', selected_items)\n",
    "print(\"selected_items_value:\", scores[selected_items])\n"
   ]
  },
  {
   "cell_type": "code",
   "execution_count": 13,
   "metadata": {},
   "outputs": [],
   "source": [
    "# 产生十个用户，随机挑选5-15个item，作为服务调用历史记录\n",
    "# 并选择其中的一个服务作为约束条件，也就是参考服务"
   ]
  },
  {
   "cell_type": "code",
   "execution_count": 14,
   "metadata": {},
   "outputs": [],
   "source": [
    "class User:\n",
    "    call_num = np.random.randint(5, 15 + 1) # [low, hight + 1)\n",
    "    call_history = np.random.choice(item_size, call_num, replace=False) # 从item_size中随机挑选call_num个数，不重复\n",
    "    representative_item_index = call_history[np.random.randint(0, call_num)] # 随机选择一个item作为参考服务\n",
    "    representative_item = None\n",
    "    def __init__(self):\n",
    "        print(f'call_num: {self.call_num}')\n",
    "        print(f'call_history: {self.call_history}')\n",
    "        print(f'representative_item: {self.representative_item_index}')\n",
    "    def set_representative_item(self, item_value):\n",
    "        self.representative_item = item_value\n",
    "    def __str__(self):\n",
    "        return f'call_num: {self.call_num} \\ncall_history: {self.call_history} \\nrepresentative_item_index: {self.representative_item_index} \\nrepresentative_item: {self.representative_item}'\n"
   ]
  },
  {
   "cell_type": "code",
   "execution_count": 15,
   "metadata": {},
   "outputs": [
    {
     "name": "stdout",
     "output_type": "stream",
     "text": [
      "call_num: 7\n",
      "call_history: [1705 2491 2448 1204  163 2320 1139]\n",
      "representative_item: 1139\n"
     ]
    }
   ],
   "source": [
    "user = User()"
   ]
  },
  {
   "cell_type": "code",
   "execution_count": 16,
   "metadata": {},
   "outputs": [],
   "source": [
    "user.set_representative_item(pd_data.iloc[user.representative_item_index].values.astype(float))"
   ]
  },
  {
   "cell_type": "code",
   "execution_count": 17,
   "metadata": {},
   "outputs": [
    {
     "name": "stdout",
     "output_type": "stream",
     "text": [
      "call_num: 7 \n",
      "call_history: [1705 2491 2448 1204  163 2320 1139] \n",
      "representative_item_index: 1139 \n",
      "representative_item: [266.74  85.     4.4   86.    53.    89.    66.    82.44  10.  ]\n"
     ]
    }
   ],
   "source": [
    "print(user)"
   ]
  },
  {
   "cell_type": "code",
   "execution_count": 18,
   "metadata": {},
   "outputs": [
    {
     "data": {
      "text/plain": [
       "array([[1.        , 0.86997638, 0.77945642, ..., 0.75845166, 0.73581933, 0.88588136],\n",
       "       [0.86997638, 1.        , 0.94487737, ..., 0.73931327, 0.71484563, 0.98982433],\n",
       "       [0.77945642, 0.94487737, 1.        , ..., 0.51003225, 0.50232576, 0.8947768 ],\n",
       "       ...,\n",
       "       [0.75845166, 0.73931327, 0.51003225, ..., 1.        , 0.9913373 , 0.81457884],\n",
       "       [0.73581933, 0.71484563, 0.50232576, ..., 0.9913373 , 1.        , 0.78706589],\n",
       "       [0.88588136, 0.98982433, 0.8947768 , ..., 0.81457884, 0.78706589, 1.        ]])"
      ]
     },
     "execution_count": 18,
     "metadata": {},
     "output_type": "execute_result"
    }
   ],
   "source": [
    "similarities # (item_size, item_size)"
   ]
  },
  {
   "cell_type": "code",
   "execution_count": 19,
   "metadata": {},
   "outputs": [
    {
     "data": {
      "text/plain": [
       "array([1.22291464, 1.20263814, 1.22131686, ..., 1.22425014, 1.21676213, 1.21335845])"
      ]
     },
     "execution_count": 19,
     "metadata": {},
     "output_type": "execute_result"
    }
   ],
   "source": [
    "scores"
   ]
  },
  {
   "cell_type": "code",
   "execution_count": 20,
   "metadata": {},
   "outputs": [
    {
     "name": "stdout",
     "output_type": "stream",
     "text": [
      "rep item index: 1139\n"
     ]
    }
   ],
   "source": [
    "# 选择了一个参考服务，每个服务和参考服务的相似度就是该服务的分数\n",
    "print(f\"rep item index: {user.representative_item_index}\")"
   ]
  },
  {
   "cell_type": "code",
   "execution_count": 21,
   "metadata": {},
   "outputs": [
    {
     "data": {
      "text/plain": [
       "1.0"
      ]
     },
     "execution_count": 21,
     "metadata": {},
     "output_type": "execute_result"
    }
   ],
   "source": [
    "# 现在需要得到一个item——size维度的向量，表示每个服务与参考服务的相似度，作为得分\n",
    "similarities_with_rep = similarities[user.representative_item_index]\n",
    "similarities_with_rep[user.representative_item_index] # 参考服务与自身的相似度为1，丢失精度"
   ]
  },
  {
   "cell_type": "code",
   "execution_count": 22,
   "metadata": {},
   "outputs": [
    {
     "data": {
      "text/plain": [
       "array([1.23329721, 1.23306351, 1.23172036, ..., 1.23146576, 1.23108702, 1.23322623])"
      ]
     },
     "execution_count": 22,
     "metadata": {},
     "output_type": "execute_result"
    }
   ],
   "source": [
    "scores = np.exp(0.01 * similarities_with_rep + 0.2)\n",
    "scores\n",
    "# 现在得到了用户隐含的对于每个item的评分，需要根据此来生成推荐列表"
   ]
  },
  {
   "cell_type": "code",
   "execution_count": 23,
   "metadata": {},
   "outputs": [
    {
     "name": "stdout",
     "output_type": "stream",
     "text": [
      "reshaped score:\n",
      "[[1.52102201 1.52073379 1.51907728 ... 1.51876328 1.51829619 1.52093447]\n",
      " [1.52073379 1.52044562 1.51878943 ... 1.51847549 1.51800849 1.52064626]\n",
      " [1.51907728 1.51878943 1.51713504 ... 1.51682144 1.51635495 1.51898985]\n",
      " ...\n",
      " [1.51876328 1.51847549 1.51682144 ... 1.51650791 1.51604151 1.51867587]\n",
      " [1.51829619 1.51800849 1.51635495 ... 1.51604151 1.51557526 1.51820881]\n",
      " [1.52093447 1.52064626 1.51898985 ... 1.51867587 1.51820881 1.52084693]]\n"
     ]
    }
   ],
   "source": [
    "kernel_matrix = scores.reshape((item_size, 1)) * similarities * scores.reshape((1, item_size))\n",
    "print('reshaped score:', scores.reshape((item_size, 1)) * scores.reshape((1, item_size)), sep='\\n')"
   ]
  },
  {
   "cell_type": "code",
   "execution_count": 24,
   "metadata": {},
   "outputs": [
    {
     "name": "stdout",
     "output_type": "stream",
     "text": [
      "kernel_matrix:\n",
      "[[1.52102201 1.32300247 1.18405455 ... 1.15190853 1.11719168 1.3473675 ]\n",
      " [1.32300247 1.52044562 1.43506975 ... 1.12262908 1.08514174 1.50517266]\n",
      " [1.18405455 1.43506975 1.51713504 ... 0.77362786 0.76170416 1.35915688]\n",
      " ...\n",
      " [1.15190853 1.12262908 0.77362786 ... 1.51650791 1.5029085  1.23708123]\n",
      " [1.11719168 1.08514174 0.76170416 ... 1.5029085  1.51557526 1.19493036]\n",
      " [1.3473675  1.50517266 1.35915688 ... 1.23708123 1.19493036 1.52084693]]\n"
     ]
    }
   ],
   "source": [
    "print('kernel_matrix:', kernel_matrix, sep='\\n')"
   ]
  },
  {
   "cell_type": "code",
   "execution_count": 25,
   "metadata": {},
   "outputs": [
    {
     "name": "stdout",
     "output_type": "stream",
     "text": [
      "scores: [1.23329721 1.23306351 1.23172036 ... 1.23146576 1.23108702 1.23322623]\n",
      "selected_items_index: [1139, 86, 1160, 1628, 1497, 1329, 2013, 950, 2461]\n",
      "selected_items_value: [1.23367806 1.22890701 1.22954114 1.22953143 1.23137566 1.23196214 1.23133099 1.23122791 1.23017017]\n"
     ]
    }
   ],
   "source": [
    "cis = np.zeros((max_length, item_size))\n",
    "di2s = np.copy(np.diag(kernel_matrix))\n",
    "selected_items = list()\n",
    "selected_item = np.argmax(di2s)\n",
    "selected_items.append(selected_item)\n",
    "\n",
    "while len(selected_items) < max_length:\n",
    "    k = len(selected_items) - 1\n",
    "    ci_optimal = cis[:k, selected_item]\n",
    "    di_optimal = math.sqrt(di2s[selected_item])\n",
    "    elements = kernel_matrix[selected_item, :]\n",
    "    eis = (elements - np.dot(ci_optimal, cis[:k, :])) / di_optimal\n",
    "    cis[k, :] = eis\n",
    "    di2s -= np.square(eis)\n",
    "    di2s[selected_item] = -np.inf\n",
    "    selected_item = np.argmax(di2s)\n",
    "    if di2s[selected_item] < epsilon:\n",
    "        break\n",
    "    selected_items.append(selected_item)\n",
    "    \n",
    "print('scores:', scores)\n",
    "print('selected_items_index:', selected_items)\n",
    "print(\"selected_items_value:\", scores[selected_items])"
   ]
  },
  {
   "cell_type": "code",
   "execution_count": 26,
   "metadata": {},
   "outputs": [],
   "source": [
    "# 如上得到的是user的推荐结果列表，该方法认为每个用户具有相同的多样性偏好\n",
    "# 有的用户调用了3个不同的服务，有的用户调用了30个不同的服务，这两者的多样性偏好显然是不同的\n",
    "# 我们需要根据用户的服务调用历史记录来计算用户的多样性偏好"
   ]
  },
  {
   "cell_type": "code",
   "execution_count": 27,
   "metadata": {},
   "outputs": [
    {
     "name": "stdout",
     "output_type": "stream",
     "text": [
      "user.representative_item_index: 1139\n",
      "user.representative_item_value: [266.74  85.     4.4   86.    53.    89.    66.    82.44  10.  ]\n",
      "selected_items_index: [1139, 86, 1160, 1628, 1497, 1329, 2013, 950, 2461]\n",
      "selected_items_value:\n",
      " [[2.6674e+02 8.5000e+01 4.4000e+00 8.6000e+01 5.3000e+01 8.9000e+01 6.6000e+01 8.2440e+01 1.0000e+01]\n",
      " [4.3000e+01 4.7000e+01 3.6000e+00 4.7000e+01 8.0000e+01 1.0000e+02 8.3000e+01 5.1700e+00 9.5000e+01]\n",
      " [4.1000e+01 9.7000e+01 4.3100e+01 9.9000e+01 7.3000e+01 1.0000e+02 8.4000e+01 1.0000e+00 5.0000e+00]\n",
      " [4.8350e+01 1.0000e+01 1.4900e+01 1.0000e+01 6.7000e+01 7.8000e+01 8.2000e+01 2.9200e+00 4.0000e+00]\n",
      " [1.2840e+03 9.4000e+01 8.2000e+00 9.8000e+01 6.7000e+01 1.0000e+02 8.2000e+01 1.2360e+03 5.0000e+00]\n",
      " [1.1767e+02 9.4000e+01 3.0000e+00 9.5000e+01 7.8000e+01 3.3000e+01 8.9000e+01 7.8400e+00 4.0000e+00]\n",
      " [1.3218e+02 1.3000e+01 9.0000e+00 1.4000e+01 3.3000e+01 7.8000e+01 5.9000e+01 6.5700e+00 9.6000e+01]\n",
      " [8.2000e+01 8.3000e+01 3.8700e+01 8.4000e+01 8.0000e+01 8.9000e+01 5.7000e+01 2.0000e+00 3.0000e+00]\n",
      " [4.9500e+01 8.5000e+01 1.8000e+00 9.5000e+01 6.7000e+01 7.8000e+01 7.2000e+01 1.5000e+00 3.4000e+01]]\n"
     ]
    }
   ],
   "source": [
    "# 如何评价推荐结果的准确度\n",
    "# 如上我们选择出了推荐列表，计算他们与参考服务的相似度，然后计算推荐列表的平均相似度\n",
    "print(f\"user.representative_item_index: {user.representative_item_index}\")\n",
    "print(f\"user.representative_item_value: {pd_data.iloc[user.representative_item_index].values.astype(float)}\")\n",
    "print(f\"selected_items_index: {selected_items}\")\n",
    "print(f\"selected_items_value:\\n {pd_data.iloc[[index for index in selected_items],:].values.astype(float)}\")\n"
   ]
  },
  {
   "cell_type": "code",
   "execution_count": 28,
   "metadata": {},
   "outputs": [
    {
     "data": {
      "text/plain": [
       "[1139, 86, 1160, 1628, 1497, 1329, 2013, 950, 2461]"
      ]
     },
     "execution_count": 28,
     "metadata": {},
     "output_type": "execute_result"
    }
   ],
   "source": [
    "[index for index in selected_items]"
   ]
  }
 ],
 "metadata": {
  "interpreter": {
   "hash": "f26cd6e0b5ac18e57192a5a821bea7993ebc578946ba8b6ebe443716728746ce"
  },
  "kernelspec": {
   "display_name": "Python 3.8.12 ('dpp')",
   "language": "python",
   "name": "python3"
  },
  "language_info": {
   "codemirror_mode": {
    "name": "ipython",
    "version": 3
   },
   "file_extension": ".py",
   "mimetype": "text/x-python",
   "name": "python",
   "nbconvert_exporter": "python",
   "pygments_lexer": "ipython3",
   "version": "3.10.4"
  },
  "orig_nbformat": 4
 },
 "nbformat": 4,
 "nbformat_minor": 2
}
