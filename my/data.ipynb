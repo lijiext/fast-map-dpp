{
 "cells": [
  {
   "cell_type": "code",
   "execution_count": 1,
   "metadata": {},
   "outputs": [],
   "source": [
    "import numpy as np, pandas as pd, matplotlib.pyplot as plt, math, random"
   ]
  },
  {
   "cell_type": "code",
   "execution_count": 2,
   "metadata": {},
   "outputs": [],
   "source": [
    "np.set_printoptions(linewidth=400)"
   ]
  },
  {
   "cell_type": "code",
   "execution_count": 3,
   "metadata": {},
   "outputs": [
    {
     "data": {
      "text/plain": [
       "pandas.core.frame.DataFrame"
      ]
     },
     "execution_count": 3,
     "metadata": {},
     "output_type": "execute_result"
    }
   ],
   "source": [
    "data = pd.read_table('qws2.CSV', header=None, delimiter=',')\n",
    "\n",
    "pd_data = data.iloc[:, 0:9]\n",
    "type(pd_data)"
   ]
  },
  {
   "cell_type": "code",
   "execution_count": 4,
   "metadata": {},
   "outputs": [],
   "source": [
    "item_size = pd_data.shape[0]-1\n",
    "\n",
    "feature_dimension = pd_data.shape[1]\n",
    "\n",
    "max_length = 10\n",
    "\n",
    "epsilon = 1E-10"
   ]
  },
  {
   "cell_type": "code",
   "execution_count": 5,
   "metadata": {},
   "outputs": [
    {
     "name": "stdout",
     "output_type": "stream",
     "text": [
      "scores: [1.22788456 1.21130229 1.23554194 ... 1.22432022 1.23240425 1.20728847]\n"
     ]
    }
   ],
   "source": [
    "scores = np.exp(0.01 * np.random.randn(item_size) + 0.2)\n",
    "print('scores:', scores)"
   ]
  },
  {
   "cell_type": "code",
   "execution_count": 6,
   "metadata": {},
   "outputs": [
    {
     "name": "stdout",
     "output_type": "stream",
     "text": [
      "<class 'numpy.ndarray'>\n",
      "[[3.0275e+02 8.9000e+01 7.1000e+00 ... 8.0000e+01 1.8775e+02 3.2000e+01]\n",
      " [4.8200e+02 8.5000e+01 1.6000e+01 ... 8.4000e+01 1.0000e+00 2.0000e+00]\n",
      " [3.3214e+03 8.9000e+01 1.4000e+00 ... 8.0000e+01 2.6000e+00 9.6000e+01]\n",
      " ...\n",
      " [9.3930e+01 8.0000e+01 2.1000e+00 ... 8.2000e+01 3.7200e+00 6.0000e+01]\n",
      " [1.0675e+02 8.6000e+01 1.3000e+00 ... 8.7000e+01 1.2500e+00 9.6000e+01]\n",
      " [3.1650e+02 7.2000e+01 1.5900e+01 ... 8.7000e+01 5.5000e+00 8.0000e+00]]\n"
     ]
    }
   ],
   "source": [
    "feature_vectors = pd_data.loc[1:,:].values.astype(float)\n",
    "\n",
    "print(type(feature_vectors))\n",
    "print(feature_vectors)"
   ]
  },
  {
   "cell_type": "code",
   "execution_count": 7,
   "metadata": {},
   "outputs": [
    {
     "name": "stdout",
     "output_type": "stream",
     "text": [
      "l2_norm_feature_vectors:\n",
      "[[7.52615874e-01 2.21247937e-01 1.76501163e-02 ... 1.98874550e-01 4.66733709e-01 7.95498199e-02]\n",
      " [9.25520798e-01 1.63214249e-01 3.07226821e-02 ... 1.61294081e-01 1.92016763e-03 3.84033526e-03]\n",
      " [9.98003821e-01 2.67424399e-02 4.20667595e-04 ... 2.40381483e-02 7.81239819e-04 2.88457779e-02]\n",
      " ...\n",
      " [4.55423370e-01 3.87883207e-01 1.01819342e-02 ... 3.97580287e-01 1.80365691e-02 2.90912405e-01]\n",
      " [4.46778607e-01 3.59934053e-01 5.44086360e-03 ... 3.64119333e-01 5.23159961e-03 4.01786850e-01]\n",
      " [8.68583913e-01 1.97592549e-01 4.36350212e-02 ... 2.38757663e-01 1.50938753e-02 2.19547277e-02]]\n",
      "similarities:\n",
      "[[1.         0.86997638 0.77945642 ... 0.75845166 0.73581933 0.88588136]\n",
      " [0.86997638 1.         0.94487737 ... 0.73931327 0.71484563 0.98982433]\n",
      " [0.77945642 0.94487737 1.         ... 0.51003225 0.50232576 0.8947768 ]\n",
      " ...\n",
      " [0.75845166 0.73931327 0.51003225 ... 1.         0.9913373  0.81457884]\n",
      " [0.73581933 0.71484563 0.50232576 ... 0.9913373  1.         0.78706589]\n",
      " [0.88588136 0.98982433 0.8947768  ... 0.81457884 0.78706589 1.        ]]\n",
      "reshaeped score:\n",
      "[[1.5077005  1.48733939 1.51710287 ... 1.50332389 1.51325015 1.48241088]\n",
      " [1.48733939 1.46725325 1.49661478 ... 1.48302189 1.49281409 1.4623913 ]\n",
      " [1.51710287 1.49661478 1.52656388 ... 1.51269897 1.52268713 1.49165554]\n",
      " ...\n",
      " [1.50332389 1.48302189 1.51269897 ... 1.49895999 1.50885744 1.47810769]\n",
      " [1.51325015 1.49281409 1.52268713 ... 1.50885744 1.51882023 1.48786745]\n",
      " [1.48241088 1.4623913  1.49165554 ... 1.47810769 1.48786745 1.45754546]]\n",
      "kernel_matrix:\n",
      "[[1.5077005  1.29395013 1.18251558 ... 1.1401985  1.11347871 1.31324017]\n",
      " [1.29395013 1.46725325 1.41411743 ... 1.09641776 1.06713163 1.44751048]\n",
      " [1.18251558 1.41411743 1.52656388 ... 0.77152527 0.76488497 1.33469877]\n",
      " ...\n",
      " [1.1401985  1.09641776 0.77152527 ... 1.49895999 1.49578666 1.20403524]\n",
      " [1.11347871 1.06713163 0.76488497 ... 1.49578666 1.51882023 1.17104971]\n",
      " [1.31324017 1.44751048 1.33469877 ... 1.20403524 1.17104971 1.45754546]]\n",
      "scores: [1.22788456 1.21130229 1.23554194 ... 1.22432022 1.23240425 1.20728847]\n",
      "selected_items_index: [834, 373, 1628, 2064, 1329, 950, 2168, 1864, 1847]\n",
      "selected_items_value: [1.26145269 1.22693132 1.22329515 1.24480697 1.23773806 1.22644544 1.23250987 1.20297729 1.20578078]\n"
     ]
    }
   ],
   "source": [
    "feature_vectors = feature_vectors / np.linalg.norm(feature_vectors, axis=1, keepdims=True)\n",
    "print('l2_norm_feature_vectors:', feature_vectors, sep='\\n')\n",
    "\n",
    "\n",
    "\n",
    "similarities = np.dot(feature_vectors, feature_vectors.T)\n",
    "print('similarities:', similarities, sep='\\n')\n",
    "\n",
    "\n",
    "\n",
    "kernel_matrix = scores.reshape((item_size, 1)) * similarities * scores.reshape((1, item_size))\n",
    "print('reshaeped score:', scores.reshape((item_size, 1)) * scores.reshape((1, item_size)), sep='\\n')\n",
    "\n",
    "\n",
    "\n",
    "\n",
    "print('kernel_matrix:', kernel_matrix, sep='\\n')\n",
    "\n",
    "\n",
    "\n",
    "cis = np.zeros((max_length, item_size))\n",
    "\n",
    "\n",
    "\n",
    "di2s = np.copy(np.diag(kernel_matrix))\n",
    "\n",
    "\n",
    "\n",
    "\n",
    "selected_items = list()\n",
    "\n",
    "\n",
    "\n",
    "\n",
    "selected_item = np.argmax(di2s)\n",
    "\n",
    "\n",
    "\n",
    "selected_items.append(selected_item)\n",
    "\n",
    "\n",
    "\n",
    "while len(selected_items) < max_length:\n",
    "    k = len(selected_items) - 1\n",
    "    \n",
    "    \n",
    "    ci_optimal = cis[:k, selected_item]\n",
    "    \n",
    "    \n",
    "    di_optimal = math.sqrt(di2s[selected_item])\n",
    "    \n",
    "    \n",
    "    elements = kernel_matrix[selected_item, :]\n",
    "    \n",
    "    \n",
    "    eis = (elements - np.dot(ci_optimal, cis[:k, :])) / di_optimal\n",
    "    \n",
    "    \n",
    "    cis[k, :] = eis\n",
    "    \n",
    "    \n",
    "    di2s -= np.square(eis)\n",
    "    \n",
    "    \n",
    "    di2s[selected_item] = -np.inf\n",
    "    \n",
    "    \n",
    "    selected_item = np.argmax(di2s)\n",
    "    \n",
    "    \n",
    "    if di2s[selected_item] < epsilon:\n",
    "        break\n",
    "        \n",
    "        \n",
    "    selected_items.append(selected_item)\n",
    "    \n",
    "    \n",
    "    \n",
    "    \n",
    "print('scores:', scores)\n",
    "print('selected_items_index:', selected_items)\n",
    "print(\"selected_items_value:\", scores[selected_items])\n"
   ]
  },
  {
   "cell_type": "code",
   "execution_count": 8,
   "metadata": {},
   "outputs": [],
   "source": [
    "# 产生十个用户，随机挑选5-15个item，作为服务调用历史记录\n",
    "# 并选择其中的一个服务作为约束条件，也就是参考服务"
   ]
  },
  {
   "cell_type": "code",
   "execution_count": 38,
   "metadata": {},
   "outputs": [],
   "source": [
    "class User:\n",
    "    call_num = np.random.randint(5, 15 + 1) # [low, hight + 1)\n",
    "    call_history = np.random.choice(item_size, call_num, replace=False) # 从item_size中随机挑选call_num个数，不重复\n",
    "    representative_item_index = call_history[np.random.randint(0, call_num)] # 随机选择一个item作为参考服务\n",
    "    representative_item = None\n",
    "    def __init__(self):\n",
    "        print(f'call_num: {self.call_num}')\n",
    "        print(f'call_history: {self.call_history}')\n",
    "        print(f'representative_item: {self.representative_item_index}')\n",
    "    def set_representative_item(self, item_value):\n",
    "        self.representative_item = item_value\n",
    "    def __str__(self):\n",
    "        return f'call_num: {self.call_num} \\ncall_history: {self.call_history} \\nrepresentative_item_index: {self.representative_item_index} \\nrepresentative_item: {self.representative_item}'\n"
   ]
  },
  {
   "cell_type": "code",
   "execution_count": 40,
   "metadata": {},
   "outputs": [
    {
     "name": "stdout",
     "output_type": "stream",
     "text": [
      "call_num: 13\n",
      "call_history: [2394  100 1150  851 1649  262 1969  700 2431 1993 2135  993  933]\n",
      "representative_item: 262\n"
     ]
    }
   ],
   "source": [
    "user = User()"
   ]
  },
  {
   "cell_type": "code",
   "execution_count": 41,
   "metadata": {},
   "outputs": [],
   "source": [
    "user.set_representative_item(pd_data.iloc[user.representative_item_index].values.astype(float))"
   ]
  },
  {
   "cell_type": "code",
   "execution_count": 42,
   "metadata": {},
   "outputs": [
    {
     "name": "stdout",
     "output_type": "stream",
     "text": [
      "call_num: 13 \n",
      "call_history: [2394  100 1150  851 1649  262 1969  700 2431 1993 2135  993  933] \n",
      "representative_item_index: 262 \n",
      "representative_item: [272.43  85.     1.9   86.    53.    89.    66.    69.39   7.  ]\n"
     ]
    }
   ],
   "source": [
    "print(user)"
   ]
  },
  {
   "cell_type": "code",
   "execution_count": null,
   "metadata": {},
   "outputs": [],
   "source": []
  }
 ],
 "metadata": {
  "interpreter": {
   "hash": "f26cd6e0b5ac18e57192a5a821bea7993ebc578946ba8b6ebe443716728746ce"
  },
  "kernelspec": {
   "display_name": "Python 3.8.12 ('dpp')",
   "language": "python",
   "name": "python3"
  },
  "language_info": {
   "codemirror_mode": {
    "name": "ipython",
    "version": 3
   },
   "file_extension": ".py",
   "mimetype": "text/x-python",
   "name": "python",
   "nbconvert_exporter": "python",
   "pygments_lexer": "ipython3",
   "version": "3.8.12"
  },
  "orig_nbformat": 4
 },
 "nbformat": 4,
 "nbformat_minor": 2
}
