{
 "cells": [
  {
   "cell_type": "code",
   "execution_count": 48,
   "metadata": {},
   "outputs": [],
   "source": [
    "import numpy as np, pandas as pd, matplotlib.pyplot as plt, math"
   ]
  },
  {
   "cell_type": "code",
   "execution_count": 49,
   "metadata": {},
   "outputs": [],
   "source": [
    "np.set_printoptions(linewidth=400)"
   ]
  },
  {
   "cell_type": "code",
   "execution_count": 50,
   "metadata": {},
   "outputs": [
    {
     "data": {
      "text/plain": [
       "pandas.core.frame.DataFrame"
      ]
     },
     "execution_count": 50,
     "metadata": {},
     "output_type": "execute_result"
    }
   ],
   "source": [
    "data = pd.read_table('qws2.CSV', header=None, delimiter=',')\n",
    "\n",
    "pd_data = data.iloc[:, 0:9]\n",
    "type(pd_data)"
   ]
  },
  {
   "cell_type": "code",
   "execution_count": 51,
   "metadata": {},
   "outputs": [],
   "source": [
    "item_size = pd_data.shape[0]-1\n",
    "\n",
    "feature_dimension = pd_data.shape[1]\n",
    "\n",
    "max_length = 10\n",
    "\n",
    "epsilon = 1E-10"
   ]
  },
  {
   "cell_type": "code",
   "execution_count": 52,
   "metadata": {},
   "outputs": [
    {
     "name": "stdout",
     "output_type": "stream",
     "text": [
      "scores: [1.21787751 1.20657502 1.21975951 ... 1.23350433 1.2622183  1.23345331]\n"
     ]
    }
   ],
   "source": [
    "scores = np.exp(0.01 * np.random.randn(item_size) + 0.2)\n",
    "print('scores:', scores)"
   ]
  },
  {
   "cell_type": "code",
   "execution_count": 53,
   "metadata": {},
   "outputs": [
    {
     "name": "stdout",
     "output_type": "stream",
     "text": [
      "<class 'numpy.ndarray'>\n",
      "[[3.0275e+02 8.9000e+01 7.1000e+00 ... 8.0000e+01 1.8775e+02 3.2000e+01]\n",
      " [4.8200e+02 8.5000e+01 1.6000e+01 ... 8.4000e+01 1.0000e+00 2.0000e+00]\n",
      " [3.3214e+03 8.9000e+01 1.4000e+00 ... 8.0000e+01 2.6000e+00 9.6000e+01]\n",
      " ...\n",
      " [9.3930e+01 8.0000e+01 2.1000e+00 ... 8.2000e+01 3.7200e+00 6.0000e+01]\n",
      " [1.0675e+02 8.6000e+01 1.3000e+00 ... 8.7000e+01 1.2500e+00 9.6000e+01]\n",
      " [3.1650e+02 7.2000e+01 1.5900e+01 ... 8.7000e+01 5.5000e+00 8.0000e+00]]\n"
     ]
    }
   ],
   "source": [
    "feature_vectors = pd_data.loc[1:,:].values.astype(float)\n",
    "\n",
    "print(type(feature_vectors))\n",
    "print(feature_vectors)"
   ]
  },
  {
   "cell_type": "code",
   "execution_count": 54,
   "metadata": {},
   "outputs": [
    {
     "name": "stdout",
     "output_type": "stream",
     "text": [
      "l2_norm_feature_vectors:\n",
      "[[7.52615874e-01 2.21247937e-01 1.76501163e-02 ... 1.98874550e-01 4.66733709e-01 7.95498199e-02]\n",
      " [9.25520798e-01 1.63214249e-01 3.07226821e-02 ... 1.61294081e-01 1.92016763e-03 3.84033526e-03]\n",
      " [9.98003821e-01 2.67424399e-02 4.20667595e-04 ... 2.40381483e-02 7.81239819e-04 2.88457779e-02]\n",
      " ...\n",
      " [4.55423370e-01 3.87883207e-01 1.01819342e-02 ... 3.97580287e-01 1.80365691e-02 2.90912405e-01]\n",
      " [4.46778607e-01 3.59934053e-01 5.44086360e-03 ... 3.64119333e-01 5.23159961e-03 4.01786850e-01]\n",
      " [8.68583913e-01 1.97592549e-01 4.36350212e-02 ... 2.38757663e-01 1.50938753e-02 2.19547277e-02]]\n",
      "similarities:\n",
      "[[1.         0.86997638 0.77945642 ... 0.75845166 0.73581933 0.88588136]\n",
      " [0.86997638 1.         0.94487737 ... 0.73931327 0.71484563 0.98982433]\n",
      " [0.77945642 0.94487737 1.         ... 0.51003225 0.50232576 0.8947768 ]\n",
      " ...\n",
      " [0.75845166 0.73931327 0.51003225 ... 1.         0.9913373  0.81457884]\n",
      " [0.73581933 0.71484563 0.50232576 ... 0.9913373  1.         0.78706589]\n",
      " [0.88588136 0.98982433 0.8947768  ... 0.81457884 0.78706589 1.        ]]\n",
      "reshaeped score:\n",
      "[[1.48322564 1.46946059 1.48551768 ... 1.50225719 1.53722728 1.50219505]\n",
      " [1.46946059 1.45582328 1.47173136 ... 1.48831552 1.52296107 1.48825395]\n",
      " [1.48551768 1.47173136 1.48781326 ... 1.50457864 1.53960278 1.50451641]\n",
      " ...\n",
      " [1.50225719 1.48831552 1.50457864 ... 1.52153294 1.55695174 1.52147   ]\n",
      " [1.53722728 1.52296107 1.53960278 ... 1.55695174 1.59319504 1.55688734]\n",
      " [1.50219505 1.48825395 1.50451641 ... 1.52147    1.55688734 1.52140707]]\n",
      "kernel_matrix:\n",
      "[[1.48322564 1.278396   1.1578963  ... 1.13938946 1.13112154 1.3307666 ]\n",
      " [1.278396   1.45582328 1.39060565 ... 1.10033141 1.08868207 1.47310997]\n",
      " [1.1578963  1.39060565 1.48781326 ... 0.76738364 0.77338214 1.34620638]\n",
      " ...\n",
      " [1.13938946 1.10033141 0.76738364 ... 1.52153294 1.54346434 1.23935727]\n",
      " [1.13112154 1.08868207 0.77338214 ... 1.54346434 1.59319504 1.22537292]\n",
      " [1.3307666  1.47310997 1.34620638 ... 1.23935727 1.22537292 1.52140707]]\n",
      "scores: [1.21787751 1.20657502 1.21975951 ... 1.23350433 1.2622183  1.23345331]\n",
      "selected_items_index: [2505, 373, 1628, 752, 413, 1329, 950, 1864, 1847]\n",
      "selected_items_value: [1.2622183  1.2404186  1.23870324 1.24195031 1.22901413 1.23096479 1.22383152 1.22353348 1.22394121]\n"
     ]
    }
   ],
   "source": [
    "feature_vectors = feature_vectors / np.linalg.norm(feature_vectors, axis=1, keepdims=True)\n",
    "print('l2_norm_feature_vectors:', feature_vectors, sep='\\n')\n",
    "\n",
    "\n",
    "\n",
    "similarities = np.dot(feature_vectors, feature_vectors.T)\n",
    "print('similarities:', similarities, sep='\\n')\n",
    "\n",
    "\n",
    "\n",
    "kernel_matrix = scores.reshape((item_size, 1)) * similarities * scores.reshape((1, item_size))\n",
    "print('reshaeped score:', scores.reshape((item_size, 1)) * scores.reshape((1, item_size)), sep='\\n')\n",
    "\n",
    "\n",
    "\n",
    "\n",
    "print('kernel_matrix:', kernel_matrix, sep='\\n')\n",
    "\n",
    "\n",
    "\n",
    "cis = np.zeros((max_length, item_size))\n",
    "\n",
    "\n",
    "\n",
    "di2s = np.copy(np.diag(kernel_matrix))\n",
    "\n",
    "\n",
    "\n",
    "\n",
    "selected_items = list()\n",
    "\n",
    "\n",
    "\n",
    "\n",
    "selected_item = np.argmax(di2s)\n",
    "\n",
    "\n",
    "\n",
    "selected_items.append(selected_item)\n",
    "\n",
    "\n",
    "\n",
    "while len(selected_items) < max_length:\n",
    "    k = len(selected_items) - 1\n",
    "    \n",
    "    \n",
    "    ci_optimal = cis[:k, selected_item]\n",
    "    \n",
    "    \n",
    "    di_optimal = math.sqrt(di2s[selected_item])\n",
    "    \n",
    "    \n",
    "    elements = kernel_matrix[selected_item, :]\n",
    "    \n",
    "    \n",
    "    eis = (elements - np.dot(ci_optimal, cis[:k, :])) / di_optimal\n",
    "    \n",
    "    \n",
    "    cis[k, :] = eis\n",
    "    \n",
    "    \n",
    "    di2s -= np.square(eis)\n",
    "    \n",
    "    \n",
    "    di2s[selected_item] = -np.inf\n",
    "    \n",
    "    \n",
    "    selected_item = np.argmax(di2s)\n",
    "    \n",
    "    \n",
    "    if di2s[selected_item] < epsilon:\n",
    "        break\n",
    "        \n",
    "        \n",
    "    selected_items.append(selected_item)\n",
    "    \n",
    "    \n",
    "    \n",
    "    \n",
    "print('scores:', scores)\n",
    "print('selected_items_index:', selected_items)\n",
    "print(\"selected_items_value:\", scores[selected_items])\n"
   ]
  }
 ],
 "metadata": {
  "interpreter": {
   "hash": "f26cd6e0b5ac18e57192a5a821bea7993ebc578946ba8b6ebe443716728746ce"
  },
  "kernelspec": {
   "display_name": "Python 3.8.12 ('dpp')",
   "language": "python",
   "name": "python3"
  },
  "language_info": {
   "codemirror_mode": {
    "name": "ipython",
    "version": 3
   },
   "file_extension": ".py",
   "mimetype": "text/x-python",
   "name": "python",
   "nbconvert_exporter": "python",
   "pygments_lexer": "ipython3",
   "version": "3.8.12"
  },
  "orig_nbformat": 4
 },
 "nbformat": 4,
 "nbformat_minor": 2
}
