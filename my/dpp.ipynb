{
 "cells": [
  {
   "cell_type": "code",
   "execution_count": 3,
   "metadata": {},
   "outputs": [],
   "source": [
    "import numpy as np\n",
    "import math"
   ]
  },
  {
   "cell_type": "code",
   "execution_count": 4,
   "metadata": {},
   "outputs": [],
   "source": [
    "np.set_printoptions(linewidth=400)"
   ]
  },
  {
   "cell_type": "code",
   "execution_count": 5,
   "metadata": {},
   "outputs": [],
   "source": [
    "item_size = 5\n",
    "\n",
    "feature_dimension = 3\n",
    "\n",
    "max_length = 5\n",
    "\n",
    "epsilon = 1E-10"
   ]
  },
  {
   "cell_type": "code",
   "execution_count": 6,
   "metadata": {},
   "outputs": [
    {
     "name": "stdout",
     "output_type": "stream",
     "text": [
      "scores: [1.21485832 1.22597906 1.21557559 1.22867031 1.2155553 ]\n"
     ]
    }
   ],
   "source": [
    "scores = np.exp(0.01 * np.random.randn(item_size) + 0.2)\n",
    "print('scores:', scores)"
   ]
  },
  {
   "cell_type": "code",
   "execution_count": 21,
   "metadata": {},
   "outputs": [
    {
     "name": "stdout",
     "output_type": "stream",
     "text": [
      "feature_vectors:\n",
      "[[-0.37533169 -0.62744054  1.1600546 ]\n",
      " [-1.12609098  1.30291244 -0.08620326]\n",
      " [-0.33098967 -0.47158015  0.01218476]\n",
      " [-0.75957941 -0.14197233  0.84905149]\n",
      " [-0.46273288 -0.24686378 -0.76583849]]\n",
      "[[-0.37533169 -0.62744054  1.1600546 ]\n",
      " [-1.12609098  1.30291244 -0.08620326]\n",
      " [-0.33098967 -0.47158015  0.01218476]\n",
      " [-0.75957941 -0.14197233  0.84905149]\n",
      " [-0.46273288 -0.24686378 -0.76583849]]\n"
     ]
    }
   ],
   "source": [
    "feature_vectors = np.random.randn(item_size, feature_dimension)\n",
    "print('feature_vectors:', feature_vectors, sep='\\n')\n",
    "print(feature_vectors)"
   ]
  },
  {
   "cell_type": "code",
   "execution_count": 8,
   "metadata": {},
   "outputs": [
    {
     "name": "stdout",
     "output_type": "stream",
     "text": [
      "l2_norm_feature_vectors:\n",
      "[[-0.2827005  -0.95909892 -0.01448061]\n",
      " [-0.31479547 -0.37614362 -0.87144695]\n",
      " [ 0.88255676 -0.46664144 -0.05778697]\n",
      " [ 0.76164137 -0.47612993  0.43954831]\n",
      " [ 0.62716036 -0.53082275 -0.56999744]]\n"
     ]
    }
   ],
   "source": [
    "feature_vectors = feature_vectors / np.linalg.norm(feature_vectors, axis=1, keepdims=True)\n",
    "print('l2_norm_feature_vectors:', feature_vectors, sep='\\n')"
   ]
  },
  {
   "cell_type": "code",
   "execution_count": 9,
   "metadata": {},
   "outputs": [
    {
     "name": "stdout",
     "output_type": "stream",
     "text": [
      "similarities:\n",
      "[[ 1.          0.46237087  0.19889286  0.23497438  0.34006689]\n",
      " [ 0.46237087  1.         -0.0519424  -0.44371106  0.49896088]\n",
      " [ 0.19889286 -0.0519424   1.          0.86897353  0.83414693]\n",
      " [ 0.23497438 -0.44371106  0.86897353  1.          0.47987046]\n",
      " [ 0.34006689  0.49896088  0.83414693  0.47987046  1.        ]]\n"
     ]
    }
   ],
   "source": [
    "similarities = np.dot(feature_vectors, feature_vectors.T)\n",
    "print('similarities:', similarities, sep='\\n')"
   ]
  },
  {
   "cell_type": "code",
   "execution_count": 10,
   "metadata": {},
   "outputs": [
    {
     "name": "stdout",
     "output_type": "stream",
     "text": [
      "reshaeped score:\n",
      "[[1.47588074 1.48939087 1.47675212 1.49266034 1.47672747]\n",
      " [1.48939087 1.50302467 1.49027023 1.50632407 1.49024535]\n",
      " [1.47675212 1.49027023 1.47762402 1.49354163 1.47759936]\n",
      " [1.49266034 1.50632407 1.49354163 1.50963072 1.4935167 ]\n",
      " [1.47672747 1.49024535 1.47759936 1.4935167  1.47757469]]\n"
     ]
    }
   ],
   "source": [
    "kernel_matrix = scores.reshape((item_size, 1)) * similarities * scores.reshape((1, item_size))\n",
    "print('reshaeped score:', scores.reshape((item_size, 1)) * scores.reshape((1, item_size)), sep='\\n')"
   ]
  },
  {
   "cell_type": "code",
   "execution_count": 11,
   "metadata": {},
   "outputs": [
    {
     "name": "stdout",
     "output_type": "stream",
     "text": [
      "kernel_matrix:\n",
      "[[ 1.47588074  0.68865094  0.29371545  0.35073694  0.50218612]\n",
      " [ 0.68865094  1.50302467 -0.07740821 -0.66837264  0.74357413]\n",
      " [ 0.29371545 -0.07740821  1.47762402  1.29784814  1.23253497]\n",
      " [ 0.35073694 -0.66837264  1.29784814  1.50963072  0.71669454]\n",
      " [ 0.50218612  0.74357413  1.23253497  0.71669454  1.47757469]]\n"
     ]
    }
   ],
   "source": [
    "print('kernel_matrix:', kernel_matrix, sep='\\n')"
   ]
  },
  {
   "cell_type": "code",
   "execution_count": 12,
   "metadata": {},
   "outputs": [],
   "source": [
    "cis = np.zeros((max_length, item_size))"
   ]
  },
  {
   "cell_type": "code",
   "execution_count": 13,
   "metadata": {},
   "outputs": [],
   "source": [
    "di2s = np.copy(np.diag(kernel_matrix))"
   ]
  },
  {
   "cell_type": "code",
   "execution_count": 14,
   "metadata": {},
   "outputs": [],
   "source": [
    "selected_items = list()"
   ]
  },
  {
   "cell_type": "code",
   "execution_count": 15,
   "metadata": {},
   "outputs": [],
   "source": [
    "selected_item = np.argmax(di2s)"
   ]
  },
  {
   "cell_type": "code",
   "execution_count": 16,
   "metadata": {},
   "outputs": [],
   "source": [
    "selected_items.append(selected_item)"
   ]
  },
  {
   "cell_type": "code",
   "execution_count": 17,
   "metadata": {},
   "outputs": [],
   "source": [
    "while len(selected_items) < max_length:\n",
    "    k = len(selected_items) - 1\n",
    "    \n",
    "    \n",
    "    ci_optimal = cis[:k, selected_item]\n",
    "    \n",
    "    \n",
    "    di_optimal = math.sqrt(di2s[selected_item])\n",
    "    \n",
    "    \n",
    "    elements = kernel_matrix[selected_item, :]\n",
    "    \n",
    "    \n",
    "    eis = (elements - np.dot(ci_optimal, cis[:k, :])) / di_optimal\n",
    "    \n",
    "    \n",
    "    cis[k, :] = eis\n",
    "    \n",
    "    \n",
    "    di2s -= np.square(eis)\n",
    "    \n",
    "    \n",
    "    di2s[selected_item] = -np.inf\n",
    "    \n",
    "    \n",
    "    selected_item = np.argmax(di2s)\n",
    "    \n",
    "    \n",
    "    if di2s[selected_item] < epsilon:\n",
    "        break\n",
    "        \n",
    "        \n",
    "    selected_items.append(selected_item)"
   ]
  },
  {
   "cell_type": "code",
   "execution_count": 18,
   "metadata": {},
   "outputs": [
    {
     "name": "stdout",
     "output_type": "stream",
     "text": [
      "scores: [1.21485832 1.22597906 1.21557559 1.22867031 1.2155553 ]\n",
      "selected_items_index: [3, 0, 4]\n",
      "selected_items_value: [1.22867031 1.21485832 1.2155553 ]\n"
     ]
    }
   ],
   "source": [
    "print('scores:', scores)\n",
    "print('selected_items_index:', selected_items)\n",
    "print(\"selected_items_value:\", scores[selected_items])"
   ]
  }
 ],
 "metadata": {
  "interpreter": {
   "hash": "f26cd6e0b5ac18e57192a5a821bea7993ebc578946ba8b6ebe443716728746ce"
  },
  "kernelspec": {
   "display_name": "Python 3.8.12 ('dpp')",
   "language": "python",
   "name": "python3"
  },
  "language_info": {
   "codemirror_mode": {
    "name": "ipython",
    "version": 3
   },
   "file_extension": ".py",
   "mimetype": "text/x-python",
   "name": "python",
   "nbconvert_exporter": "python",
   "pygments_lexer": "ipython3",
   "version": "3.8.12"
  },
  "orig_nbformat": 4
 },
 "nbformat": 4,
 "nbformat_minor": 2
}
