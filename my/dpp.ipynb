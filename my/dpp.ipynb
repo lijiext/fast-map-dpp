{
 "cells": [
  {
   "cell_type": "code",
   "execution_count": 1,
   "metadata": {},
   "outputs": [],
   "source": [
    "import numpy as np\n",
    "import math"
   ]
  },
  {
   "cell_type": "code",
   "execution_count": 2,
   "metadata": {},
   "outputs": [],
   "source": [
    "np.set_printoptions(linewidth=400)"
   ]
  },
  {
   "cell_type": "code",
   "execution_count": 3,
   "metadata": {},
   "outputs": [],
   "source": [
    "item_size = 5\n",
    "\n",
    "feature_dimension = 3\n",
    "\n",
    "max_length = 5\n",
    "\n",
    "epsilon = 1E-10"
   ]
  },
  {
   "cell_type": "code",
   "execution_count": 4,
   "metadata": {},
   "outputs": [
    {
     "name": "stdout",
     "output_type": "stream",
     "text": [
      "scores: [1.20850767 1.20791515 1.24230528 1.22904142 1.22920874]\n"
     ]
    }
   ],
   "source": [
    "scores = np.exp(0.01 * np.random.randn(item_size) + 0.2)\n",
    "print('scores:', scores)"
   ]
  },
  {
   "cell_type": "code",
   "execution_count": 5,
   "metadata": {},
   "outputs": [
    {
     "name": "stdout",
     "output_type": "stream",
     "text": [
      "feature_vectors:\n",
      "[[ 0.43782717  2.02171097  0.45931729]\n",
      " [ 0.07076138 -0.98189445 -0.47485367]\n",
      " [ 0.24727843 -1.89269481 -1.04290832]\n",
      " [ 1.55632871 -0.98386339 -1.49565539]\n",
      " [-0.11288269  0.73328155  0.1642687 ]]\n",
      "[[ 0.43782717  2.02171097  0.45931729]\n",
      " [ 0.07076138 -0.98189445 -0.47485367]\n",
      " [ 0.24727843 -1.89269481 -1.04290832]\n",
      " [ 1.55632871 -0.98386339 -1.49565539]\n",
      " [-0.11288269  0.73328155  0.1642687 ]]\n"
     ]
    }
   ],
   "source": [
    "feature_vectors = np.random.randn(item_size, feature_dimension)\n",
    "print('feature_vectors:', feature_vectors, sep='\\n')\n",
    "print(feature_vectors)"
   ]
  },
  {
   "cell_type": "code",
   "execution_count": 6,
   "metadata": {},
   "outputs": [
    {
     "name": "stdout",
     "output_type": "stream",
     "text": [
      "l2_norm_feature_vectors:\n",
      "[[ 0.20662387  0.9541065   0.21676571]\n",
      " [ 0.06474157 -0.89836278 -0.43445695]\n",
      " [ 0.11368555 -0.87016101 -0.47947411]\n",
      " [ 0.65608152 -0.41475466 -0.63050425]\n",
      " [-0.14855191  0.96498738  0.21617511]]\n"
     ]
    }
   ],
   "source": [
    "feature_vectors = feature_vectors / np.linalg.norm(feature_vectors, axis=1, keepdims=True)\n",
    "print('l2_norm_feature_vectors:', feature_vectors, sep='\\n')"
   ]
  },
  {
   "cell_type": "code",
   "execution_count": 7,
   "metadata": {},
   "outputs": [
    {
     "name": "stdout",
     "output_type": "stream",
     "text": [
      "similarities:\n",
      "[[ 1.         -0.93793198 -0.91066966 -0.39682971  0.93686571]\n",
      " [-0.93793198  1.          0.9973913   0.68900285 -0.97044502]\n",
      " [-0.91066966  0.9973913   1.          0.73780078 -0.96023297]\n",
      " [-0.39682971  0.68900285  0.73780078  1.         -0.63399451]\n",
      " [ 0.93686571 -0.97044502 -0.96023297 -0.63399451  1.        ]]\n"
     ]
    }
   ],
   "source": [
    "similarities = np.dot(feature_vectors, feature_vectors.T)\n",
    "print('similarities:', similarities, sep='\\n')"
   ]
  },
  {
   "cell_type": "code",
   "execution_count": 8,
   "metadata": {},
   "outputs": [
    {
     "name": "stdout",
     "output_type": "stream",
     "text": [
      "reshaeped score:\n",
      "[[1.46049079 1.45977473 1.50133547 1.48530599 1.48550819]\n",
      " [1.45977473 1.45905902 1.50059938 1.48457776 1.48477986]\n",
      " [1.50133547 1.50059938 1.54332242 1.52684465 1.52705251]\n",
      " [1.48530599 1.48457776 1.52684465 1.51054281 1.51074845]\n",
      " [1.48550819 1.48477986 1.52705251 1.51074845 1.51095412]]\n"
     ]
    }
   ],
   "source": [
    "kernel_matrix = scores.reshape((item_size, 1)) * similarities * scores.reshape((1, item_size))\n",
    "print('reshaeped score:', scores.reshape((item_size, 1)) * scores.reshape((1, item_size)), sep='\\n')"
   ]
  },
  {
   "cell_type": "code",
   "execution_count": 9,
   "metadata": {},
   "outputs": [
    {
     "name": "stdout",
     "output_type": "stream",
     "text": [
      "kernel_matrix:\n",
      "[[ 1.46049079 -1.3691694  -1.36722066 -0.58941355  1.39172168]\n",
      " [-1.3691694   1.45905902  1.49668477  1.02287831 -1.44089722]\n",
      " [-1.36722066  1.49668477  1.54332242  1.12650718 -1.46632616]\n",
      " [-0.58941355  1.02287831  1.12650718  1.51054281 -0.95780622]\n",
      " [ 1.39172168 -1.44089722 -1.46632616 -0.95780622  1.51095412]]\n"
     ]
    }
   ],
   "source": [
    "print('kernel_matrix:', kernel_matrix, sep='\\n')"
   ]
  },
  {
   "cell_type": "code",
   "execution_count": 10,
   "metadata": {},
   "outputs": [],
   "source": [
    "cis = np.zeros((max_length, item_size))"
   ]
  },
  {
   "cell_type": "code",
   "execution_count": 11,
   "metadata": {},
   "outputs": [],
   "source": [
    "di2s = np.copy(np.diag(kernel_matrix))"
   ]
  },
  {
   "cell_type": "code",
   "execution_count": 12,
   "metadata": {},
   "outputs": [],
   "source": [
    "selected_items = list()"
   ]
  },
  {
   "cell_type": "code",
   "execution_count": 13,
   "metadata": {},
   "outputs": [],
   "source": [
    "selected_item = np.argmax(di2s)"
   ]
  },
  {
   "cell_type": "code",
   "execution_count": 14,
   "metadata": {},
   "outputs": [],
   "source": [
    "selected_items.append(selected_item)"
   ]
  },
  {
   "cell_type": "code",
   "execution_count": 15,
   "metadata": {},
   "outputs": [],
   "source": [
    "while len(selected_items) < max_length:\n",
    "    k = len(selected_items) - 1\n",
    "    \n",
    "    \n",
    "    ci_optimal = cis[:k, selected_item]\n",
    "    \n",
    "    \n",
    "    di_optimal = math.sqrt(di2s[selected_item])\n",
    "    \n",
    "    \n",
    "    elements = kernel_matrix[selected_item, :]\n",
    "    \n",
    "    \n",
    "    eis = (elements - np.dot(ci_optimal, cis[:k, :])) / di_optimal\n",
    "    \n",
    "    \n",
    "    cis[k, :] = eis\n",
    "    \n",
    "    \n",
    "    di2s -= np.square(eis)\n",
    "    \n",
    "    \n",
    "    di2s[selected_item] = -np.inf\n",
    "    \n",
    "    \n",
    "    selected_item = np.argmax(di2s)\n",
    "    \n",
    "    \n",
    "    if di2s[selected_item] < epsilon:\n",
    "        break\n",
    "        \n",
    "        \n",
    "    selected_items.append(selected_item)"
   ]
  },
  {
   "cell_type": "code",
   "execution_count": 16,
   "metadata": {},
   "outputs": [
    {
     "name": "stdout",
     "output_type": "stream",
     "text": [
      "scores: [1.20850767 1.20791515 1.24230528 1.22904142 1.22920874]\n",
      "selected_items_index: [2, 3, 4]\n",
      "selected_items_value: [1.24230528 1.22904142 1.22920874]\n"
     ]
    }
   ],
   "source": [
    "print('scores:', scores)\n",
    "print('selected_items_index:', selected_items)\n",
    "print(\"selected_items_value:\", scores[selected_items])"
   ]
  }
 ],
 "metadata": {
  "interpreter": {
   "hash": "f26cd6e0b5ac18e57192a5a821bea7993ebc578946ba8b6ebe443716728746ce"
  },
  "kernelspec": {
   "display_name": "Python 3.8.12 ('dpp')",
   "language": "python",
   "name": "python3"
  },
  "language_info": {
   "codemirror_mode": {
    "name": "ipython",
    "version": 3
   },
   "file_extension": ".py",
   "mimetype": "text/x-python",
   "name": "python",
   "nbconvert_exporter": "python",
   "pygments_lexer": "ipython3",
   "version": "3.8.12"
  },
  "orig_nbformat": 4
 },
 "nbformat": 4,
 "nbformat_minor": 2
}
